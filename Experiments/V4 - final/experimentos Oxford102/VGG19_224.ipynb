{
  "nbformat": 4,
  "nbformat_minor": 0,
  "metadata": {
    "colab": {
      "provenance": [],
      "machine_shape": "hm",
      "gpuType": "T4"
    },
    "kernelspec": {
      "name": "python3",
      "display_name": "Python 3"
    },
    "language_info": {
      "name": "python"
    },
    "accelerator": "GPU"
  },
  "cells": [
    {
      "cell_type": "code",
      "execution_count": 1,
      "metadata": {
        "colab": {
          "base_uri": "https://localhost:8080/"
        },
        "id": "lJpaSbx7Jy4p",
        "outputId": "6781dfa7-60ee-4d0c-dd50-b5426c2da78b"
      },
      "outputs": [
        {
          "output_type": "stream",
          "name": "stdout",
          "text": [
            "Looking in indexes: https://pypi.org/simple, https://us-python.pkg.dev/colab-wheels/public/simple/\n",
            "Requirement already satisfied: tensorflow_hub in /usr/local/lib/python3.10/dist-packages (0.13.0)\n",
            "Requirement already satisfied: numpy>=1.12.0 in /usr/local/lib/python3.10/dist-packages (from tensorflow_hub) (1.22.4)\n",
            "Requirement already satisfied: protobuf>=3.19.6 in /usr/local/lib/python3.10/dist-packages (from tensorflow_hub) (3.20.3)\n"
          ]
        }
      ],
      "source": [
        "import itertools\n",
        "import os\n",
        "\n",
        "import matplotlib.pylab as plt\n",
        "import numpy as np\n",
        "\n",
        "import tensorflow as tf\n",
        "import tensorflow_hub as hub\n",
        "from keras.applications.vgg19 import VGG19\n",
        "import tensorflow_datasets as tfds\n",
        "\n",
        "!pip install tensorflow_hub\n",
        "\n",
        "import tensorflow as tf\n",
        "import tensorflow_hub as hub\n",
        "import tensorflow_datasets as tfds\n",
        "import numpy as np\n",
        "import matplotlib.pyplot as plt\n",
        "import functools"
      ]
    },
    {
      "cell_type": "code",
      "source": [
        "(raw_train, raw_validation, raw_test), metadata = tfds.load(\n",
        "    name=\"oxford_flowers102\",\n",
        "    split=['test', 'validation', 'train'],\n",
        "    with_info=True,\n",
        "    as_supervised=True,\n",
        "    batch_size=32\n",
        ")"
      ],
      "metadata": {
        "id": "WlkWShQGNE-Q"
      },
      "execution_count": 2,
      "outputs": []
    },
    {
      "cell_type": "code",
      "source": [
        "img_size = 224\n",
        "batch_size = 16\n",
        "epochs = 40\n",
        "learning_rate = 0.001\n",
        "weight_decay = 0.0001\n",
        "learning_rate = 1e-3"
      ],
      "metadata": {
        "id": "yi2sfqo_NHas"
      },
      "execution_count": 3,
      "outputs": []
    },
    {
      "cell_type": "code",
      "source": [
        "def normalize_img(image, label):\n",
        "  image = tf.cast(image, tf.float32)\n",
        "  image = (image/127.5) - 1\n",
        "  image = tf.image.resize(image, (img_size, img_size))\n",
        "  return  image, label"
      ],
      "metadata": {
        "id": "_WNMcxkuNIsD"
      },
      "execution_count": 4,
      "outputs": []
    },
    {
      "cell_type": "code",
      "source": [
        "train = raw_train.map(normalize_img)\n",
        "validation = raw_validation.map(normalize_img)\n",
        "test = raw_test.map(normalize_img)\n",
        "\n",
        "del raw_train\n",
        "del raw_validation\n",
        "del raw_test"
      ],
      "metadata": {
        "id": "rvg8N_YmNMEw"
      },
      "execution_count": 5,
      "outputs": []
    },
    {
      "cell_type": "code",
      "source": [
        "train = train.unbatch().batch(batch_size,drop_remainder=True).repeat().shuffle(512)\n",
        "validation_data = validation.unbatch().batch(batch_size,drop_remainder=True).repeat()"
      ],
      "metadata": {
        "id": "aH1NYUtiNUkP"
      },
      "execution_count": 6,
      "outputs": []
    },
    {
      "cell_type": "code",
      "source": [
        "steps_per_epoch = metadata.splits[\"train\"].num_examples / batch_size \n",
        "validation_steps = metadata.splits[\"validation\"].num_examples / batch_size"
      ],
      "metadata": {
        "id": "dwLz75vqNXds"
      },
      "execution_count": 7,
      "outputs": []
    },
    {
      "cell_type": "code",
      "source": [
        "vgg19_model = VGG19(\n",
        "    include_top=False, \n",
        "    weights='imagenet', \n",
        "    input_shape=(img_size, img_size,3)\n",
        "    )\n",
        "\n",
        "for layer in vgg19_model.layers:\n",
        "    layer.trainable = False"
      ],
      "metadata": {
        "id": "VmKBz2BaNaBL"
      },
      "execution_count": 8,
      "outputs": []
    },
    {
      "cell_type": "code",
      "source": [
        "model = tf.keras.Sequential([\n",
        "    vgg19_model,\n",
        "    tf.keras.layers.Flatten(name=\"flatten\"),\n",
        "    tf.keras.layers.Dense(4096, activation='relu'),\n",
        "    tf.keras.layers.Dense(4096, activation='relu'),\n",
        "    tf.keras.layers.Dropout(rate=0.2),\n",
        "    tf.keras.layers.Dense(102)\n",
        "])\n",
        "\n",
        "model.summary()"
      ],
      "metadata": {
        "colab": {
          "base_uri": "https://localhost:8080/"
        },
        "id": "BMszLQ33NtOy",
        "outputId": "a03368b6-219b-4e7c-b2f9-57cf201faa9d"
      },
      "execution_count": 9,
      "outputs": [
        {
          "output_type": "stream",
          "name": "stdout",
          "text": [
            "Model: \"sequential\"\n",
            "_________________________________________________________________\n",
            " Layer (type)                Output Shape              Param #   \n",
            "=================================================================\n",
            " vgg19 (Functional)          (None, 7, 7, 512)         20024384  \n",
            "                                                                 \n",
            " flatten (Flatten)           (None, 25088)             0         \n",
            "                                                                 \n",
            " dense (Dense)               (None, 4096)              102764544 \n",
            "                                                                 \n",
            " dense_1 (Dense)             (None, 4096)              16781312  \n",
            "                                                                 \n",
            " dropout (Dropout)           (None, 4096)              0         \n",
            "                                                                 \n",
            " dense_2 (Dense)             (None, 102)               417894    \n",
            "                                                                 \n",
            "=================================================================\n",
            "Total params: 139,988,134\n",
            "Trainable params: 119,963,750\n",
            "Non-trainable params: 20,024,384\n",
            "_________________________________________________________________\n"
          ]
        }
      ]
    },
    {
      "cell_type": "code",
      "source": [
        "def run_experiment(model):\n",
        "\n",
        "  model.compile(\n",
        "  optimizer=tf.keras.optimizers.Adam(learning_rate=.5e-3), \n",
        "  loss=tf.keras.losses.SparseCategoricalCrossentropy(from_logits=True),\n",
        "  metrics=['accuracy'])\n",
        "\n",
        "  checkpoint_filepath = \"/tmp/checkpoint\"\n",
        "  checkpoint_callback = tf.keras.callbacks.ModelCheckpoint(\n",
        "      checkpoint_filepath,\n",
        "      monitor=\"val_accuracy\",\n",
        "      save_best_only=True,\n",
        "      save_weights_only=True,\n",
        "  )\n",
        "\n",
        "  hist = model.fit(\n",
        "    x=train,\n",
        "    epochs=50, \n",
        "    steps_per_epoch=steps_per_epoch,\n",
        "    validation_data=validation_data,\n",
        "    validation_steps=validation_steps,\n",
        "    callbacks=[checkpoint_callback],\n",
        "    verbose=1).history\n",
        "  \n",
        "  model.load_weights(checkpoint_filepath)\n",
        "\n",
        "  return hist"
      ],
      "metadata": {
        "id": "AxUFckg3N4F4"
      },
      "execution_count": 10,
      "outputs": []
    },
    {
      "cell_type": "code",
      "source": [
        "hist = run_experiment(model)"
      ],
      "metadata": {
        "colab": {
          "base_uri": "https://localhost:8080/"
        },
        "id": "PNsfiCONN7UY",
        "outputId": "9e289c01-1ff4-4904-a7d5-1392d35636af"
      },
      "execution_count": 11,
      "outputs": [
        {
          "output_type": "stream",
          "name": "stdout",
          "text": [
            "Epoch 1/50\n",
            "63/63 [==============================] - 74s 389ms/step - loss: 5.6878 - accuracy: 0.0586 - val_loss: 4.6345 - val_accuracy: 0.0322\n",
            "Epoch 2/50\n",
            "63/63 [==============================] - 24s 378ms/step - loss: 3.8114 - accuracy: 0.1660 - val_loss: 3.9609 - val_accuracy: 0.1152\n",
            "Epoch 3/50\n",
            "63/63 [==============================] - 19s 303ms/step - loss: 3.0772 - accuracy: 0.2588 - val_loss: 3.4606 - val_accuracy: 0.2227\n",
            "Epoch 4/50\n",
            "63/63 [==============================] - 24s 380ms/step - loss: 2.5512 - accuracy: 0.3584 - val_loss: 2.9887 - val_accuracy: 0.2666\n",
            "Epoch 5/50\n",
            "63/63 [==============================] - 20s 317ms/step - loss: 2.1818 - accuracy: 0.4443 - val_loss: 2.4956 - val_accuracy: 0.3428\n",
            "Epoch 6/50\n",
            "63/63 [==============================] - 19s 299ms/step - loss: 1.8797 - accuracy: 0.4912 - val_loss: 2.3027 - val_accuracy: 0.3652\n",
            "Epoch 7/50\n",
            "63/63 [==============================] - 24s 382ms/step - loss: 1.6921 - accuracy: 0.5566 - val_loss: 2.1485 - val_accuracy: 0.4336\n",
            "Epoch 8/50\n",
            "63/63 [==============================] - 13s 200ms/step - loss: 1.4669 - accuracy: 0.5869 - val_loss: 2.3423 - val_accuracy: 0.4004\n",
            "Epoch 9/50\n",
            "63/63 [==============================] - 24s 381ms/step - loss: 1.3641 - accuracy: 0.6162 - val_loss: 1.9331 - val_accuracy: 0.4883\n",
            "Epoch 10/50\n",
            "63/63 [==============================] - 17s 262ms/step - loss: 1.1809 - accuracy: 0.6543 - val_loss: 1.9539 - val_accuracy: 0.4854\n",
            "Epoch 11/50\n",
            "63/63 [==============================] - 20s 310ms/step - loss: 1.0544 - accuracy: 0.7207 - val_loss: 1.8014 - val_accuracy: 0.5215\n",
            "Epoch 12/50\n",
            "63/63 [==============================] - 24s 378ms/step - loss: 0.9940 - accuracy: 0.7158 - val_loss: 1.7728 - val_accuracy: 0.5225\n",
            "Epoch 13/50\n",
            "63/63 [==============================] - 19s 302ms/step - loss: 0.8588 - accuracy: 0.7490 - val_loss: 1.7400 - val_accuracy: 0.5410\n",
            "Epoch 14/50\n",
            "63/63 [==============================] - 20s 312ms/step - loss: 0.8915 - accuracy: 0.7578 - val_loss: 1.7610 - val_accuracy: 0.5439\n",
            "Epoch 15/50\n",
            "63/63 [==============================] - 24s 379ms/step - loss: 0.8721 - accuracy: 0.7559 - val_loss: 1.7182 - val_accuracy: 0.5635\n",
            "Epoch 16/50\n",
            "63/63 [==============================] - 24s 385ms/step - loss: 0.7856 - accuracy: 0.7715 - val_loss: 1.5482 - val_accuracy: 0.5879\n",
            "Epoch 17/50\n",
            "63/63 [==============================] - 20s 311ms/step - loss: 0.6291 - accuracy: 0.8262 - val_loss: 1.6006 - val_accuracy: 0.5918\n",
            "Epoch 18/50\n",
            "63/63 [==============================] - 19s 302ms/step - loss: 0.5932 - accuracy: 0.8174 - val_loss: 1.5865 - val_accuracy: 0.6025\n",
            "Epoch 19/50\n",
            "63/63 [==============================] - 12s 195ms/step - loss: 0.4834 - accuracy: 0.8555 - val_loss: 1.5746 - val_accuracy: 0.5908\n",
            "Epoch 20/50\n",
            "63/63 [==============================] - 19s 300ms/step - loss: 0.5293 - accuracy: 0.8525 - val_loss: 1.4573 - val_accuracy: 0.6260\n",
            "Epoch 21/50\n",
            "63/63 [==============================] - 24s 379ms/step - loss: 0.4639 - accuracy: 0.8584 - val_loss: 1.5226 - val_accuracy: 0.6289\n",
            "Epoch 22/50\n",
            "63/63 [==============================] - 13s 209ms/step - loss: 0.3486 - accuracy: 0.8936 - val_loss: 1.6347 - val_accuracy: 0.6055\n",
            "Epoch 23/50\n",
            "63/63 [==============================] - 17s 265ms/step - loss: 0.4415 - accuracy: 0.8730 - val_loss: 1.5414 - val_accuracy: 0.6279\n",
            "Epoch 24/50\n",
            "63/63 [==============================] - 12s 197ms/step - loss: 0.4516 - accuracy: 0.8564 - val_loss: 1.6835 - val_accuracy: 0.6094\n",
            "Epoch 25/50\n",
            "63/63 [==============================] - 30s 482ms/step - loss: 0.4057 - accuracy: 0.8740 - val_loss: 1.5312 - val_accuracy: 0.6318\n",
            "Epoch 26/50\n",
            "63/63 [==============================] - 24s 375ms/step - loss: 0.2871 - accuracy: 0.9160 - val_loss: 1.4430 - val_accuracy: 0.6592\n",
            "Epoch 27/50\n",
            "63/63 [==============================] - 17s 263ms/step - loss: 0.2602 - accuracy: 0.9189 - val_loss: 1.6860 - val_accuracy: 0.6328\n",
            "Epoch 28/50\n",
            "63/63 [==============================] - 17s 266ms/step - loss: 0.2606 - accuracy: 0.9170 - val_loss: 1.5150 - val_accuracy: 0.6504\n",
            "Epoch 29/50\n",
            "63/63 [==============================] - 17s 265ms/step - loss: 0.2402 - accuracy: 0.9238 - val_loss: 1.8208 - val_accuracy: 0.6055\n",
            "Epoch 30/50\n",
            "63/63 [==============================] - 12s 194ms/step - loss: 0.2236 - accuracy: 0.9287 - val_loss: 1.8195 - val_accuracy: 0.5967\n",
            "Epoch 31/50\n",
            "63/63 [==============================] - 12s 193ms/step - loss: 0.1837 - accuracy: 0.9434 - val_loss: 1.7723 - val_accuracy: 0.6191\n",
            "Epoch 32/50\n",
            "63/63 [==============================] - 12s 197ms/step - loss: 0.2220 - accuracy: 0.9277 - val_loss: 1.7086 - val_accuracy: 0.5977\n",
            "Epoch 33/50\n",
            "63/63 [==============================] - 12s 196ms/step - loss: 0.2006 - accuracy: 0.9365 - val_loss: 1.9442 - val_accuracy: 0.6152\n",
            "Epoch 34/50\n",
            "63/63 [==============================] - 17s 265ms/step - loss: 0.2197 - accuracy: 0.9297 - val_loss: 1.7256 - val_accuracy: 0.6230\n",
            "Epoch 35/50\n",
            "63/63 [==============================] - 17s 262ms/step - loss: 0.2307 - accuracy: 0.9297 - val_loss: 1.8686 - val_accuracy: 0.6152\n",
            "Epoch 36/50\n",
            "63/63 [==============================] - 17s 263ms/step - loss: 0.2195 - accuracy: 0.9199 - val_loss: 1.8267 - val_accuracy: 0.6035\n",
            "Epoch 37/50\n",
            "63/63 [==============================] - 17s 266ms/step - loss: 0.2043 - accuracy: 0.9326 - val_loss: 1.6188 - val_accuracy: 0.6523\n",
            "Epoch 38/50\n",
            "63/63 [==============================] - 12s 196ms/step - loss: 0.1922 - accuracy: 0.9453 - val_loss: 1.5717 - val_accuracy: 0.6582\n",
            "Epoch 39/50\n",
            "63/63 [==============================] - 12s 195ms/step - loss: 0.1689 - accuracy: 0.9473 - val_loss: 1.8588 - val_accuracy: 0.6025\n",
            "Epoch 40/50\n",
            "63/63 [==============================] - 17s 264ms/step - loss: 0.1627 - accuracy: 0.9502 - val_loss: 1.6359 - val_accuracy: 0.6455\n",
            "Epoch 41/50\n",
            "63/63 [==============================] - 17s 262ms/step - loss: 0.1759 - accuracy: 0.9414 - val_loss: 1.6658 - val_accuracy: 0.6279\n",
            "Epoch 42/50\n",
            "63/63 [==============================] - 13s 198ms/step - loss: 0.1505 - accuracy: 0.9541 - val_loss: 2.1005 - val_accuracy: 0.5908\n",
            "Epoch 43/50\n",
            "63/63 [==============================] - 17s 264ms/step - loss: 0.1060 - accuracy: 0.9668 - val_loss: 1.8383 - val_accuracy: 0.6328\n",
            "Epoch 44/50\n",
            "63/63 [==============================] - 12s 196ms/step - loss: 0.0826 - accuracy: 0.9775 - val_loss: 1.6424 - val_accuracy: 0.6455\n",
            "Epoch 45/50\n",
            "63/63 [==============================] - 13s 200ms/step - loss: 0.1163 - accuracy: 0.9609 - val_loss: 1.8121 - val_accuracy: 0.6338\n",
            "Epoch 46/50\n",
            "63/63 [==============================] - 17s 264ms/step - loss: 0.1383 - accuracy: 0.9590 - val_loss: 1.9633 - val_accuracy: 0.6289\n",
            "Epoch 47/50\n",
            "63/63 [==============================] - 12s 196ms/step - loss: 0.1378 - accuracy: 0.9580 - val_loss: 2.0302 - val_accuracy: 0.6133\n",
            "Epoch 48/50\n",
            "63/63 [==============================] - 17s 263ms/step - loss: 0.2223 - accuracy: 0.9326 - val_loss: 1.8442 - val_accuracy: 0.6328\n",
            "Epoch 49/50\n",
            "63/63 [==============================] - 13s 199ms/step - loss: 0.2020 - accuracy: 0.9316 - val_loss: 1.8817 - val_accuracy: 0.6240\n",
            "Epoch 50/50\n",
            "63/63 [==============================] - 17s 263ms/step - loss: 0.1406 - accuracy: 0.9521 - val_loss: 1.8443 - val_accuracy: 0.6426\n"
          ]
        }
      ]
    },
    {
      "cell_type": "code",
      "source": [
        "plt.plot(hist[\"loss\"], label=\"train_loss\")\n",
        "plt.plot(hist[\"val_loss\"], label=\"val_loss\")\n",
        "plt.xlabel(\"Epochs\")\n",
        "plt.ylabel(\"Loss\")\n",
        "plt.title(\"Train and Validation Losses Over Epochs\", fontsize=14)\n",
        "plt.legend()\n",
        "plt.grid()\n",
        "plt.show()\n",
        "\n",
        "plt.plot(hist[\"accuracy\"], label=\"test_accuracy\")\n",
        "plt.plot(hist[\"val_accuracy\"], label=\"val_accuracy\")\n",
        "plt.xlabel(\"Epochs\")\n",
        "plt.ylabel(\"Accuracy\")\n",
        "plt.title(\"Train and Validation accuracies Over Epochs\", fontsize=14)\n",
        "plt.legend()\n",
        "plt.grid()\n",
        "plt.show()"
      ],
      "metadata": {
        "colab": {
          "base_uri": "https://localhost:8080/",
          "height": 929
        },
        "id": "KwyvznYrN8vb",
        "outputId": "7c935d77-7ccf-4e1a-99ee-5ec403286380"
      },
      "execution_count": 12,
      "outputs": [
        {
          "output_type": "display_data",
          "data": {
            "text/plain": [
              "<Figure size 640x480 with 1 Axes>"
            ],
            "image/png": "[encoded data removed]"
          },
          "metadata": {}
        },
        {
          "output_type": "display_data",
          "data": {
            "text/plain": [
              "<Figure size 640x480 with 1 Axes>"
            ],
            "image/png": "[encoded data removed]"
          },
          "metadata": {}
        }
      ]
    },
    {
      "cell_type": "code",
      "source": [
        "model.evaluate(validation)"
      ],
      "metadata": {
        "colab": {
          "base_uri": "https://localhost:8080/"
        },
        "id": "2mdnKu2m8TzT",
        "outputId": "b4032e12-964b-4447-c516-f6d8d8aac0b2"
      },
      "execution_count": 13,
      "outputs": [
        {
          "output_type": "stream",
          "name": "stdout",
          "text": [
            "32/32 [==============================] - 14s 288ms/step - loss: 1.4281 - accuracy: 0.6598\n"
          ]
        },
        {
          "output_type": "execute_result",
          "data": {
            "text/plain": [
              "[1.4280681610107422, 0.6598039269447327]"
            ]
          },
          "metadata": {},
          "execution_count": 13
        }
      ]
    },
    {
      "cell_type": "code",
      "source": [
        "model.evaluate(test)"
      ],
      "metadata": {
        "colab": {
          "base_uri": "https://localhost:8080/"
        },
        "id": "-t6LCVRnOHhB",
        "outputId": "48d3a324-3145-4762-98f5-6e70b3bfdc8e"
      },
      "execution_count": 14,
      "outputs": [
        {
          "output_type": "stream",
          "name": "stdout",
          "text": [
            "32/32 [==============================] - 7s 207ms/step - loss: 1.4873 - accuracy: 0.6363\n"
          ]
        },
        {
          "output_type": "execute_result",
          "data": {
            "text/plain": [
              "[1.4873309135437012, 0.636274516582489]"
            ]
          },
          "metadata": {},
          "execution_count": 14
        }
      ]
    },
    {
      "cell_type": "code",
      "source": [
        "image_batch = []\n",
        "label_batch = []\n",
        "image_batch, label_batch = next(iter(test))\n",
        "\n",
        "t = list(test.as_numpy_iterator())\n",
        "\n",
        "for i in range(len(test)-1):\n",
        "    image_batch = np.append(image_batch, t[i+1][0], axis=0)\n",
        "    label_batch = np.append(label_batch, t[i+1][1], axis=0)\n",
        "\n",
        "\n",
        "image_batch = image_batch\n",
        "label_batch = label_batch\n",
        "\n",
        "predicted_batch = model.predict(image_batch)\n",
        "predicted_batch = tf.squeeze(predicted_batch).numpy()\n",
        "\n",
        "predicted_ids = np.argmax(predicted_batch, axis=-1)"
      ],
      "metadata": {
        "colab": {
          "base_uri": "https://localhost:8080/"
        },
        "id": "7Gtpe_8KOKFv",
        "outputId": "0bed0e98-1f9a-434d-f8d2-31b9f6ed4220"
      },
      "execution_count": 15,
      "outputs": [
        {
          "output_type": "stream",
          "name": "stdout",
          "text": [
            "32/32 [==============================] - 5s 153ms/step\n"
          ]
        }
      ]
    },
    {
      "cell_type": "code",
      "source": [
        "from sklearn.metrics import confusion_matrix\n",
        "import seaborn as sns\n",
        "\n",
        "# Converter as previsões em rótulos de classe\n",
        "predicted_classes = predicted_ids\n",
        "\n",
        "# Obter os rótulos verdadeiros do conjunto de dados de validação\n",
        "true_classes = label_batch#np.argmax(y_test, axis=1)\n",
        "\n",
        "# Calcular a precisão\n",
        "accuracy = np.mean(predicted_classes == true_classes)\n",
        "print('Precisão:', accuracy)"
      ],
      "metadata": {
        "colab": {
          "base_uri": "https://localhost:8080/"
        },
        "id": "fEXFfPWzOMQl",
        "outputId": "88aafca6-a349-4c1e-bd7d-6e9c9c2f5509"
      },
      "execution_count": 16,
      "outputs": [
        {
          "output_type": "stream",
          "name": "stdout",
          "text": [
            "Precisão: 0.6362745098039215\n"
          ]
        }
      ]
    },
    {
      "cell_type": "code",
      "source": [
        "from sklearn.metrics import precision_score, recall_score, f1_score\n",
        "\n",
        "# Obtendo as previsões do modelo para o conjunto de teste\n",
        "y_pred = predicted_classes\n",
        "\n",
        "# Obtendo os rótulos verdadeiros do conjunto de teste\n",
        "y_true = true_classes\n",
        "\n",
        "# Calculando o recall ponderado\n",
        "weighted_recall = recall_score(y_true, y_pred, average='weighted')\n",
        "\n",
        "# Calculando a precisão ponderada\n",
        "weighted_precision = precision_score(y_true, y_pred, average='weighted')\n",
        "\n",
        "# Calculando o F1-score ponderado\n",
        "weighted_f1_score = f1_score(y_true, y_pred, average='weighted')\n",
        "\n",
        "# Imprimindo os resultados\n",
        "print(\"Weighted Recall:\", weighted_recall)\n",
        "print(\"Weighted Precision:\", weighted_precision)\n",
        "print(\"Weighted F1-Score:\", weighted_f1_score)"
      ],
      "metadata": {
        "colab": {
          "base_uri": "https://localhost:8080/"
        },
        "id": "k-Xy9uVBON8h",
        "outputId": "4aaf9b82-df9b-4321-c26d-3bf433e86e9f"
      },
      "execution_count": 17,
      "outputs": [
        {
          "output_type": "stream",
          "name": "stdout",
          "text": [
            "Weighted Recall: 0.6362745098039215\n",
            "Weighted Precision: 0.7017347711358365\n",
            "Weighted F1-Score: 0.6275338928153767\n"
          ]
        }
      ]
    },
    {
      "cell_type": "code",
      "source": [],
      "metadata": {
        "id": "dCzo2XeJOPdb"
      },
      "execution_count": 17,
      "outputs": []
    }
  ]
}