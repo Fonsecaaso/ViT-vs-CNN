{
  "cells": [
    {
      "cell_type": "code",
      "execution_count": 1,
      "metadata": {
        "colab": {
          "base_uri": "https://localhost:8080/"
        },
        "id": "lJpaSbx7Jy4p",
        "outputId": "ba8c71f0-c7dd-4abd-8b3e-1ebf3f09ace9"
      },
      "outputs": [
        {
          "output_type": "stream",
          "name": "stdout",
          "text": [
            "Looking in indexes: https://pypi.org/simple, https://us-python.pkg.dev/colab-wheels/public/simple/\n",
            "Requirement already satisfied: tensorflow_hub in /usr/local/lib/python3.10/dist-packages (0.13.0)\n",
            "Requirement already satisfied: numpy>=1.12.0 in /usr/local/lib/python3.10/dist-packages (from tensorflow_hub) (1.22.4)\n",
            "Requirement already satisfied: protobuf>=3.19.6 in /usr/local/lib/python3.10/dist-packages (from tensorflow_hub) (3.20.3)\n"
          ]
        }
      ],
      "source": [
        "import itertools\n",
        "import os\n",
        "\n",
        "import matplotlib.pylab as plt\n",
        "import numpy as np\n",
        "\n",
        "import tensorflow as tf\n",
        "import tensorflow_hub as hub\n",
        "from keras.applications.vgg19 import VGG19\n",
        "import tensorflow_datasets as tfds\n",
        "\n",
        "!pip install tensorflow_hub\n",
        "\n",
        "import tensorflow as tf\n",
        "import tensorflow_hub as hub\n",
        "import tensorflow_datasets as tfds\n",
        "import numpy as np\n",
        "import matplotlib.pyplot as plt\n",
        "import functools"
      ]
    },
    {
      "cell_type": "code",
      "execution_count": 2,
      "metadata": {
        "id": "WlkWShQGNE-Q"
      },
      "outputs": [],
      "source": [
        "(raw_train, raw_validation, raw_test), metadata = tfds.load(\n",
        "    name=\"oxford_flowers102\",\n",
        "    split=['test', 'validation', 'train'],\n",
        "    with_info=True,\n",
        "    as_supervised=True,\n",
        "    batch_size=32\n",
        ")"
      ]
    },
    {
      "cell_type": "code",
      "execution_count": 3,
      "metadata": {
        "id": "yi2sfqo_NHas"
      },
      "outputs": [],
      "source": [
        "img_size = 224\n",
        "batch_size = 16\n",
        "epochs = 40\n",
        "learning_rate = 0.001\n",
        "weight_decay = 0.0001\n",
        "learning_rate = 1e-3"
      ]
    },
    {
      "cell_type": "code",
      "execution_count": 4,
      "metadata": {
        "id": "_WNMcxkuNIsD"
      },
      "outputs": [],
      "source": [
        "def normalize_img(image, label):\n",
        "  image = tf.cast(image, tf.float32)\n",
        "  image = (image/127.5) - 1\n",
        "  image = tf.image.resize(image, (img_size, img_size))\n",
        "  return  image, label"
      ]
    },
    {
      "cell_type": "code",
      "execution_count": 5,
      "metadata": {
        "id": "rvg8N_YmNMEw"
      },
      "outputs": [],
      "source": [
        "train = raw_train.map(normalize_img)\n",
        "validation = raw_validation.map(normalize_img)\n",
        "test = raw_test.map(normalize_img)\n",
        "\n",
        "del raw_train\n",
        "del raw_validation\n",
        "del raw_test"
      ]
    },
    {
      "cell_type": "code",
      "execution_count": 6,
      "metadata": {
        "id": "aH1NYUtiNUkP"
      },
      "outputs": [],
      "source": [
        "train = train.unbatch().batch(batch_size,drop_remainder=True).repeat().shuffle(512)\n",
        "validation = validation.unbatch().batch(batch_size,drop_remainder=True).repeat()"
      ]
    },
    {
      "cell_type": "code",
      "execution_count": 7,
      "metadata": {
        "id": "dwLz75vqNXds"
      },
      "outputs": [],
      "source": [
        "steps_per_epoch = metadata.splits[\"train\"].num_examples / batch_size \n",
        "validation_steps = metadata.splits[\"validation\"].num_examples / batch_size"
      ]
    },
    {
      "cell_type": "code",
      "execution_count": 17,
      "metadata": {
        "id": "VmKBz2BaNaBL",
        "colab": {
          "base_uri": "https://localhost:8080/"
        },
        "outputId": "8b17d278-21f4-42a6-aaaa-e02352c97eef"
      },
      "outputs": [
        {
          "output_type": "stream",
          "name": "stdout",
          "text": [
            "Looking in indexes: https://pypi.org/simple, https://us-python.pkg.dev/colab-wheels/public/simple/\n",
            "Requirement already satisfied: efficientnet==1.1.0 in /usr/local/lib/python3.10/dist-packages (1.1.0)\n",
            "Requirement already satisfied: keras-applications<=1.0.8,>=1.0.7 in /usr/local/lib/python3.10/dist-packages (from efficientnet==1.1.0) (1.0.8)\n",
            "Requirement already satisfied: scikit-image in /usr/local/lib/python3.10/dist-packages (from efficientnet==1.1.0) (0.19.3)\n",
            "Requirement already satisfied: numpy>=1.9.1 in /usr/local/lib/python3.10/dist-packages (from keras-applications<=1.0.8,>=1.0.7->efficientnet==1.1.0) (1.22.4)\n",
            "Requirement already satisfied: h5py in /usr/local/lib/python3.10/dist-packages (from keras-applications<=1.0.8,>=1.0.7->efficientnet==1.1.0) (3.8.0)\n",
            "Requirement already satisfied: scipy>=1.4.1 in /usr/local/lib/python3.10/dist-packages (from scikit-image->efficientnet==1.1.0) (1.10.1)\n",
            "Requirement already satisfied: networkx>=2.2 in /usr/local/lib/python3.10/dist-packages (from scikit-image->efficientnet==1.1.0) (3.1)\n",
            "Requirement already satisfied: pillow!=7.1.0,!=7.1.1,!=8.3.0,>=6.1.0 in /usr/local/lib/python3.10/dist-packages (from scikit-image->efficientnet==1.1.0) (8.4.0)\n",
            "Requirement already satisfied: imageio>=2.4.1 in /usr/local/lib/python3.10/dist-packages (from scikit-image->efficientnet==1.1.0) (2.25.1)\n",
            "Requirement already satisfied: tifffile>=2019.7.26 in /usr/local/lib/python3.10/dist-packages (from scikit-image->efficientnet==1.1.0) (2023.4.12)\n",
            "Requirement already satisfied: PyWavelets>=1.1.1 in /usr/local/lib/python3.10/dist-packages (from scikit-image->efficientnet==1.1.0) (1.4.1)\n",
            "Requirement already satisfied: packaging>=20.0 in /usr/local/lib/python3.10/dist-packages (from scikit-image->efficientnet==1.1.0) (23.1)\n"
          ]
        }
      ],
      "source": [
        "!pip install efficientnet==1.1.0\n",
        "from efficientnet import tfkeras as efficientnet\n",
        "\n",
        "efficientnet_model = efficientnet.EfficientNetB4(\n",
        "    weights='noisy-student',\n",
        "    pooling='avg',\n",
        "    include_top=False,\n",
        "    input_shape=(img_size,img_size,3)\n",
        ")\n",
        "\n",
        "for layer in efficientnet_model.layers:\n",
        "    layer.trainable = False"
      ]
    },
    {
      "cell_type": "code",
      "execution_count": 18,
      "metadata": {
        "id": "BMszLQ33NtOy"
      },
      "outputs": [],
      "source": [
        "model = tf.keras.Sequential([\n",
        "    efficientnet_model,\n",
        "    tf.keras.layers.Flatten(name=\"flatten\"),\n",
        "    tf.keras.layers.Dense(4096, activation='relu'),\n",
        "    tf.keras.layers.Dense(1072, activation='relu'),\n",
        "    tf.keras.layers.Dropout(rate=0.2),\n",
        "    tf.keras.layers.Dense(102)\n",
        "])"
      ]
    },
    {
      "cell_type": "code",
      "source": [
        "model.summary()"
      ],
      "metadata": {
        "colab": {
          "base_uri": "https://localhost:8080/"
        },
        "id": "3sVmo1cdjrFn",
        "outputId": "ed93af06-111a-4700-88cf-809c7439140a"
      },
      "execution_count": 19,
      "outputs": [
        {
          "output_type": "stream",
          "name": "stdout",
          "text": [
            "Model: \"sequential_1\"\n",
            "_________________________________________________________________\n",
            " Layer (type)                Output Shape              Param #   \n",
            "=================================================================\n",
            " efficientnet-b4 (Functional  (None, 1792)             17673816  \n",
            " )                                                               \n",
            "                                                                 \n",
            " flatten (Flatten)           (None, 1792)              0         \n",
            "                                                                 \n",
            " dense_3 (Dense)             (None, 4096)              7344128   \n",
            "                                                                 \n",
            " dense_4 (Dense)             (None, 1072)              4391984   \n",
            "                                                                 \n",
            " dropout_1 (Dropout)         (None, 1072)              0         \n",
            "                                                                 \n",
            " dense_5 (Dense)             (None, 102)               109446    \n",
            "                                                                 \n",
            "=================================================================\n",
            "Total params: 29,519,374\n",
            "Trainable params: 11,845,558\n",
            "Non-trainable params: 17,673,816\n",
            "_________________________________________________________________\n"
          ]
        }
      ]
    },
    {
      "cell_type": "code",
      "execution_count": 20,
      "metadata": {
        "id": "AxUFckg3N4F4"
      },
      "outputs": [],
      "source": [
        "def run_experiment(model):\n",
        "\n",
        "  model.compile(\n",
        "  optimizer=tf.keras.optimizers.Adam(learning_rate=.5e-3), \n",
        "  loss=tf.keras.losses.SparseCategoricalCrossentropy(from_logits=True),\n",
        "  metrics=['accuracy'])\n",
        "\n",
        "  checkpoint_filepath = \"/tmp/checkpoint\"\n",
        "  checkpoint_callback = tf.keras.callbacks.ModelCheckpoint(\n",
        "      checkpoint_filepath,\n",
        "      monitor=\"val_accuracy\",\n",
        "      save_best_only=True,\n",
        "      save_weights_only=True,\n",
        "  )\n",
        "\n",
        "  hist = model.fit(\n",
        "    x=train,\n",
        "    epochs=10, \n",
        "    steps_per_epoch=steps_per_epoch,\n",
        "    validation_data=validation,\n",
        "    validation_steps=validation_steps,\n",
        "    callbacks=[checkpoint_callback],\n",
        "    verbose=1).history\n",
        "  \n",
        "  model.load_weights(checkpoint_filepath)\n",
        "\n",
        "  return hist"
      ]
    },
    {
      "cell_type": "code",
      "execution_count": 21,
      "metadata": {
        "colab": {
          "base_uri": "https://localhost:8080/"
        },
        "id": "PNsfiCONN7UY",
        "outputId": "c18effd8-4498-4140-bc15-0f5508a3d522"
      },
      "outputs": [
        {
          "output_type": "stream",
          "name": "stdout",
          "text": [
            "Epoch 1/10\n",
            "63/63 [==============================] - 67s 317ms/step - loss: 3.7313 - accuracy: 0.2227 - val_loss: 3.2884 - val_accuracy: 0.2461\n",
            "Epoch 2/10\n",
            "63/63 [==============================] - 17s 272ms/step - loss: 2.3860 - accuracy: 0.4277 - val_loss: 2.2700 - val_accuracy: 0.4355\n",
            "Epoch 3/10\n",
            "63/63 [==============================] - 17s 266ms/step - loss: 1.8465 - accuracy: 0.5127 - val_loss: 1.8427 - val_accuracy: 0.4951\n",
            "Epoch 4/10\n",
            "63/63 [==============================] - 17s 262ms/step - loss: 1.5617 - accuracy: 0.5703 - val_loss: 1.6624 - val_accuracy: 0.5449\n",
            "Epoch 5/10\n",
            "63/63 [==============================] - 17s 263ms/step - loss: 1.3490 - accuracy: 0.6260 - val_loss: 1.3268 - val_accuracy: 0.5928\n",
            "Epoch 6/10\n",
            "63/63 [==============================] - 13s 201ms/step - loss: 1.2817 - accuracy: 0.6396 - val_loss: 1.2725 - val_accuracy: 0.6484\n",
            "Epoch 7/10\n",
            "63/63 [==============================] - 17s 265ms/step - loss: 1.2210 - accuracy: 0.6494 - val_loss: 1.1243 - val_accuracy: 0.6631\n",
            "Epoch 8/10\n",
            "63/63 [==============================] - 17s 266ms/step - loss: 1.1188 - accuracy: 0.6836 - val_loss: 1.0626 - val_accuracy: 0.7031\n",
            "Epoch 9/10\n",
            "63/63 [==============================] - 13s 200ms/step - loss: 1.0924 - accuracy: 0.6836 - val_loss: 0.9721 - val_accuracy: 0.7070\n",
            "Epoch 10/10\n",
            "63/63 [==============================] - 13s 208ms/step - loss: 0.9346 - accuracy: 0.7314 - val_loss: 0.9451 - val_accuracy: 0.7188\n"
          ]
        }
      ],
      "source": [
        "hist = run_experiment(model)"
      ]
    },
    {
      "cell_type": "code",
      "execution_count": 22,
      "metadata": {
        "id": "KwyvznYrN8vb",
        "colab": {
          "base_uri": "https://localhost:8080/",
          "height": 929
        },
        "outputId": "129cf88d-09ab-40c8-c320-27ad7139834a"
      },
      "outputs": [
        {
          "output_type": "display_data",
          "data": {
            "text/plain": [
              "<Figure size 640x480 with 1 Axes>"
            ],
            "image/png": "[encoded data removed]"
          },
          "metadata": {}
        },
        {
          "output_type": "display_data",
          "data": {
            "text/plain": [
              "<Figure size 640x480 with 1 Axes>"
            ],
            "image/png": "[encoded data removed]"
          },
          "metadata": {}
        }
      ],
      "source": [
        "plt.plot(hist[\"loss\"], label=\"train_loss\")\n",
        "plt.plot(hist[\"val_loss\"], label=\"val_loss\")\n",
        "plt.xlabel(\"Epochs\")\n",
        "plt.ylabel(\"Loss\")\n",
        "plt.title(\"Train and Validation Losses Over Epochs\", fontsize=14)\n",
        "plt.legend()\n",
        "plt.grid()\n",
        "plt.show()\n",
        "\n",
        "plt.plot(hist[\"accuracy\"], label=\"test_accuracy\")\n",
        "plt.plot(hist[\"val_accuracy\"], label=\"val_accuracy\")\n",
        "plt.xlabel(\"Epochs\")\n",
        "plt.ylabel(\"Accuracy\")\n",
        "plt.title(\"Train and Validation accuracies Over Epochs\", fontsize=14)\n",
        "plt.legend()\n",
        "plt.grid()\n",
        "plt.show()"
      ]
    },
    {
      "cell_type": "code",
      "execution_count": 23,
      "metadata": {
        "id": "R1zNvL0eOBGm"
      },
      "outputs": [],
      "source": [
        "del train\n",
        "del hist"
      ]
    },
    {
      "cell_type": "code",
      "execution_count": 24,
      "metadata": {
        "id": "-t6LCVRnOHhB",
        "colab": {
          "base_uri": "https://localhost:8080/"
        },
        "outputId": "b5f820d0-40ad-4b8b-c7a0-18d1b6ea0c2a"
      },
      "outputs": [
        {
          "output_type": "stream",
          "name": "stdout",
          "text": [
            "32/32 [==============================] - 10s 184ms/step - loss: 1.1123 - accuracy: 0.6873\n"
          ]
        },
        {
          "output_type": "execute_result",
          "data": {
            "text/plain": [
              "[1.112325668334961, 0.6872549057006836]"
            ]
          },
          "metadata": {},
          "execution_count": 24
        }
      ],
      "source": [
        "model.evaluate(test)"
      ]
    },
    {
      "cell_type": "code",
      "execution_count": 25,
      "metadata": {
        "id": "7Gtpe_8KOKFv",
        "colab": {
          "base_uri": "https://localhost:8080/"
        },
        "outputId": "f3698519-63f0-475e-e03c-d473a2b0b887"
      },
      "outputs": [
        {
          "output_type": "stream",
          "name": "stdout",
          "text": [
            "32/32 [==============================] - 6s 132ms/step\n"
          ]
        }
      ],
      "source": [
        "image_batch = []\n",
        "label_batch = []\n",
        "image_batch, label_batch = next(iter(test))\n",
        "\n",
        "t = list(test.as_numpy_iterator())\n",
        "\n",
        "for i in range(len(test)-1):\n",
        "    image_batch = np.append(image_batch, t[i+1][0], axis=0)\n",
        "    label_batch = np.append(label_batch, t[i+1][1], axis=0)\n",
        "\n",
        "\n",
        "image_batch = image_batch\n",
        "label_batch = label_batch\n",
        "\n",
        "predicted_batch = model.predict(image_batch)\n",
        "predicted_batch = tf.squeeze(predicted_batch).numpy()\n",
        "\n",
        "predicted_ids = np.argmax(predicted_batch, axis=-1)"
      ]
    },
    {
      "cell_type": "code",
      "execution_count": 26,
      "metadata": {
        "id": "fEXFfPWzOMQl",
        "colab": {
          "base_uri": "https://localhost:8080/"
        },
        "outputId": "2d182023-8cd7-4411-c93b-611901ab079e"
      },
      "outputs": [
        {
          "output_type": "stream",
          "name": "stdout",
          "text": [
            "Precisão: 0.6872549019607843\n"
          ]
        }
      ],
      "source": [
        "from sklearn.metrics import confusion_matrix\n",
        "import seaborn as sns\n",
        "\n",
        "# Converter as previsões em rótulos de classe\n",
        "predicted_classes = predicted_ids\n",
        "\n",
        "# Obter os rótulos verdadeiros do conjunto de dados de validação\n",
        "true_classes = label_batch#np.argmax(y_test, axis=1)\n",
        "\n",
        "# Calcular a precisão\n",
        "accuracy = np.mean(predicted_classes == true_classes)\n",
        "print('Precisão:', accuracy)"
      ]
    },
    {
      "cell_type": "code",
      "execution_count": 27,
      "metadata": {
        "id": "k-Xy9uVBON8h",
        "colab": {
          "base_uri": "https://localhost:8080/"
        },
        "outputId": "17fcbc4c-b5aa-4198-a766-dd32f00b97d6"
      },
      "outputs": [
        {
          "output_type": "stream",
          "name": "stdout",
          "text": [
            "Weighted Recall: 0.6872549019607843\n",
            "Weighted Precision: 0.7716894352334163\n",
            "Weighted F1-Score: 0.681793547286635\n"
          ]
        },
        {
          "output_type": "stream",
          "name": "stderr",
          "text": [
            "/usr/local/lib/python3.10/dist-packages/sklearn/metrics/_classification.py:1344: UndefinedMetricWarning: Precision is ill-defined and being set to 0.0 in labels with no predicted samples. Use `zero_division` parameter to control this behavior.\n",
            "  _warn_prf(average, modifier, msg_start, len(result))\n"
          ]
        }
      ],
      "source": [
        "from sklearn.metrics import precision_score, recall_score, f1_score\n",
        "\n",
        "# Obtendo as previsões do modelo para o conjunto de teste\n",
        "y_pred = predicted_classes\n",
        "\n",
        "# Obtendo os rótulos verdadeiros do conjunto de teste\n",
        "y_true = true_classes\n",
        "\n",
        "# Calculando o recall ponderado\n",
        "weighted_recall = recall_score(y_true, y_pred, average='weighted')\n",
        "\n",
        "# Calculando a precisão ponderada\n",
        "weighted_precision = precision_score(y_true, y_pred, average='weighted')\n",
        "\n",
        "# Calculando o F1-score ponderado\n",
        "weighted_f1_score = f1_score(y_true, y_pred, average='weighted')\n",
        "\n",
        "# Imprimindo os resultados\n",
        "print(\"Weighted Recall:\", weighted_recall)\n",
        "print(\"Weighted Precision:\", weighted_precision)\n",
        "print(\"Weighted F1-Score:\", weighted_f1_score)"
      ]
    },
    {
      "cell_type": "code",
      "execution_count": null,
      "metadata": {
        "id": "dCzo2XeJOPdb"
      },
      "outputs": [],
      "source": []
    }
  ],
  "metadata": {
    "accelerator": "GPU",
    "colab": {
      "machine_shape": "hm",
      "provenance": [],
      "gpuType": "T4"
    },
    "kernelspec": {
      "display_name": "Python 3",
      "name": "python3"
    },
    "language_info": {
      "name": "python"
    }
  },
  "nbformat": 4,
  "nbformat_minor": 0
}