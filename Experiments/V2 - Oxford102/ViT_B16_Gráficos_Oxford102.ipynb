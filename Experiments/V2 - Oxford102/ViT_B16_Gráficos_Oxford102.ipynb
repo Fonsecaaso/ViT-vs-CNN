{
  "nbformat": 4,
  "nbformat_minor": 0,
  "metadata": {
    "colab": {
      "provenance": [],
      "machine_shape": "hm",
      "gpuType": "T4"
    },
    "kernelspec": {
      "name": "python3",
      "display_name": "Python 3"
    },
    "language_info": {
      "name": "python"
    },
    "accelerator": "GPU",
    "gpuClass": "standard"
  },
  "cells": [
    {
      "cell_type": "code",
      "execution_count": 20,
      "metadata": {
        "colab": {
          "base_uri": "https://localhost:8080/"
        },
        "id": "-Dj--L4uPnH_",
        "outputId": "912cd4b9-61a0-4e85-d498-2b5bc68c9497"
      },
      "outputs": [
        {
          "output_type": "stream",
          "name": "stdout",
          "text": [
            "Looking in indexes: https://pypi.org/simple, https://us-python.pkg.dev/colab-wheels/public/simple/\n",
            "Requirement already satisfied: vit_keras in /usr/local/lib/python3.10/dist-packages (0.1.2)\n",
            "Requirement already satisfied: scipy in /usr/local/lib/python3.10/dist-packages (from vit_keras) (1.10.1)\n",
            "Requirement already satisfied: validators in /usr/local/lib/python3.10/dist-packages (from vit_keras) (0.20.0)\n",
            "Requirement already satisfied: numpy<1.27.0,>=1.19.5 in /usr/local/lib/python3.10/dist-packages (from scipy->vit_keras) (1.22.4)\n",
            "Requirement already satisfied: decorator>=3.4.0 in /usr/local/lib/python3.10/dist-packages (from validators->vit_keras) (4.4.2)\n",
            "Looking in indexes: https://pypi.org/simple, https://us-python.pkg.dev/colab-wheels/public/simple/\n",
            "Requirement already satisfied: tensorflow-addons in /usr/local/lib/python3.10/dist-packages (0.20.0)\n",
            "Requirement already satisfied: packaging in /usr/local/lib/python3.10/dist-packages (from tensorflow-addons) (23.1)\n",
            "Requirement already satisfied: typeguard<3.0.0,>=2.7 in /usr/local/lib/python3.10/dist-packages (from tensorflow-addons) (2.13.3)\n",
            "TF version: 2.12.0\n",
            "Hub version: 0.13.0\n",
            "GPU is available\n"
          ]
        }
      ],
      "source": [
        "import itertools\n",
        "import os\n",
        "\n",
        "import matplotlib.pylab as plt\n",
        "import numpy as np\n",
        "\n",
        "import tensorflow as tf\n",
        "import tensorflow_hub as hub\n",
        "!pip install vit_keras\n",
        "!pip install -U tensorflow-addons\n",
        "from vit_keras import vit\n",
        "import tensorflow_addons as tfa\n",
        "import tensorflow_datasets as tfds\n",
        "\n",
        "print(\"TF version:\", tf.__version__)\n",
        "print(\"Hub version:\", hub.__version__)\n",
        "print(\"GPU is\", \"available\" if tf.test.is_gpu_available() else \"NOT AVAILABLE\")"
      ]
    },
    {
      "cell_type": "code",
      "source": [
        "module_selection = (\"inception_v3\", 299) #@param [\"(\\\"mobilenet_v2_100_224\\\", 224)\", \"(\\\"inception_v3\\\", 299)\"] {type:\"raw\", allow-input: true}\n",
        "handle_base, pixels = module_selection\n",
        "MODULE_HANDLE =\"https://tfhub.dev/google/imagenet/{}/feature_vector/4\".format(handle_base)\n",
        "IMAGE_SIZE = (pixels, pixels)\n",
        "print(\"Using {} with input size {}\".format(MODULE_HANDLE, IMAGE_SIZE))\n",
        "\n",
        "BATCH_SIZE = 16 #@param {type:\"integer\"}"
      ],
      "metadata": {
        "colab": {
          "base_uri": "https://localhost:8080/"
        },
        "id": "X7rYH6J0P1B2",
        "outputId": "9fb903c9-84da-419e-fa0a-d089bedd55d9"
      },
      "execution_count": 21,
      "outputs": [
        {
          "output_type": "stream",
          "name": "stdout",
          "text": [
            "Using https://tfhub.dev/google/imagenet/inception_v3/feature_vector/4 with input size (299, 299)\n"
          ]
        }
      ]
    },
    {
      "cell_type": "code",
      "source": [
        "(raw_train, raw_validation, raw_test), metadata = tfds.load(\n",
        "    name=\"oxford_flowers102\",\n",
        "    split=['train', 'validation', 'test'],\n",
        "    with_info=True,\n",
        "    as_supervised=True,\n",
        "    batch_size=32\n",
        ")"
      ],
      "metadata": {
        "id": "rY1NY4cxP6Ah"
      },
      "execution_count": 22,
      "outputs": []
    },
    {
      "cell_type": "code",
      "source": [
        "IMAG_SIZE = 224 # All images will be resized to 224x224\n",
        "def normalize_img(image, label):\n",
        "  \"\"\"Normalizes images: `uint8` -> `float32`.\"\"\"\n",
        "  image = tf.cast(image, tf.float32)\n",
        "  image = (image/127.5) - 1\n",
        "  image = tf.image.resize(image, (IMAG_SIZE, IMAG_SIZE))\n",
        "  return  image, label"
      ],
      "metadata": {
        "id": "IedoCI1OP7Qb"
      },
      "execution_count": 23,
      "outputs": []
    },
    {
      "cell_type": "code",
      "source": [
        "train = raw_train.map(normalize_img)\n",
        "validation = raw_validation.map(normalize_img)\n",
        "test = raw_test.map(normalize_img)"
      ],
      "metadata": {
        "id": "uIVgc-AOP8jC"
      },
      "execution_count": 24,
      "outputs": []
    },
    {
      "cell_type": "code",
      "source": [
        "do_fine_tuning = True #@param {type:\"boolean\"}"
      ],
      "metadata": {
        "id": "4depbDhbP9YQ"
      },
      "execution_count": 25,
      "outputs": []
    },
    {
      "cell_type": "code",
      "source": [
        "print(\"Building model with\", MODULE_HANDLE)\n",
        "vit_model = vit.vit_b16(\n",
        "        image_size = 224,\n",
        "        activation = 'softmax',\n",
        "        pretrained = True,\n",
        "        include_top = False,\n",
        "        pretrained_top = False,\n",
        "        classes = metadata.features[\"label\"].num_classes)\n",
        "\n",
        "model = tf.keras.Sequential([\n",
        "    vit_model,\n",
        "    tf.keras.layers.Flatten(name=\"flatten\"),\n",
        "    tf.keras.layers.Dense(4096, activation='relu'),\n",
        "    tf.keras.layers.Dense(1072, activation='relu'),\n",
        "    tf.keras.layers.Dropout(rate=0.2),\n",
        "    tf.keras.layers.Dense(units=metadata.features[\"label\"].num_classes)\n",
        "])\n",
        "# model.build((None,)+IMAGE_SIZE+(3,))\n",
        "# model.summary()"
      ],
      "metadata": {
        "colab": {
          "base_uri": "https://localhost:8080/"
        },
        "id": "uE6ztk4vP-Yx",
        "outputId": "5823d4e8-a20a-4f79-cbfd-83a5f38b158e"
      },
      "execution_count": 26,
      "outputs": [
        {
          "output_type": "stream",
          "name": "stdout",
          "text": [
            "Building model with https://tfhub.dev/google/imagenet/inception_v3/feature_vector/4\n"
          ]
        }
      ]
    },
    {
      "cell_type": "code",
      "source": [
        "model.compile(\n",
        "  optimizer=tf.keras.optimizers.Adam(learning_rate=.5e-3), \n",
        "  loss=tf.keras.losses.SparseCategoricalCrossentropy(from_logits=True),\n",
        "  metrics=['accuracy'])"
      ],
      "metadata": {
        "id": "ZeRZHLyYP_jS"
      },
      "execution_count": 27,
      "outputs": []
    },
    {
      "cell_type": "code",
      "source": [
        "train = train.unbatch().batch(BATCH_SIZE,drop_remainder=True).repeat().shuffle(512)\n",
        "validation = validation.unbatch().batch(BATCH_SIZE,drop_remainder=True).repeat()"
      ],
      "metadata": {
        "id": "pnxbjNs_QAnH"
      },
      "execution_count": 28,
      "outputs": []
    },
    {
      "cell_type": "code",
      "source": [
        "steps_per_epoch = metadata.splits[\"train\"].num_examples / BATCH_SIZE \n",
        "validation_steps = metadata.splits[\"validation\"].num_examples / BATCH_SIZE\n",
        "EPOCHS = 30\n",
        "from keras.callbacks import ModelCheckpoint, EarlyStopping\n",
        "checkpoint_filepath = \"/tmp/checkpoint\"\n",
        "checkpoint_callback = ModelCheckpoint(\n",
        "    checkpoint_filepath,\n",
        "    monitor=\"val_accuracy\",\n",
        "    save_best_only=True,\n",
        "    save_weights_only=True,\n",
        ")\n",
        "\n",
        "earlystopping = EarlyStopping(monitor='val_loss', patience=5)\n",
        "\n",
        "hist = model.fit(\n",
        "    x=train,\n",
        "    epochs=EPOCHS, \n",
        "    steps_per_epoch=steps_per_epoch,\n",
        "    validation_data=validation,\n",
        "    validation_steps=validation_steps,\n",
        "    callbacks=[checkpoint_callback, earlystopping],\n",
        "    verbose=1).history"
      ],
      "metadata": {
        "colab": {
          "base_uri": "https://localhost:8080/"
        },
        "id": "NX_uOFkwQBhd",
        "outputId": "d481ccc5-ed21-408d-958d-aad3a863bd94"
      },
      "execution_count": 29,
      "outputs": [
        {
          "output_type": "stream",
          "name": "stdout",
          "text": [
            "Epoch 1/30\n",
            "63/63 [==============================] - 157s 1s/step - loss: 3.6944 - accuracy: 0.2109 - val_loss: 2.3884 - val_accuracy: 0.4307\n",
            "Epoch 2/30\n",
            "63/63 [==============================] - 58s 912ms/step - loss: 1.3484 - accuracy: 0.6660 - val_loss: 2.1809 - val_accuracy: 0.5117\n",
            "Epoch 3/30\n",
            "63/63 [==============================] - 70s 1s/step - loss: 1.3237 - accuracy: 0.6768 - val_loss: 1.3190 - val_accuracy: 0.6699\n",
            "Epoch 4/30\n",
            "63/63 [==============================] - 55s 860ms/step - loss: 0.6659 - accuracy: 0.8291 - val_loss: 1.4406 - val_accuracy: 0.6641\n",
            "Epoch 5/30\n",
            "63/63 [==============================] - 55s 874ms/step - loss: 0.4958 - accuracy: 0.8760 - val_loss: 1.7743 - val_accuracy: 0.6201\n",
            "Epoch 6/30\n",
            "63/63 [==============================] - 65s 1s/step - loss: 0.6390 - accuracy: 0.8379 - val_loss: 1.2187 - val_accuracy: 0.7158\n",
            "Epoch 7/30\n",
            "63/63 [==============================] - 62s 975ms/step - loss: 0.3870 - accuracy: 0.9111 - val_loss: 1.5717 - val_accuracy: 0.6807\n",
            "Epoch 8/30\n",
            "63/63 [==============================] - 62s 973ms/step - loss: 0.4622 - accuracy: 0.8975 - val_loss: 1.8324 - val_accuracy: 0.6143\n",
            "Epoch 9/30\n",
            "63/63 [==============================] - 56s 876ms/step - loss: 0.5169 - accuracy: 0.8770 - val_loss: 2.8969 - val_accuracy: 0.5361\n",
            "Epoch 10/30\n",
            "63/63 [==============================] - 55s 873ms/step - loss: 0.4494 - accuracy: 0.8916 - val_loss: 1.8968 - val_accuracy: 0.6455\n",
            "Epoch 11/30\n",
            "63/63 [==============================] - 62s 976ms/step - loss: 0.4657 - accuracy: 0.8965 - val_loss: 1.8969 - val_accuracy: 0.5869\n"
          ]
        }
      ]
    },
    {
      "cell_type": "code",
      "source": [
        "plt.figure()\n",
        "plt.ylabel(\"Loss (training and validation)\")\n",
        "plt.xlabel(\"Training Steps\")\n",
        "plt.ylim([0,2])\n",
        "plt.plot(hist[\"loss\"])\n",
        "plt.plot(hist[\"val_loss\"])\n",
        "\n",
        "plt.figure()\n",
        "plt.ylabel(\"Accuracy (training and validation)\")\n",
        "plt.xlabel(\"Training Steps\")\n",
        "plt.ylim([0,1])\n",
        "plt.plot(hist[\"accuracy\"])\n",
        "plt.plot(hist[\"val_accuracy\"])"
      ],
      "metadata": {
        "colab": {
          "base_uri": "https://localhost:8080/",
          "height": 910
        },
        "id": "XD-3ws3OQCty",
        "outputId": "007a37a8-c899-40fd-dbc1-d493e645361f"
      },
      "execution_count": 30,
      "outputs": [
        {
          "output_type": "execute_result",
          "data": {
            "text/plain": [
              "[<matplotlib.lines.Line2D at 0x7f22b2451de0>]"
            ]
          },
          "metadata": {},
          "execution_count": 30
        },
        {
          "output_type": "display_data",
          "data": {
            "text/plain": [
              "<Figure size 640x480 with 1 Axes>"
            ],
            "image/png": "[encoded data removed]"
          },
          "metadata": {}
        },
        {
          "output_type": "display_data",
          "data": {
            "text/plain": [
              "<Figure size 640x480 with 1 Axes>"
            ],
            "image/png": "[encoded data removed]"
          },
          "metadata": {}
        }
      ]
    },
    {
      "cell_type": "code",
      "source": [
        "class_names = np.array(metadata.features['label'].names)\n",
        "print(class_names)"
      ],
      "metadata": {
        "colab": {
          "base_uri": "https://localhost:8080/"
        },
        "id": "iW2LfrQNQFQs",
        "outputId": "87c827c4-0d3d-455e-9e69-9cefc2dfb8dc"
      },
      "execution_count": 31,
      "outputs": [
        {
          "output_type": "stream",
          "name": "stdout",
          "text": [
            "['pink primrose' 'hard-leaved pocket orchid' 'canterbury bells'\n",
            " 'sweet pea' 'english marigold' 'tiger lily' 'moon orchid'\n",
            " 'bird of paradise' 'monkshood' 'globe thistle' 'snapdragon' \"colt's foot\"\n",
            " 'king protea' 'spear thistle' 'yellow iris' 'globe-flower'\n",
            " 'purple coneflower' 'peruvian lily' 'balloon flower'\n",
            " 'giant white arum lily' 'fire lily' 'pincushion flower' 'fritillary'\n",
            " 'red ginger' 'grape hyacinth' 'corn poppy' 'prince of wales feathers'\n",
            " 'stemless gentian' 'artichoke' 'sweet william' 'carnation' 'garden phlox'\n",
            " 'love in the mist' 'mexican aster' 'alpine sea holly'\n",
            " 'ruby-lipped cattleya' 'cape flower' 'great masterwort' 'siam tulip'\n",
            " 'lenten rose' 'barbeton daisy' 'daffodil' 'sword lily' 'poinsettia'\n",
            " 'bolero deep blue' 'wallflower' 'marigold' 'buttercup' 'oxeye daisy'\n",
            " 'common dandelion' 'petunia' 'wild pansy' 'primula' 'sunflower'\n",
            " 'pelargonium' 'bishop of llandaff' 'gaura' 'geranium' 'orange dahlia'\n",
            " 'pink-yellow dahlia?' 'cautleya spicata' 'japanese anemone'\n",
            " 'black-eyed susan' 'silverbush' 'californian poppy' 'osteospermum'\n",
            " 'spring crocus' 'bearded iris' 'windflower' 'tree poppy' 'gazania'\n",
            " 'azalea' 'water lily' 'rose' 'thorn apple' 'morning glory'\n",
            " 'passion flower' 'lotus' 'toad lily' 'anthurium' 'frangipani' 'clematis'\n",
            " 'hibiscus' 'columbine' 'desert-rose' 'tree mallow' 'magnolia' 'cyclamen'\n",
            " 'watercress' 'canna lily' 'hippeastrum' 'bee balm' 'ball moss' 'foxglove'\n",
            " 'bougainvillea' 'camellia' 'mallow' 'mexican petunia' 'bromelia'\n",
            " 'blanket flower' 'trumpet creeper' 'blackberry lily']\n"
          ]
        }
      ]
    },
    {
      "cell_type": "code",
      "source": [
        "CLASS_NAMES = [\"pink primrose\", \"hard-leaved pocket orchid\", \"canterbury bells\",\n",
        "    \"sweet pea\", \"english marigold\", \"tiger lily\", \"moon orchid\",\n",
        "    \"bird of paradise\", \"monkshood\", \"globe thistle\", \"snapdragon\",\n",
        "    \"colt's foot\", \"king protea\", \"spear thistle\", \"yellow iris\",\n",
        "    \"globe-flower\", \"purple coneflower\", \"peruvian lily\", \"balloon flower\",\n",
        "    \"giant white arum lily\", \"fire lily\", \"pincushion flower\", \"fritillary\",\n",
        "    \"red ginger\", \"grape hyacinth\", \"corn poppy\", \"prince of wales feathers\",\n",
        "    \"stemless gentian\", \"artichoke\", \"sweet william\", \"carnation\",\n",
        "    \"garden phlox\", \"love in the mist\", \"mexican aster\", \"alpine sea holly\",\n",
        "    \"ruby-lipped cattleya\", \"cape flower\", \"great masterwort\", \"siam tulip\",\n",
        "    \"lenten rose\", \"barbeton daisy\", \"daffodil\", \"sword lily\", \"poinsettia\",\n",
        "    \"bolero deep blue\", \"wallflower\", \"marigold\", \"buttercup\", \"oxeye daisy\",\n",
        "    \"common dandelion\", \"petunia\", \"wild pansy\", \"primula\", \"sunflower\",\n",
        "    \"pelargonium\", \"bishop of llandaff\", \"gaura\", \"geranium\", \"orange dahlia\",\n",
        "    \"pink-yellow dahlia?\", \"cautleya spicata\", \"japanese anemone\",\n",
        "    \"black-eyed susan\", \"silverbush\", \"californian poppy\", \"osteospermum\",\n",
        "    \"spring crocus\", \"bearded iris\", \"windflower\", \"tree poppy\", \"gazania\",\n",
        "    \"azalea\", \"water lily\", \"rose\", \"thorn apple\", \"morning glory\",\n",
        "    \"passion flower\", \"lotus\", \"toad lily\", \"anthurium\", \"frangipani\",\n",
        "    \"clematis\", \"hibiscus\", \"columbine\", \"desert-rose\", \"tree mallow\",\n",
        "    \"magnolia\", \"cyclamen\", \"watercress\", \"canna lily\", \"hippeastrum\",\n",
        "    \"bee balm\", \"ball moss\", \"foxglove\", \"bougainvillea\", \"camellia\", \"mallow\",\n",
        "    \"mexican petunia\", \"bromelia\", \"blanket flower\", \"trumpet creeper\",\n",
        "    \"blackberry lily\"]\n",
        "output_class_names = np.array(CLASS_NAMES)"
      ],
      "metadata": {
        "id": "pzLdCmnjQJKd"
      },
      "execution_count": 32,
      "outputs": []
    },
    {
      "cell_type": "code",
      "source": [
        "image_batch = []\n",
        "label_batch = []\n",
        "image_batch, label_batch = next(iter(test))\n",
        "\n",
        "t = list(test.as_numpy_iterator())\n",
        "\n",
        "for i in range(len(test)-1):\n",
        "    image_batch = np.append(image_batch, t[i+1][0], axis=0)\n",
        "    label_batch = np.append(label_batch, t[i+1][1], axis=0)\n",
        "\n",
        "\n",
        "image_batch = image_batch\n",
        "label_batch = label_batch\n",
        "\n",
        "predicted_batch = model.predict(image_batch)\n",
        "predicted_batch = tf.squeeze(predicted_batch).numpy()\n",
        "\n",
        "predicted_ids = np.argmax(predicted_batch, axis=-1)\n",
        "predicted_class_names = class_names[predicted_ids]\n",
        "print(predicted_class_names)"
      ],
      "metadata": {
        "colab": {
          "base_uri": "https://localhost:8080/"
        },
        "id": "9Urt2ksFQKGI",
        "outputId": "7da59dd0-7a00-492e-8ccd-55b351f5ab6a"
      },
      "execution_count": 33,
      "outputs": [
        {
          "output_type": "stream",
          "name": "stdout",
          "text": [
            "193/193 [==============================] - 82s 404ms/step\n",
            "['barbeton daisy' 'king protea' 'sword lily' ... 'osteospermum'\n",
            " 'passion flower' 'bird of paradise']\n"
          ]
        }
      ]
    },
    {
      "cell_type": "code",
      "source": [
        "predicted_output_class_names = output_class_names[predicted_ids]\n",
        "print(predicted_output_class_names)"
      ],
      "metadata": {
        "colab": {
          "base_uri": "https://localhost:8080/"
        },
        "id": "3wPT3jmfQLYs",
        "outputId": "92b33151-c8e6-4bce-b025-b31ea346e7ad"
      },
      "execution_count": 34,
      "outputs": [
        {
          "output_type": "stream",
          "name": "stdout",
          "text": [
            "['barbeton daisy' 'king protea' 'sword lily' ... 'osteospermum'\n",
            " 'passion flower' 'bird of paradise']\n"
          ]
        }
      ]
    },
    {
      "cell_type": "code",
      "source": [
        "from sklearn.metrics import confusion_matrix\n",
        "import seaborn as sns\n",
        "\n",
        "# Converter as previsões em rótulos de classe\n",
        "predicted_classes = predicted_ids#np.argmax(probs, axis=1)\n",
        "\n",
        "# Obter os rótulos verdadeiros do conjunto de dados de validação\n",
        "true_classes = label_batch#np.argmax(y_test, axis=1)\n",
        "\n",
        "# Obter os nomes das classes\n",
        "# class_names = list(validgen.class_indices.keys())\n",
        "\n",
        "# Calcular a precisão\n",
        "accuracy = np.mean(predicted_classes == true_classes)\n",
        "print('Precisão:', accuracy)\n",
        "\n",
        "# Criar uma matriz de confusão\n",
        "# confusion_mtx = confusion_matrix(true_classes, predicted_classes)\n",
        "\n",
        "# # Plotar a matriz de confusão usando seaborn\n",
        "# sns.set()\n",
        "# sns.heatmap(confusion_mtx, annot=True, fmt='d', cmap='YlGnBu',)\n",
        "# plt.xlabel('Previsão')\n",
        "# plt.ylabel('Real')\n",
        "# plt.title('Matriz de Confusão')\n",
        "# plt.show()\n"
      ],
      "metadata": {
        "colab": {
          "base_uri": "https://localhost:8080/"
        },
        "id": "A8KJtm_LQM9m",
        "outputId": "4d2740be-8c9f-4a59-d6f1-24d867587f19"
      },
      "execution_count": 37,
      "outputs": [
        {
          "output_type": "stream",
          "name": "stdout",
          "text": [
            "Precisão: 0.5395999349487721\n"
          ]
        }
      ]
    },
    {
      "cell_type": "code",
      "source": [
        "import numpy as np\n",
        "import tensorflow as tf\n",
        "from sklearn.metrics import classification_report\n",
        "\n",
        "# Calcular a precisão, recall e F1-score para cada classe\n",
        "report = classification_report(true_classes, predicted_classes, target_names=class_names)\n",
        "\n",
        "# Exibir o relatório de classificação\n",
        "print(report)"
      ],
      "metadata": {
        "colab": {
          "base_uri": "https://localhost:8080/"
        },
        "id": "yq3dzL6HQNv1",
        "outputId": "5f6bb276-3176-47bb-def6-7a60f6b153e8"
      },
      "execution_count": 36,
      "outputs": [
        {
          "output_type": "stream",
          "name": "stdout",
          "text": [
            "                           precision    recall  f1-score   support\n",
            "\n",
            "            pink primrose       1.00      0.45      0.62        20\n",
            "hard-leaved pocket orchid       0.97      0.78      0.86        40\n",
            "         canterbury bells       0.07      0.45      0.12        20\n",
            "                sweet pea       0.17      0.33      0.23        36\n",
            "         english marigold       1.00      0.02      0.04        45\n",
            "               tiger lily       0.00      0.00      0.00        25\n",
            "              moon orchid       0.39      0.60      0.47        20\n",
            "         bird of paradise       0.98      0.77      0.86        65\n",
            "                monkshood       0.57      0.62      0.59        26\n",
            "            globe thistle       0.83      0.96      0.89        25\n",
            "               snapdragon       0.55      0.16      0.25        67\n",
            "              colt's foot       0.92      0.52      0.67        67\n",
            "              king protea       0.47      1.00      0.64        29\n",
            "            spear thistle       0.90      0.93      0.91        28\n",
            "              yellow iris       0.27      0.86      0.41        29\n",
            "             globe-flower       0.28      0.81      0.41        21\n",
            "        purple coneflower       1.00      0.88      0.93        65\n",
            "            peruvian lily       0.39      0.56      0.46        62\n",
            "           balloon flower       0.49      0.72      0.58        29\n",
            "    giant white arum lily       0.49      0.47      0.48        36\n",
            "                fire lily       0.52      0.85      0.64        20\n",
            "        pincushion flower       0.67      0.67      0.67        39\n",
            "               fritillary       0.32      0.83      0.46        71\n",
            "               red ginger       0.40      0.77      0.53        22\n",
            "           grape hyacinth       0.62      0.76      0.68        21\n",
            "               corn poppy       0.75      0.29      0.41        21\n",
            " prince of wales feathers       0.72      0.65      0.68        20\n",
            "         stemless gentian       0.52      0.93      0.67        46\n",
            "                artichoke       1.00      0.28      0.43        58\n",
            "            sweet william       0.80      0.55      0.65        65\n",
            "                carnation       0.40      0.12      0.19        32\n",
            "             garden phlox       0.40      0.08      0.13        25\n",
            "         love in the mist       0.40      0.73      0.51        26\n",
            "            mexican aster       0.75      0.75      0.75        20\n",
            "         alpine sea holly       0.42      1.00      0.59        23\n",
            "     ruby-lipped cattleya       0.95      0.35      0.51        55\n",
            "              cape flower       1.00      0.85      0.92        88\n",
            "         great masterwort       0.75      0.42      0.54        36\n",
            "               siam tulip       0.07      0.81      0.13        21\n",
            "              lenten rose       0.43      0.62      0.50        47\n",
            "           barbeton daisy       0.67      0.79      0.73       107\n",
            "                 daffodil       0.54      0.38      0.45        39\n",
            "               sword lily       0.19      0.51      0.28       110\n",
            "               poinsettia       0.58      0.77      0.66        73\n",
            "         bolero deep blue       0.62      0.40      0.48        20\n",
            "               wallflower       0.73      0.84      0.78       176\n",
            "                 marigold       0.58      0.68      0.63        47\n",
            "                buttercup       0.57      0.88      0.69        51\n",
            "              oxeye daisy       0.90      0.93      0.92        29\n",
            "         common dandelion       0.68      0.96      0.80        72\n",
            "                  petunia       0.25      0.00      0.01       238\n",
            "               wild pansy       0.93      0.83      0.88        65\n",
            "                  primula       1.00      0.11      0.20        73\n",
            "                sunflower       0.95      0.93      0.94        41\n",
            "              pelargonium       0.97      0.59      0.73        51\n",
            "       bishop of llandaff       0.96      0.56      0.71        89\n",
            "                    gaura       0.67      0.89      0.76        47\n",
            "                 geranium       0.73      0.85      0.78        94\n",
            "            orange dahlia       0.34      0.98      0.50        47\n",
            "      pink-yellow dahlia?       1.00      0.42      0.59        89\n",
            "         cautleya spicata       1.00      0.07      0.12        30\n",
            "         japanese anemone       0.25      0.77      0.38        35\n",
            "         black-eyed susan       0.91      0.91      0.91        34\n",
            "               silverbush       1.00      0.06      0.12        32\n",
            "        californian poppy       0.84      0.77      0.80        82\n",
            "             osteospermum       0.85      1.00      0.92        41\n",
            "            spring crocus       0.42      0.50      0.46        22\n",
            "             bearded iris       1.00      0.06      0.11        34\n",
            "               windflower       0.87      0.59      0.70        34\n",
            "               tree poppy       0.81      0.93      0.87        42\n",
            "                  gazania       0.95      0.95      0.95        58\n",
            "                   azalea       0.45      0.24      0.31        76\n",
            "               water lily       0.91      0.45      0.61       174\n",
            "                     rose       0.61      0.59      0.60       151\n",
            "              thorn apple       0.46      0.98      0.63       100\n",
            "            morning glory       0.97      0.33      0.50        87\n",
            "           passion flower       0.99      0.58      0.73       231\n",
            "                    lotus       0.45      0.88      0.59       117\n",
            "                toad lily       0.60      0.71      0.65        21\n",
            "                anthurium       0.66      0.48      0.56        85\n",
            "               frangipani       1.00      0.12      0.22       146\n",
            "                 clematis       0.68      0.30      0.42        92\n",
            "                 hibiscus       0.58      0.10      0.17       111\n",
            "                columbine       0.30      0.50      0.37        66\n",
            "              desert-rose       0.66      0.49      0.56        43\n",
            "              tree mallow       0.36      0.84      0.50        38\n",
            "                 magnolia       0.77      0.47      0.58        43\n",
            "                 cyclamen       1.00      0.14      0.25       134\n",
            "               watercress       0.81      0.40      0.54       164\n",
            "               canna lily       0.19      0.81      0.31        62\n",
            "              hippeastrum       0.79      0.46      0.58        56\n",
            "                 bee balm       0.87      0.57      0.68        46\n",
            "                ball moss       0.71      0.46      0.56        26\n",
            "                 foxglove       0.78      0.46      0.58       142\n",
            "            bougainvillea       0.45      0.23      0.30       108\n",
            "                 camellia       0.38      0.14      0.21        71\n",
            "                   mallow       0.33      0.52      0.40        46\n",
            "          mexican petunia       0.41      0.79      0.54        62\n",
            "                 bromelia       0.83      0.12      0.20        43\n",
            "           blanket flower       0.82      0.97      0.89        29\n",
            "          trumpet creeper       1.00      0.05      0.10        38\n",
            "          blackberry lily       0.43      0.64      0.51        28\n",
            "\n",
            "                 accuracy                           0.54      6149\n",
            "                macro avg       0.65      0.58      0.54      6149\n",
            "             weighted avg       0.68      0.54      0.53      6149\n",
            "\n"
          ]
        },
        {
          "output_type": "stream",
          "name": "stderr",
          "text": [
            "/usr/local/lib/python3.10/dist-packages/sklearn/metrics/_classification.py:1344: UndefinedMetricWarning: Precision and F-score are ill-defined and being set to 0.0 in labels with no predicted samples. Use `zero_division` parameter to control this behavior.\n",
            "  _warn_prf(average, modifier, msg_start, len(result))\n",
            "/usr/local/lib/python3.10/dist-packages/sklearn/metrics/_classification.py:1344: UndefinedMetricWarning: Precision and F-score are ill-defined and being set to 0.0 in labels with no predicted samples. Use `zero_division` parameter to control this behavior.\n",
            "  _warn_prf(average, modifier, msg_start, len(result))\n",
            "/usr/local/lib/python3.10/dist-packages/sklearn/metrics/_classification.py:1344: UndefinedMetricWarning: Precision and F-score are ill-defined and being set to 0.0 in labels with no predicted samples. Use `zero_division` parameter to control this behavior.\n",
            "  _warn_prf(average, modifier, msg_start, len(result))\n"
          ]
        }
      ]
    },
    {
      "cell_type": "code",
      "source": [],
      "metadata": {
        "id": "jhxhn_F5V-91"
      },
      "execution_count": null,
      "outputs": []
    }
  ]
}