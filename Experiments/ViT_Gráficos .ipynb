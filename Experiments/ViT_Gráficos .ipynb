{
  "cells": [
    {
      "cell_type": "code",
      "execution_count": null,
      "metadata": {
        "colab": {
          "base_uri": "https://localhost:8080/",
          "height": 799
        },
        "id": "BqzzEOFVXkK-",
        "outputId": "fb4ceeba-a09b-4657-bde7-79a89405590f"
      },
      "outputs": [
        {
          "output_type": "stream",
          "name": "stderr",
          "text": [
            "<ipython-input-1-e56fe135fc6e>:16: DeprecationWarning: `set_matplotlib_formats` is deprecated since IPython 7.23, directly use `matplotlib_inline.backend_inline.set_matplotlib_formats()`\n",
            "  set_matplotlib_formats('svg', 'pdf') # For export\n"
          ]
        },
        {
          "output_type": "stream",
          "name": "stdout",
          "text": [
            "Looking in indexes: https://pypi.org/simple, https://us-python.pkg.dev/colab-wheels/public/simple/\n",
            "Collecting transformers\n",
            "  Downloading transformers-4.28.1-py3-none-any.whl (7.0 MB)\n",
            "\u001b[2K     \u001b[90m━━━━━━━━━━━━━━━━━━━━━━━━━━━━━━━━━━━━━━━━\u001b[0m \u001b[32m7.0/7.0 MB\u001b[0m \u001b[31m17.6 MB/s\u001b[0m eta \u001b[36m0:00:00\u001b[0m\n",
            "\u001b[?25hRequirement already satisfied: requests in /usr/local/lib/python3.9/dist-packages (from transformers) (2.27.1)\n",
            "Requirement already satisfied: pyyaml>=5.1 in /usr/local/lib/python3.9/dist-packages (from transformers) (6.0)\n",
            "Requirement already satisfied: tqdm>=4.27 in /usr/local/lib/python3.9/dist-packages (from transformers) (4.65.0)\n",
            "Collecting tokenizers!=0.11.3,<0.14,>=0.11.1\n",
            "  Downloading tokenizers-0.13.3-cp39-cp39-manylinux_2_17_x86_64.manylinux2014_x86_64.whl (7.8 MB)\n",
            "\u001b[2K     \u001b[90m━━━━━━━━━━━━━━━━━━━━━━━━━━━━━━━━━━━━━━━━\u001b[0m \u001b[32m7.8/7.8 MB\u001b[0m \u001b[31m57.5 MB/s\u001b[0m eta \u001b[36m0:00:00\u001b[0m\n",
            "\u001b[?25hRequirement already satisfied: filelock in /usr/local/lib/python3.9/dist-packages (from transformers) (3.11.0)\n",
            "Requirement already satisfied: regex!=2019.12.17 in /usr/local/lib/python3.9/dist-packages (from transformers) (2022.10.31)\n",
            "Requirement already satisfied: numpy>=1.17 in /usr/local/lib/python3.9/dist-packages (from transformers) (1.22.4)\n",
            "Requirement already satisfied: packaging>=20.0 in /usr/local/lib/python3.9/dist-packages (from transformers) (23.1)\n",
            "Collecting huggingface-hub<1.0,>=0.11.0\n",
            "  Downloading huggingface_hub-0.13.4-py3-none-any.whl (200 kB)\n",
            "\u001b[2K     \u001b[90m━━━━━━━━━━━━━━━━━━━━━━━━━━━━━━━━━━━━━━\u001b[0m \u001b[32m200.1/200.1 kB\u001b[0m \u001b[31m22.5 MB/s\u001b[0m eta \u001b[36m0:00:00\u001b[0m\n",
            "\u001b[?25hRequirement already satisfied: typing-extensions>=3.7.4.3 in /usr/local/lib/python3.9/dist-packages (from huggingface-hub<1.0,>=0.11.0->transformers) (4.5.0)\n",
            "Requirement already satisfied: urllib3<1.27,>=1.21.1 in /usr/local/lib/python3.9/dist-packages (from requests->transformers) (1.26.15)\n",
            "Requirement already satisfied: idna<4,>=2.5 in /usr/local/lib/python3.9/dist-packages (from requests->transformers) (3.4)\n",
            "Requirement already satisfied: charset-normalizer~=2.0.0 in /usr/local/lib/python3.9/dist-packages (from requests->transformers) (2.0.12)\n",
            "Requirement already satisfied: certifi>=2017.4.17 in /usr/local/lib/python3.9/dist-packages (from requests->transformers) (2022.12.7)\n",
            "Installing collected packages: tokenizers, huggingface-hub, transformers\n",
            "Successfully installed huggingface-hub-0.13.4 tokenizers-0.13.3 transformers-4.28.1\n",
            "Looking in indexes: https://pypi.org/simple, https://us-python.pkg.dev/colab-wheels/public/simple/\n",
            "Collecting tensorflow-addons\n",
            "  Downloading tensorflow_addons-0.20.0-cp39-cp39-manylinux_2_17_x86_64.manylinux2014_x86_64.whl (591 kB)\n",
            "\u001b[2K     \u001b[90m━━━━━━━━━━━━━━━━━━━━━━━━━━━━━━━━━━━━━━\u001b[0m \u001b[32m591.0/591.0 kB\u001b[0m \u001b[31m11.7 MB/s\u001b[0m eta \u001b[36m0:00:00\u001b[0m\n",
            "\u001b[?25hCollecting typeguard<3.0.0,>=2.7\n",
            "  Downloading typeguard-2.13.3-py3-none-any.whl (17 kB)\n",
            "Requirement already satisfied: packaging in /usr/local/lib/python3.9/dist-packages (from tensorflow-addons) (23.1)\n",
            "Installing collected packages: typeguard, tensorflow-addons\n",
            "Successfully installed tensorflow-addons-0.20.0 typeguard-2.13.3\n"
          ]
        },
        {
          "output_type": "stream",
          "name": "stderr",
          "text": [
            "/usr/local/lib/python3.9/dist-packages/tensorflow_addons/utils/tfa_eol_msg.py:23: UserWarning: \n",
            "\n",
            "TensorFlow Addons (TFA) has ended development and introduction of new features.\n",
            "TFA has entered a minimal maintenance and release mode until a planned end of life in May 2024.\n",
            "Please modify downstream libraries to take dependencies from other repositories in our TensorFlow community (e.g. Keras, Keras-CV, and Keras-NLP). \n",
            "\n",
            "For more information see: https://github.com/tensorflow/addons/issues/2807 \n",
            "\n",
            "  warnings.warn(\n"
          ]
        },
        {
          "output_type": "display_data",
          "data": {
            "text/plain": [
              "<Figure size 640x480 with 0 Axes>"
            ]
          },
          "metadata": {}
        }
      ],
      "source": [
        "# import libs and config stuff\n",
        "## Standard libraries\n",
        "import os\n",
        "import numpy as np\n",
        "import random\n",
        "import math\n",
        "import json\n",
        "from functools import partial\n",
        "from PIL import Image\n",
        "\n",
        "## Imports for plotting\n",
        "import matplotlib.pyplot as plt\n",
        "plt.set_cmap('cividis')\n",
        "#%matplotlib inline\n",
        "from IPython.display import set_matplotlib_formats\n",
        "set_matplotlib_formats('svg', 'pdf') # For export\n",
        "from matplotlib.colors import to_rgb\n",
        "import matplotlib\n",
        "matplotlib.rcParams['lines.linewidth'] = 2.0\n",
        "import seaborn as sns\n",
        "sns.reset_orig()\n",
        "\n",
        "## tqdm for loading bars\n",
        "from tqdm.notebook import tqdm\n",
        "\n",
        "## PyTorch\n",
        "import torch\n",
        "import torch.nn as nn\n",
        "import torch.nn.functional as F\n",
        "import torch.utils.data as data\n",
        "import torch.optim as optim\n",
        "\n",
        "!pip install transformers\n",
        "from transformers import ViTModel\n",
        "\n",
        "## Torchvision\n",
        "import torchvision\n",
        "from torchvision import datasets\n",
        "from torchvision.datasets import CIFAR10\n",
        "from torchvision import transforms\n",
        "\n",
        "\n",
        "# PyTorch Lightning\n",
        "try:\n",
        "    import pytorch_lightning as pl\n",
        "except ModuleNotFoundError: # Google Colab does not have PyTorch Lightning installed by default. Hence, we do it here if necessary\n",
        "    !pip install --quiet pytorch-lightning>=1.4\n",
        "    import pytorch_lightning as pl\n",
        "from pytorch_lightning.callbacks import LearningRateMonitor, ModelCheckpoint\n",
        "\n",
        "\n",
        "\n",
        "import numpy as np\n",
        "import tensorflow as tf\n",
        "from tensorflow import keras\n",
        "from tensorflow.keras import layers\n",
        "!pip install -U tensorflow-addons\n",
        "import tensorflow_addons as tfa\n"
      ]
    },
    {
      "cell_type": "code",
      "execution_count": null,
      "metadata": {
        "colab": {
          "base_uri": "https://localhost:8080/"
        },
        "id": "fJeG1UKpjBAO",
        "outputId": "888a194d-b1ed-4135-fd4b-e5159ce5c659"
      },
      "outputs": [
        {
          "output_type": "stream",
          "name": "stderr",
          "text": [
            "INFO:lightning_fabric.utilities.seed:Global seed set to 42\n"
          ]
        },
        {
          "output_type": "stream",
          "name": "stdout",
          "text": [
            "Device: cuda:0\n"
          ]
        }
      ],
      "source": [
        "# Path to the folder where the pretrained models are saved\n",
        "CHECKPOINT_PATH = \"/content/drive/MyDrive/USP/TCC/experiments/saved_models/ViT/mark1\"\n",
        "\n",
        "# Setting the seed\n",
        "pl.seed_everything(42)\n",
        "\n",
        "# Ensure that all operations are deterministic on GPU (if used) for reproducibility\n",
        "torch.backends.cudnn.deterministic = True\n",
        "torch.backends.cudnn.benchmark = False\n",
        "\n",
        "device = torch.device(\"cuda:0\") if torch.cuda.is_available() else torch.device(\"cpu\")\n",
        "print(\"Device:\", device)\n",
        "\n",
        "\n",
        "\n",
        "# LOAD DATASET\n",
        "img_size = 72\n",
        "train_data_transform = transforms.Compose([\n",
        "        transforms.Resize((img_size, img_size,)),\n",
        "        transforms.RandomHorizontalFlip(),\n",
        "        transforms.RandomResizedCrop((img_size,img_size),scale=(0.8,1.0),ratio=(0.9,1.1)),\n",
        "        transforms.ToTensor(),\n",
        "        transforms.Normalize([0.49139968, 0.48215841, 0.44653091], [0.24703223, 0.24348513, 0.26158784])\n",
        "    ])\n",
        "\n",
        "test_data_transform = transforms.Compose([\n",
        "        transforms.Resize((img_size, img_size)),\n",
        "        transforms.ToTensor(),\n",
        "        transforms.Normalize([0.49139968, 0.48215841, 0.44653091], [0.24703223, 0.24348513, 0.26158784])\n",
        "    ])\n",
        "\n",
        "train_flowers_set = datasets.ImageFolder(root='/content/drive/MyDrive/USP/TCC/experiments/dataset_flowers_350_images_7_classes/train',\n",
        "                                           transform=train_data_transform)\n",
        "\n",
        "val_flowers_set = datasets.ImageFolder(root='/content/drive/MyDrive/USP/TCC/experiments/dataset_flowers_350_images_7_classes/val',\n",
        "                                           transform=test_data_transform)\n",
        "\n",
        "test_flowers_set = datasets.ImageFolder(root='/content/drive/MyDrive/USP/TCC/experiments/dataset_flowers_350_images_7_classes/test',\n",
        "                                           transform=test_data_transform)\n",
        "\n",
        "\n",
        "train_loader = torch.utils.data.DataLoader(train_flowers_set,\n",
        "                                             batch_size=280, shuffle=True,\n",
        "                                             num_workers=1)\n",
        "\n",
        "val_loader = torch.utils.data.DataLoader(val_flowers_set,\n",
        "                                             batch_size=35, shuffle=False,\n",
        "                                             num_workers=1)\n",
        "\n",
        "test_loader = torch.utils.data.DataLoader(test_flowers_set,\n",
        "                                             batch_size=35, shuffle=False,\n",
        "                                             num_workers=1)\n",
        "\n",
        "# NUM_IMAGES = 10\n",
        "# images = torch.stack([val_flowers_set[idx][0] for idx in range(NUM_IMAGES)], dim=0)\n",
        "# img_grid = torchvision.utils.make_grid(images, nrow=5, normalize=True, pad_value=0.9)\n",
        "# img_grid = img_grid.permute(1, 2, 0)\n",
        "\n",
        "# plt.figure(figsize=(12,12))\n",
        "# plt.title(\"Image examples of flowers dataset\")\n",
        "# plt.imshow(img_grid)\n",
        "# plt.axis('off')\n",
        "# plt.show()\n",
        "# plt.close()\n"
      ]
    },
    {
      "cell_type": "code",
      "source": [
        "for data in test_loader:\n",
        "  (x_test, y_test) = data\n",
        "for data in train_loader:\n",
        "  (x_train, y_train) = data\n",
        "\n",
        "print(f\"x_train shape: {x_test.shape} - y_train shape: {y_test.shape}\")\n",
        "print(f\"x_test shape: {x_test.shape} - y_test shape: {y_test.shape}\")\n",
        "\n",
        "y_test = y_test.reshape((35,1))\n",
        "y_test = y_test.numpy()\n",
        "x_test = np.moveaxis(x_test.numpy(), 1, 3)\n",
        "x_test = np.moveaxis(x_test, 1, 2)\n",
        "\n",
        "y_train = y_train.reshape((280,1))\n",
        "y_train = y_train.numpy()\n",
        "x_train = np.moveaxis(x_train.numpy(), 1, 3)\n",
        "x_train = np.moveaxis(x_train, 1, 2)\n",
        "\n",
        "print(f\"x_train shape: {x_train.shape} - y_train shape: {y_train.shape}\")\n",
        "print(f\"x_test shape: {x_test.shape} - y_test shape: {y_test.shape}\")"
      ],
      "metadata": {
        "colab": {
          "base_uri": "https://localhost:8080/"
        },
        "id": "RYTx9ffdjuoC",
        "outputId": "69ec83cb-9879-49f2-a5b1-f0efc38724ec"
      },
      "execution_count": null,
      "outputs": [
        {
          "output_type": "stream",
          "name": "stdout",
          "text": [
            "x_train shape: torch.Size([35, 3, 72, 72]) - y_train shape: torch.Size([35])\n",
            "x_test shape: torch.Size([35, 3, 72, 72]) - y_test shape: torch.Size([35])\n",
            "x_train shape: (280, 72, 72, 3) - y_train shape: (280, 1)\n",
            "x_test shape: (35, 72, 72, 3) - y_test shape: (35, 1)\n"
          ]
        }
      ]
    },
    {
      "cell_type": "code",
      "execution_count": null,
      "metadata": {
        "id": "HCB7YBEsYbkq"
      },
      "outputs": [],
      "source": [
        "num_classes = 7\n",
        "input_shape = (72, 72, 3)\n",
        "\n",
        "# (x_train, y_train), (x_test, y_test) = keras.datasets.cifar100.load_data()\n",
        "\n",
        "# print(f\"x_train shape: {x_train.shape} - y_train shape: {y_train.shape}\")\n",
        "# print(f\"x_test shape: {x_test.shape} - y_test shape: {y_test.shape}\")\n",
        "\n"
      ]
    },
    {
      "cell_type": "code",
      "execution_count": null,
      "metadata": {
        "id": "PwIRVPwebOAU"
      },
      "outputs": [],
      "source": [
        "learning_rate = 0.001\n",
        "weight_decay = 0.0001\n",
        "batch_size = 256\n",
        "num_epochs = 100\n",
        "image_size = 72  # We'll resize input images to this size\n",
        "patch_size = 6  # Size of the patches to be extract from the input images\n",
        "num_patches = (image_size // patch_size) ** 2\n",
        "projection_dim = 64\n",
        "num_heads = 4\n",
        "transformer_units = [\n",
        "    projection_dim * 2,\n",
        "    projection_dim,\n",
        "]  # Size of the transformer layers\n",
        "transformer_layers = 8\n",
        "mlp_head_units = [2048, 1024]  # Size of the dense layers of the final classifier\n"
      ]
    },
    {
      "cell_type": "code",
      "execution_count": null,
      "metadata": {
        "id": "p8UrQ4uSb90H"
      },
      "outputs": [],
      "source": [
        "data_augmentation = keras.Sequential(\n",
        "    [\n",
        "        layers.Normalization(),\n",
        "        layers.Resizing(image_size, image_size),\n",
        "        layers.RandomFlip(\"horizontal\"),\n",
        "        layers.RandomRotation(factor=0.02),\n",
        "        layers.RandomZoom(\n",
        "            height_factor=0.2, width_factor=0.2\n",
        "        ),\n",
        "    ],\n",
        "    name=\"data_augmentation\",\n",
        ")\n",
        "# Compute the mean and the variance of the training data for normalization.\n",
        "data_augmentation.layers[0].adapt(x_train)\n"
      ]
    },
    {
      "cell_type": "code",
      "execution_count": null,
      "metadata": {
        "id": "LOoZrDDqbPup"
      },
      "outputs": [],
      "source": [
        "def mlp(x, hidden_units, dropout_rate):\n",
        "    for units in hidden_units:\n",
        "        x = layers.Dense(units, activation=tf.nn.gelu)(x)\n",
        "        x = layers.Dropout(dropout_rate)(x)\n",
        "    return x\n"
      ]
    },
    {
      "cell_type": "code",
      "execution_count": null,
      "metadata": {
        "id": "WCPqjcigbPn5"
      },
      "outputs": [],
      "source": [
        "class Patches(layers.Layer):\n",
        "    def __init__(self, patch_size):\n",
        "        super().__init__()\n",
        "        self.patch_size = patch_size\n",
        "\n",
        "    def call(self, images):\n",
        "        batch_size = tf.shape(images)[0]\n",
        "        patches = tf.image.extract_patches(\n",
        "            images=images,\n",
        "            sizes=[1, self.patch_size, self.patch_size, 1],\n",
        "            strides=[1, self.patch_size, self.patch_size, 1],\n",
        "            rates=[1, 1, 1, 1],\n",
        "            padding=\"VALID\",\n",
        "        )\n",
        "        patch_dims = patches.shape[-1]\n",
        "        patches = tf.reshape(patches, [batch_size, -1, patch_dims])\n",
        "        return patches\n"
      ]
    },
    {
      "cell_type": "code",
      "execution_count": null,
      "metadata": {
        "colab": {
          "base_uri": "https://localhost:8080/",
          "height": 406
        },
        "id": "splp-W3hbUtL",
        "outputId": "80d4a507-b1fb-4244-f6e6-3c0c485a5dcb"
      },
      "outputs": [
        {
          "output_type": "stream",
          "name": "stdout",
          "text": [
            "Image size: 72 X 72\n",
            "Patch size: 6 X 6\n",
            "Patches per image: 144\n",
            "Elements per patch: 108\n"
          ]
        },
        {
          "output_type": "display_data",
          "data": {
            "text/plain": [
              "<Figure size 400x400 with 1 Axes>"
            ],
            "image/svg+xml": "<?xml version=\"1.0\" encoding=\"utf-8\" standalone=\"no\"?>\n<!DOCTYPE svg PUBLIC \"-//W3C//DTD SVG 1.1//EN\"\n  \"http://www.w3.org/Graphics/SVG/1.1/DTD/svg11.dtd\">\n<svg xmlns:xlink=\"http://www.w3.org/1999/xlink\" width=\"236.16pt\" height=\"236.16pt\" viewBox=\"0 0 236.16 236.16\" xmlns=\"http://www.w3.org/2000/svg\" version=\"1.1\">\n <metadata>\n  <rdf:RDF xmlns:dc=\"http://purl.org/dc/elements/1.1/\" xmlns:cc=\"http://creativecommons.org/ns#\" xmlns:rdf=\"http://www.w3.org/1999/02/22-rdf-syntax-ns#\">\n   <cc:Work>\n    <dc:type rdf:resource=\"http://purl.org/dc/dcmitype/StillImage\"/>\n    <dc:date>2023-04-22T12:15:55.572930</dc:date>\n    <dc:format>image/svg+xml</dc:format>\n    <dc:creator>\n     <cc:Agent>\n      <dc:title>Matplotlib v3.7.1, https://matplotlib.org/</dc:title>\n     </cc:Agent>\n    </dc:creator>\n   </cc:Work>\n  </rdf:RDF>\n </metadata>\n <defs>\n  <style type=\"text/css\">*{stroke-linejoin: round; stroke-linecap: butt}</style>\n </defs>\n <g id=\"figure_1\">\n  <g id=\"patch_1\">\n   <path d=\"M 0 236.16 \nL 236.16 236.16 \nL 236.16 0 \nL 0 0 \nz\n\" style=\"fill: #ffffff\"/>\n  </g>\n  <g id=\"axes_1\">\n   <g clip-path=\"url(#p080bbafb8a)\">\n    <image xlink:href=\"data:image/png;base64,\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\" id=\"imageafbd39cfbd\" transform=\"scale(1 -1) translate(0 -221.76)\" x=\"7.2\" y=\"-7.2\" width=\"221.76\" height=\"221.76\"/>\n   </g>\n  </g>\n </g>\n <defs>\n  <clipPath id=\"p080bbafb8a\">\n   <rect x=\"7.2\" y=\"7.2\" width=\"221.76\" height=\"221.76\"/>\n  </clipPath>\n </defs>\n</svg>\n",
            "application/pdf": "[encoded data removed]"
          },
          "metadata": {}
        }
      ],
      "source": [
        "import matplotlib.pyplot as plt\n",
        "\n",
        "plt.figure(figsize=(4, 4))\n",
        "image = x_train[np.random.choice(range(x_train.shape[0]))]\n",
        "plt.imshow(image.astype(\"uint8\"))\n",
        "plt.axis(\"off\")\n",
        "\n",
        "resized_image = tf.image.resize(\n",
        "    tf.convert_to_tensor([image]), size=(image_size, image_size)\n",
        ")\n",
        "patches = Patches(patch_size)(resized_image)\n",
        "print(f\"Image size: {image_size} X {image_size}\")\n",
        "print(f\"Patch size: {patch_size} X {patch_size}\")\n",
        "print(f\"Patches per image: {patches.shape[1]}\")\n",
        "print(f\"Elements per patch: {patches.shape[-1]}\")\n"
      ]
    },
    {
      "cell_type": "code",
      "execution_count": null,
      "metadata": {
        "id": "eSaYA5hibWJR"
      },
      "outputs": [],
      "source": [
        "class PatchEncoder(layers.Layer):\n",
        "    def __init__(self, num_patches, projection_dim):\n",
        "        super().__init__()\n",
        "        self.num_patches = num_patches\n",
        "        self.projection = layers.Dense(units=projection_dim)\n",
        "        self.position_embedding = layers.Embedding(\n",
        "            input_dim=num_patches, output_dim=projection_dim\n",
        "        )\n",
        "\n",
        "    def call(self, patch):\n",
        "        positions = tf.range(start=0, limit=self.num_patches, delta=1)\n",
        "        encoded = self.projection(patch) + self.position_embedding(positions)\n",
        "        return encoded\n"
      ]
    },
    {
      "cell_type": "code",
      "execution_count": null,
      "metadata": {
        "id": "UNG1pq2sbXxH"
      },
      "outputs": [],
      "source": [
        "def create_vit_classifier():\n",
        "    inputs = layers.Input(shape=input_shape)\n",
        "    # Augment data.\n",
        "    augmented = data_augmentation(inputs)\n",
        "    # Create patches.\n",
        "    patches = Patches(patch_size)(augmented)\n",
        "    # Encode patches.\n",
        "    encoded_patches = PatchEncoder(num_patches, projection_dim)(patches)\n",
        "\n",
        "    # Create multiple layers of the Transformer block.\n",
        "    for _ in range(transformer_layers):\n",
        "        # Layer normalization 1.\n",
        "        x1 = layers.LayerNormalization(epsilon=1e-6)(encoded_patches)\n",
        "        # Create a multi-head attention layer.\n",
        "        attention_output = layers.MultiHeadAttention(\n",
        "            num_heads=num_heads, key_dim=projection_dim, dropout=0.1\n",
        "        )(x1, x1)\n",
        "        # Skip connection 1.\n",
        "        x2 = layers.Add()([attention_output, encoded_patches])\n",
        "        # Layer normalization 2.\n",
        "        x3 = layers.LayerNormalization(epsilon=1e-6)(x2)\n",
        "        # MLP.\n",
        "        x3 = mlp(x3, hidden_units=transformer_units, dropout_rate=0.1)\n",
        "        # Skip connection 2.\n",
        "        encoded_patches = layers.Add()([x3, x2])\n",
        "\n",
        "    # Create a [batch_size, projection_dim] tensor.\n",
        "    representation = layers.LayerNormalization(epsilon=1e-6)(encoded_patches)\n",
        "    representation = layers.Flatten()(representation)\n",
        "    representation = layers.Dropout(0.5)(representation)\n",
        "    # Add MLP.\n",
        "    features = mlp(representation, hidden_units=mlp_head_units, dropout_rate=0.5)\n",
        "    # Classify outputs.\n",
        "    logits = layers.Dense(num_classes)(features)\n",
        "    # Create the Keras model.\n",
        "    model = keras.Model(inputs=inputs, outputs=logits)\n",
        "    return model\n"
      ]
    },
    {
      "cell_type": "code",
      "execution_count": 40,
      "metadata": {
        "colab": {
          "base_uri": "https://localhost:8080/"
        },
        "id": "XXJokPrObZW_",
        "outputId": "eed6ed41-3225-4377-9d7d-6978a0d89686"
      },
      "outputs": [
        {
          "output_type": "stream",
          "name": "stdout",
          "text": [
            "Epoch 1/100\n",
            "2/2 [==============================] - 15s 3s/step - loss: 4.1437 - accuracy: 0.1893 - top-5-accuracy: 0.7107 - val_loss: 1.8653 - val_accuracy: 0.5429 - val_top-5-accuracy: 0.9429\n",
            "Epoch 2/100\n",
            "2/2 [==============================] - 1s 150ms/step - loss: 2.7911 - accuracy: 0.4893 - top-5-accuracy: 0.9500 - val_loss: 3.0179 - val_accuracy: 0.5429 - val_top-5-accuracy: 0.9714\n",
            "Epoch 3/100\n",
            "2/2 [==============================] - 2s 2s/step - loss: 3.3409 - accuracy: 0.4821 - top-5-accuracy: 0.9679 - val_loss: 2.7363 - val_accuracy: 0.6000 - val_top-5-accuracy: 1.0000\n",
            "Epoch 4/100\n",
            "2/2 [==============================] - 2s 2s/step - loss: 3.4916 - accuracy: 0.5893 - top-5-accuracy: 0.9821 - val_loss: 1.1984 - val_accuracy: 0.7143 - val_top-5-accuracy: 1.0000\n",
            "Epoch 5/100\n",
            "2/2 [==============================] - 1s 162ms/step - loss: 2.1048 - accuracy: 0.5893 - top-5-accuracy: 0.9786 - val_loss: 1.6638 - val_accuracy: 0.6857 - val_top-5-accuracy: 1.0000\n",
            "Epoch 6/100\n",
            "2/2 [==============================] - 2s 2s/step - loss: 1.7701 - accuracy: 0.6786 - top-5-accuracy: 0.9893 - val_loss: 0.6858 - val_accuracy: 0.8286 - val_top-5-accuracy: 1.0000\n",
            "Epoch 7/100\n",
            "2/2 [==============================] - 2s 2s/step - loss: 1.2634 - accuracy: 0.7250 - top-5-accuracy: 0.9786 - val_loss: 0.6529 - val_accuracy: 0.8571 - val_top-5-accuracy: 1.0000\n",
            "Epoch 8/100\n",
            "2/2 [==============================] - 0s 155ms/step - loss: 1.1782 - accuracy: 0.7536 - top-5-accuracy: 0.9964 - val_loss: 0.9315 - val_accuracy: 0.8000 - val_top-5-accuracy: 1.0000\n",
            "Epoch 9/100\n",
            "2/2 [==============================] - 0s 111ms/step - loss: 0.9554 - accuracy: 0.7500 - top-5-accuracy: 1.0000 - val_loss: 1.8889 - val_accuracy: 0.7429 - val_top-5-accuracy: 1.0000\n",
            "Epoch 10/100\n",
            "2/2 [==============================] - 0s 122ms/step - loss: 1.2404 - accuracy: 0.7464 - top-5-accuracy: 0.9964 - val_loss: 0.7323 - val_accuracy: 0.8000 - val_top-5-accuracy: 1.0000\n",
            "Epoch 11/100\n",
            "2/2 [==============================] - 0s 148ms/step - loss: 0.8218 - accuracy: 0.8000 - top-5-accuracy: 1.0000 - val_loss: 0.9337 - val_accuracy: 0.8000 - val_top-5-accuracy: 1.0000\n",
            "Epoch 12/100\n",
            "2/2 [==============================] - 0s 118ms/step - loss: 1.1616 - accuracy: 0.7821 - top-5-accuracy: 1.0000 - val_loss: 0.3536 - val_accuracy: 0.8571 - val_top-5-accuracy: 1.0000\n",
            "Epoch 13/100\n",
            "2/2 [==============================] - 0s 115ms/step - loss: 0.7908 - accuracy: 0.8286 - top-5-accuracy: 1.0000 - val_loss: 0.6855 - val_accuracy: 0.8000 - val_top-5-accuracy: 1.0000\n",
            "Epoch 14/100\n",
            "2/2 [==============================] - 0s 115ms/step - loss: 0.7067 - accuracy: 0.8321 - top-5-accuracy: 1.0000 - val_loss: 0.8385 - val_accuracy: 0.8286 - val_top-5-accuracy: 1.0000\n",
            "Epoch 15/100\n",
            "2/2 [==============================] - 2s 1s/step - loss: 0.7052 - accuracy: 0.8429 - top-5-accuracy: 0.9964 - val_loss: 0.2876 - val_accuracy: 0.8857 - val_top-5-accuracy: 1.0000\n",
            "Epoch 16/100\n",
            "2/2 [==============================] - 2s 1s/step - loss: 0.6858 - accuracy: 0.8571 - top-5-accuracy: 1.0000 - val_loss: 0.5899 - val_accuracy: 0.9143 - val_top-5-accuracy: 1.0000\n",
            "Epoch 17/100\n",
            "2/2 [==============================] - 1s 161ms/step - loss: 0.7230 - accuracy: 0.8357 - top-5-accuracy: 1.0000 - val_loss: 0.6629 - val_accuracy: 0.8857 - val_top-5-accuracy: 1.0000\n",
            "Epoch 18/100\n",
            "2/2 [==============================] - 1s 175ms/step - loss: 0.7181 - accuracy: 0.8321 - top-5-accuracy: 1.0000 - val_loss: 0.3550 - val_accuracy: 0.8857 - val_top-5-accuracy: 1.0000\n",
            "Epoch 19/100\n",
            "2/2 [==============================] - 1s 143ms/step - loss: 0.3466 - accuracy: 0.9036 - top-5-accuracy: 1.0000 - val_loss: 0.2962 - val_accuracy: 0.8857 - val_top-5-accuracy: 1.0000\n",
            "Epoch 20/100\n",
            "2/2 [==============================] - 1s 146ms/step - loss: 0.4185 - accuracy: 0.8929 - top-5-accuracy: 1.0000 - val_loss: 0.5122 - val_accuracy: 0.8857 - val_top-5-accuracy: 1.0000\n",
            "Epoch 21/100\n",
            "2/2 [==============================] - 0s 144ms/step - loss: 0.4739 - accuracy: 0.9000 - top-5-accuracy: 1.0000 - val_loss: 0.2395 - val_accuracy: 0.9143 - val_top-5-accuracy: 1.0000\n",
            "Epoch 22/100\n",
            "2/2 [==============================] - 0s 146ms/step - loss: 0.3141 - accuracy: 0.9071 - top-5-accuracy: 0.9964 - val_loss: 0.4199 - val_accuracy: 0.9143 - val_top-5-accuracy: 1.0000\n",
            "Epoch 23/100\n",
            "2/2 [==============================] - 2s 2s/step - loss: 0.4949 - accuracy: 0.8821 - top-5-accuracy: 1.0000 - val_loss: 0.3224 - val_accuracy: 0.9429 - val_top-5-accuracy: 1.0000\n",
            "Epoch 24/100\n",
            "2/2 [==============================] - 0s 127ms/step - loss: 0.5118 - accuracy: 0.8786 - top-5-accuracy: 1.0000 - val_loss: 0.2029 - val_accuracy: 0.9143 - val_top-5-accuracy: 1.0000\n",
            "Epoch 25/100\n",
            "2/2 [==============================] - 0s 113ms/step - loss: 0.1705 - accuracy: 0.9536 - top-5-accuracy: 1.0000 - val_loss: 0.2135 - val_accuracy: 0.9429 - val_top-5-accuracy: 1.0000\n",
            "Epoch 26/100\n",
            "2/2 [==============================] - 0s 150ms/step - loss: 0.2240 - accuracy: 0.9143 - top-5-accuracy: 1.0000 - val_loss: 0.1974 - val_accuracy: 0.9429 - val_top-5-accuracy: 1.0000\n",
            "Epoch 27/100\n",
            "2/2 [==============================] - 0s 116ms/step - loss: 0.4478 - accuracy: 0.9143 - top-5-accuracy: 1.0000 - val_loss: 0.3920 - val_accuracy: 0.9143 - val_top-5-accuracy: 1.0000\n",
            "Epoch 28/100\n",
            "2/2 [==============================] - 0s 116ms/step - loss: 0.3086 - accuracy: 0.9357 - top-5-accuracy: 1.0000 - val_loss: 0.5183 - val_accuracy: 0.8857 - val_top-5-accuracy: 1.0000\n",
            "Epoch 29/100\n",
            "2/2 [==============================] - 0s 115ms/step - loss: 0.6334 - accuracy: 0.8929 - top-5-accuracy: 0.9964 - val_loss: 0.4478 - val_accuracy: 0.8857 - val_top-5-accuracy: 1.0000\n",
            "Epoch 30/100\n",
            "2/2 [==============================] - 0s 122ms/step - loss: 0.8776 - accuracy: 0.8536 - top-5-accuracy: 0.9964 - val_loss: 0.1735 - val_accuracy: 0.9429 - val_top-5-accuracy: 1.0000\n",
            "Epoch 31/100\n",
            "2/2 [==============================] - 2s 1s/step - loss: 0.4235 - accuracy: 0.9214 - top-5-accuracy: 1.0000 - val_loss: 0.2082 - val_accuracy: 0.9714 - val_top-5-accuracy: 1.0000\n",
            "Epoch 32/100\n",
            "2/2 [==============================] - 0s 130ms/step - loss: 0.4035 - accuracy: 0.9071 - top-5-accuracy: 1.0000 - val_loss: 0.3759 - val_accuracy: 0.9429 - val_top-5-accuracy: 1.0000\n",
            "Epoch 33/100\n",
            "2/2 [==============================] - 1s 151ms/step - loss: 0.3914 - accuracy: 0.9036 - top-5-accuracy: 1.0000 - val_loss: 0.3118 - val_accuracy: 0.9714 - val_top-5-accuracy: 1.0000\n",
            "Epoch 34/100\n",
            "2/2 [==============================] - 0s 120ms/step - loss: 0.3159 - accuracy: 0.9429 - top-5-accuracy: 1.0000 - val_loss: 0.4411 - val_accuracy: 0.8571 - val_top-5-accuracy: 1.0000\n",
            "Epoch 35/100\n",
            "2/2 [==============================] - 0s 116ms/step - loss: 0.4806 - accuracy: 0.9036 - top-5-accuracy: 1.0000 - val_loss: 0.3077 - val_accuracy: 0.8857 - val_top-5-accuracy: 1.0000\n",
            "Epoch 36/100\n",
            "2/2 [==============================] - 0s 114ms/step - loss: 0.5022 - accuracy: 0.9036 - top-5-accuracy: 1.0000 - val_loss: 0.0387 - val_accuracy: 0.9714 - val_top-5-accuracy: 1.0000\n",
            "Epoch 37/100\n",
            "2/2 [==============================] - 0s 112ms/step - loss: 0.2076 - accuracy: 0.9571 - top-5-accuracy: 1.0000 - val_loss: 0.1006 - val_accuracy: 0.9714 - val_top-5-accuracy: 1.0000\n",
            "Epoch 38/100\n",
            "2/2 [==============================] - 0s 115ms/step - loss: 0.5221 - accuracy: 0.9000 - top-5-accuracy: 1.0000 - val_loss: 0.2095 - val_accuracy: 0.9429 - val_top-5-accuracy: 1.0000\n",
            "Epoch 39/100\n",
            "2/2 [==============================] - 0s 116ms/step - loss: 0.4000 - accuracy: 0.9179 - top-5-accuracy: 1.0000 - val_loss: 0.1937 - val_accuracy: 0.9429 - val_top-5-accuracy: 1.0000\n",
            "Epoch 40/100\n",
            "2/2 [==============================] - 0s 130ms/step - loss: 0.3613 - accuracy: 0.9107 - top-5-accuracy: 1.0000 - val_loss: 0.4528 - val_accuracy: 0.8857 - val_top-5-accuracy: 1.0000\n",
            "Epoch 41/100\n",
            "2/2 [==============================] - 1s 182ms/step - loss: 0.4197 - accuracy: 0.9429 - top-5-accuracy: 1.0000 - val_loss: 0.1293 - val_accuracy: 0.9714 - val_top-5-accuracy: 1.0000\n",
            "Epoch 42/100\n",
            "2/2 [==============================] - 1s 270ms/step - loss: 0.3594 - accuracy: 0.9286 - top-5-accuracy: 1.0000 - val_loss: 0.8022 - val_accuracy: 0.8286 - val_top-5-accuracy: 1.0000\n",
            "Epoch 43/100\n",
            "2/2 [==============================] - 1s 210ms/step - loss: 0.7910 - accuracy: 0.8500 - top-5-accuracy: 0.9929 - val_loss: 0.0839 - val_accuracy: 0.9714 - val_top-5-accuracy: 1.0000\n",
            "Epoch 44/100\n",
            "2/2 [==============================] - 1s 182ms/step - loss: 0.2121 - accuracy: 0.9429 - top-5-accuracy: 1.0000 - val_loss: 0.1067 - val_accuracy: 0.9429 - val_top-5-accuracy: 1.0000\n",
            "Epoch 45/100\n",
            "2/2 [==============================] - 1s 169ms/step - loss: 0.3652 - accuracy: 0.9286 - top-5-accuracy: 1.0000 - val_loss: 0.4437 - val_accuracy: 0.9143 - val_top-5-accuracy: 1.0000\n",
            "Epoch 46/100\n",
            "2/2 [==============================] - 1s 155ms/step - loss: 0.3220 - accuracy: 0.9179 - top-5-accuracy: 1.0000 - val_loss: 0.4286 - val_accuracy: 0.9143 - val_top-5-accuracy: 1.0000\n",
            "Epoch 47/100\n",
            "2/2 [==============================] - 1s 177ms/step - loss: 0.2415 - accuracy: 0.9607 - top-5-accuracy: 1.0000 - val_loss: 0.2215 - val_accuracy: 0.9143 - val_top-5-accuracy: 1.0000\n",
            "Epoch 48/100\n",
            "2/2 [==============================] - 1s 226ms/step - loss: 0.1421 - accuracy: 0.9536 - top-5-accuracy: 1.0000 - val_loss: 0.5212 - val_accuracy: 0.9143 - val_top-5-accuracy: 1.0000\n",
            "Epoch 49/100\n",
            "2/2 [==============================] - 1s 393ms/step - loss: 0.1895 - accuracy: 0.9571 - top-5-accuracy: 1.0000 - val_loss: 0.2359 - val_accuracy: 0.9429 - val_top-5-accuracy: 1.0000\n",
            "Epoch 50/100\n",
            "2/2 [==============================] - 2s 2s/step - loss: 0.1406 - accuracy: 0.9571 - top-5-accuracy: 1.0000 - val_loss: 0.0122 - val_accuracy: 1.0000 - val_top-5-accuracy: 1.0000\n",
            "Epoch 51/100\n",
            "2/2 [==============================] - 1s 118ms/step - loss: 0.1554 - accuracy: 0.9643 - top-5-accuracy: 1.0000 - val_loss: 0.2089 - val_accuracy: 0.9429 - val_top-5-accuracy: 1.0000\n",
            "Epoch 52/100\n",
            "2/2 [==============================] - 0s 116ms/step - loss: 0.1593 - accuracy: 0.9643 - top-5-accuracy: 1.0000 - val_loss: 0.5126 - val_accuracy: 0.9143 - val_top-5-accuracy: 1.0000\n",
            "Epoch 53/100\n",
            "2/2 [==============================] - 0s 114ms/step - loss: 0.2446 - accuracy: 0.9429 - top-5-accuracy: 1.0000 - val_loss: 0.2469 - val_accuracy: 0.9429 - val_top-5-accuracy: 1.0000\n",
            "Epoch 54/100\n",
            "2/2 [==============================] - 0s 126ms/step - loss: 0.3085 - accuracy: 0.9393 - top-5-accuracy: 1.0000 - val_loss: 0.0482 - val_accuracy: 0.9714 - val_top-5-accuracy: 1.0000\n",
            "Epoch 55/100\n",
            "2/2 [==============================] - 0s 118ms/step - loss: 0.2715 - accuracy: 0.9429 - top-5-accuracy: 1.0000 - val_loss: 0.0029 - val_accuracy: 1.0000 - val_top-5-accuracy: 1.0000\n",
            "Epoch 56/100\n",
            "2/2 [==============================] - 0s 125ms/step - loss: 0.0480 - accuracy: 0.9857 - top-5-accuracy: 1.0000 - val_loss: 0.0040 - val_accuracy: 1.0000 - val_top-5-accuracy: 1.0000\n",
            "Epoch 57/100\n",
            "2/2 [==============================] - 0s 123ms/step - loss: 0.0419 - accuracy: 0.9893 - top-5-accuracy: 1.0000 - val_loss: 0.0110 - val_accuracy: 1.0000 - val_top-5-accuracy: 1.0000\n",
            "Epoch 58/100\n",
            "2/2 [==============================] - 0s 123ms/step - loss: 0.1771 - accuracy: 0.9679 - top-5-accuracy: 1.0000 - val_loss: 0.0133 - val_accuracy: 1.0000 - val_top-5-accuracy: 1.0000\n",
            "Epoch 59/100\n",
            "2/2 [==============================] - 0s 120ms/step - loss: 0.2320 - accuracy: 0.9643 - top-5-accuracy: 1.0000 - val_loss: 0.0065 - val_accuracy: 1.0000 - val_top-5-accuracy: 1.0000\n",
            "Epoch 60/100\n",
            "2/2 [==============================] - 0s 116ms/step - loss: 0.1587 - accuracy: 0.9464 - top-5-accuracy: 1.0000 - val_loss: 0.0074 - val_accuracy: 1.0000 - val_top-5-accuracy: 1.0000\n",
            "Epoch 61/100\n",
            "2/2 [==============================] - 0s 121ms/step - loss: 0.0868 - accuracy: 0.9786 - top-5-accuracy: 1.0000 - val_loss: 0.0283 - val_accuracy: 0.9714 - val_top-5-accuracy: 1.0000\n",
            "Epoch 62/100\n",
            "2/2 [==============================] - 1s 152ms/step - loss: 0.0452 - accuracy: 0.9821 - top-5-accuracy: 1.0000 - val_loss: 0.0726 - val_accuracy: 0.9714 - val_top-5-accuracy: 1.0000\n",
            "Epoch 63/100\n",
            "2/2 [==============================] - 0s 115ms/step - loss: 0.2070 - accuracy: 0.9607 - top-5-accuracy: 1.0000 - val_loss: 0.1308 - val_accuracy: 0.9429 - val_top-5-accuracy: 1.0000\n",
            "Epoch 64/100\n",
            "2/2 [==============================] - 0s 120ms/step - loss: 0.0355 - accuracy: 0.9857 - top-5-accuracy: 1.0000 - val_loss: 0.1460 - val_accuracy: 0.9714 - val_top-5-accuracy: 1.0000\n",
            "Epoch 65/100\n",
            "2/2 [==============================] - 1s 152ms/step - loss: 0.3031 - accuracy: 0.9393 - top-5-accuracy: 1.0000 - val_loss: 0.0204 - val_accuracy: 1.0000 - val_top-5-accuracy: 1.0000\n",
            "Epoch 66/100\n",
            "2/2 [==============================] - 0s 119ms/step - loss: 0.0823 - accuracy: 0.9821 - top-5-accuracy: 1.0000 - val_loss: 0.1760 - val_accuracy: 0.9714 - val_top-5-accuracy: 1.0000\n",
            "Epoch 67/100\n",
            "2/2 [==============================] - 1s 154ms/step - loss: 0.1401 - accuracy: 0.9536 - top-5-accuracy: 1.0000 - val_loss: 0.2024 - val_accuracy: 0.9714 - val_top-5-accuracy: 1.0000\n",
            "Epoch 68/100\n",
            "2/2 [==============================] - 1s 150ms/step - loss: 0.1398 - accuracy: 0.9679 - top-5-accuracy: 1.0000 - val_loss: 0.0049 - val_accuracy: 1.0000 - val_top-5-accuracy: 1.0000\n",
            "Epoch 69/100\n",
            "2/2 [==============================] - 1s 142ms/step - loss: 0.0732 - accuracy: 0.9786 - top-5-accuracy: 1.0000 - val_loss: 0.0060 - val_accuracy: 1.0000 - val_top-5-accuracy: 1.0000\n",
            "Epoch 70/100\n",
            "2/2 [==============================] - 1s 157ms/step - loss: 0.0401 - accuracy: 0.9857 - top-5-accuracy: 1.0000 - val_loss: 0.0067 - val_accuracy: 1.0000 - val_top-5-accuracy: 1.0000\n",
            "Epoch 71/100\n",
            "2/2 [==============================] - 1s 154ms/step - loss: 0.0505 - accuracy: 0.9857 - top-5-accuracy: 1.0000 - val_loss: 0.0093 - val_accuracy: 1.0000 - val_top-5-accuracy: 1.0000\n",
            "Epoch 72/100\n",
            "2/2 [==============================] - 1s 171ms/step - loss: 0.1282 - accuracy: 0.9821 - top-5-accuracy: 1.0000 - val_loss: 0.0092 - val_accuracy: 1.0000 - val_top-5-accuracy: 1.0000\n",
            "Epoch 73/100\n",
            "2/2 [==============================] - 0s 145ms/step - loss: 0.1133 - accuracy: 0.9786 - top-5-accuracy: 1.0000 - val_loss: 0.0764 - val_accuracy: 0.9714 - val_top-5-accuracy: 1.0000\n",
            "Epoch 74/100\n",
            "2/2 [==============================] - 1s 158ms/step - loss: 0.0882 - accuracy: 0.9821 - top-5-accuracy: 1.0000 - val_loss: 0.1621 - val_accuracy: 0.9714 - val_top-5-accuracy: 1.0000\n",
            "Epoch 75/100\n",
            "2/2 [==============================] - 1s 171ms/step - loss: 0.2256 - accuracy: 0.9643 - top-5-accuracy: 1.0000 - val_loss: 0.0010 - val_accuracy: 1.0000 - val_top-5-accuracy: 1.0000\n",
            "Epoch 76/100\n",
            "2/2 [==============================] - 1s 180ms/step - loss: 0.0496 - accuracy: 0.9857 - top-5-accuracy: 1.0000 - val_loss: 0.2506 - val_accuracy: 0.9714 - val_top-5-accuracy: 1.0000\n",
            "Epoch 77/100\n",
            "2/2 [==============================] - 1s 174ms/step - loss: 0.1419 - accuracy: 0.9714 - top-5-accuracy: 1.0000 - val_loss: 0.4380 - val_accuracy: 0.9714 - val_top-5-accuracy: 1.0000\n",
            "Epoch 78/100\n",
            "2/2 [==============================] - 0s 121ms/step - loss: 0.4928 - accuracy: 0.9286 - top-5-accuracy: 1.0000 - val_loss: 0.1903 - val_accuracy: 0.9714 - val_top-5-accuracy: 1.0000\n",
            "Epoch 79/100\n",
            "2/2 [==============================] - 1s 153ms/step - loss: 0.2558 - accuracy: 0.9571 - top-5-accuracy: 1.0000 - val_loss: 1.8125e-04 - val_accuracy: 1.0000 - val_top-5-accuracy: 1.0000\n",
            "Epoch 80/100\n",
            "2/2 [==============================] - 0s 121ms/step - loss: 0.1842 - accuracy: 0.9679 - top-5-accuracy: 1.0000 - val_loss: 0.0026 - val_accuracy: 1.0000 - val_top-5-accuracy: 1.0000\n",
            "Epoch 81/100\n",
            "2/2 [==============================] - 1s 151ms/step - loss: 0.0750 - accuracy: 0.9821 - top-5-accuracy: 1.0000 - val_loss: 0.0186 - val_accuracy: 1.0000 - val_top-5-accuracy: 1.0000\n",
            "Epoch 82/100\n",
            "2/2 [==============================] - 1s 156ms/step - loss: 0.1841 - accuracy: 0.9607 - top-5-accuracy: 1.0000 - val_loss: 9.2430e-04 - val_accuracy: 1.0000 - val_top-5-accuracy: 1.0000\n",
            "Epoch 83/100\n",
            "2/2 [==============================] - 0s 116ms/step - loss: 0.1216 - accuracy: 0.9786 - top-5-accuracy: 1.0000 - val_loss: 1.9604e-04 - val_accuracy: 1.0000 - val_top-5-accuracy: 1.0000\n",
            "Epoch 84/100\n",
            "2/2 [==============================] - 0s 119ms/step - loss: 0.0397 - accuracy: 0.9929 - top-5-accuracy: 1.0000 - val_loss: 1.3888e-04 - val_accuracy: 1.0000 - val_top-5-accuracy: 1.0000\n",
            "Epoch 85/100\n",
            "2/2 [==============================] - 0s 119ms/step - loss: 0.0153 - accuracy: 0.9929 - top-5-accuracy: 1.0000 - val_loss: 1.8647e-04 - val_accuracy: 1.0000 - val_top-5-accuracy: 1.0000\n",
            "Epoch 86/100\n",
            "2/2 [==============================] - 0s 121ms/step - loss: 0.1450 - accuracy: 0.9643 - top-5-accuracy: 1.0000 - val_loss: 4.8306e-04 - val_accuracy: 1.0000 - val_top-5-accuracy: 1.0000\n",
            "Epoch 87/100\n",
            "2/2 [==============================] - 1s 154ms/step - loss: 0.0616 - accuracy: 0.9821 - top-5-accuracy: 1.0000 - val_loss: 0.0077 - val_accuracy: 1.0000 - val_top-5-accuracy: 1.0000\n",
            "Epoch 88/100\n",
            "2/2 [==============================] - 0s 125ms/step - loss: 0.0505 - accuracy: 0.9857 - top-5-accuracy: 1.0000 - val_loss: 0.0296 - val_accuracy: 0.9714 - val_top-5-accuracy: 1.0000\n",
            "Epoch 89/100\n",
            "2/2 [==============================] - 0s 123ms/step - loss: 0.4103 - accuracy: 0.9429 - top-5-accuracy: 1.0000 - val_loss: 8.3294e-04 - val_accuracy: 1.0000 - val_top-5-accuracy: 1.0000\n",
            "Epoch 90/100\n",
            "2/2 [==============================] - 1s 154ms/step - loss: 0.1708 - accuracy: 0.9786 - top-5-accuracy: 1.0000 - val_loss: 4.2114e-04 - val_accuracy: 1.0000 - val_top-5-accuracy: 1.0000\n",
            "Epoch 91/100\n",
            "2/2 [==============================] - 0s 120ms/step - loss: 0.0813 - accuracy: 0.9857 - top-5-accuracy: 1.0000 - val_loss: 0.0679 - val_accuracy: 0.9714 - val_top-5-accuracy: 1.0000\n",
            "Epoch 92/100\n",
            "2/2 [==============================] - 0s 122ms/step - loss: 0.1259 - accuracy: 0.9786 - top-5-accuracy: 1.0000 - val_loss: 7.8602e-04 - val_accuracy: 1.0000 - val_top-5-accuracy: 1.0000\n",
            "Epoch 93/100\n",
            "2/2 [==============================] - 0s 119ms/step - loss: 0.0259 - accuracy: 0.9893 - top-5-accuracy: 1.0000 - val_loss: 1.8209e-04 - val_accuracy: 1.0000 - val_top-5-accuracy: 1.0000\n",
            "Epoch 94/100\n",
            "2/2 [==============================] - 0s 126ms/step - loss: 0.0551 - accuracy: 0.9893 - top-5-accuracy: 1.0000 - val_loss: 5.8551e-05 - val_accuracy: 1.0000 - val_top-5-accuracy: 1.0000\n",
            "Epoch 95/100\n",
            "2/2 [==============================] - 1s 152ms/step - loss: 0.0181 - accuracy: 0.9893 - top-5-accuracy: 1.0000 - val_loss: 4.8007e-04 - val_accuracy: 1.0000 - val_top-5-accuracy: 1.0000\n",
            "Epoch 96/100\n",
            "2/2 [==============================] - 0s 117ms/step - loss: 0.0283 - accuracy: 0.9893 - top-5-accuracy: 1.0000 - val_loss: 0.0088 - val_accuracy: 1.0000 - val_top-5-accuracy: 1.0000\n",
            "Epoch 97/100\n",
            "2/2 [==============================] - 0s 120ms/step - loss: 0.2728 - accuracy: 0.9571 - top-5-accuracy: 1.0000 - val_loss: 0.0226 - val_accuracy: 1.0000 - val_top-5-accuracy: 1.0000\n",
            "Epoch 98/100\n",
            "2/2 [==============================] - 1s 154ms/step - loss: 0.3481 - accuracy: 0.9464 - top-5-accuracy: 1.0000 - val_loss: 0.0074 - val_accuracy: 1.0000 - val_top-5-accuracy: 1.0000\n",
            "Epoch 99/100\n",
            "2/2 [==============================] - 1s 180ms/step - loss: 0.0893 - accuracy: 0.9857 - top-5-accuracy: 1.0000 - val_loss: 4.0557e-04 - val_accuracy: 1.0000 - val_top-5-accuracy: 1.0000\n",
            "Epoch 100/100\n",
            "2/2 [==============================] - 1s 177ms/step - loss: 0.0539 - accuracy: 0.9821 - top-5-accuracy: 1.0000 - val_loss: 4.3801e-05 - val_accuracy: 1.0000 - val_top-5-accuracy: 1.0000\n",
            "2/2 [==============================] - 0s 28ms/step - loss: 0.0122 - accuracy: 1.0000 - top-5-accuracy: 1.0000\n",
            "Test accuracy: 100.0%\n",
            "Test top 5 accuracy: 100.0%\n"
          ]
        }
      ],
      "source": [
        "def run_experiment(model):\n",
        "    optimizer = tfa.optimizers.AdamW(\n",
        "        learning_rate=learning_rate, weight_decay=weight_decay\n",
        "    )\n",
        "\n",
        "    model.compile(\n",
        "        optimizer=optimizer,\n",
        "        loss=keras.losses.SparseCategoricalCrossentropy(from_logits=True),\n",
        "        metrics=[\n",
        "            keras.metrics.SparseCategoricalAccuracy(name=\"accuracy\"),\n",
        "            keras.metrics.SparseTopKCategoricalAccuracy(5, name=\"top-5-accuracy\"),\n",
        "        ],\n",
        "    )\n",
        "\n",
        "    checkpoint_filepath = \"/tmp/checkpoint\"\n",
        "    checkpoint_callback = keras.callbacks.ModelCheckpoint(\n",
        "        checkpoint_filepath,\n",
        "        monitor=\"val_accuracy\",\n",
        "        save_best_only=True,\n",
        "        save_weights_only=True,\n",
        "    )\n",
        "\n",
        "    history = model.fit(\n",
        "        x=x_train,\n",
        "        y=y_train,\n",
        "        batch_size=batch_size,\n",
        "        epochs=num_epochs,\n",
        "        validation_data=(x_test,y_test),\n",
        "        callbacks=[checkpoint_callback],\n",
        "    )\n",
        "\n",
        "    model.load_weights(checkpoint_filepath)\n",
        "    _, accuracy, top_5_accuracy = model.evaluate(x_test, y_test)\n",
        "    print(f\"Test accuracy: {round(accuracy * 100, 2)}%\")\n",
        "    print(f\"Test top 5 accuracy: {round(top_5_accuracy * 100, 2)}%\")\n",
        "\n",
        "    return history\n",
        "\n",
        "\n",
        "model = create_vit_classifier()\n",
        "history = run_experiment(model)\n"
      ]
    },
    {
      "cell_type": "code",
      "execution_count": 41,
      "metadata": {
        "colab": {
          "base_uri": "https://localhost:8080/",
          "height": 818
        },
        "id": "SswKDyGRbsTG",
        "outputId": "166cac0c-046d-4a1c-e4de-6c167f734343"
      },
      "outputs": [
        {
          "output_type": "display_data",
          "data": {
            "text/plain": [
              "<Figure size 640x480 with 1 Axes>"
            ],
            "image/svg+xml": "<?xml version=\"1.0\" encoding=\"utf-8\" standalone=\"no\"?>\n<!DOCTYPE svg PUBLIC \"-//W3C//DTD SVG 1.1//EN\"\n  \"http://www.w3.org/Graphics/SVG/1.1/DTD/svg11.dtd\">\n<svg xmlns:xlink=\"http://www.w3.org/1999/xlink\" width=\"384.8825pt\" height=\"297.190125pt\" viewBox=\"0 0 384.8825 297.190125\" xmlns=\"http://www.w3.org/2000/svg\" version=\"1.1\">\n <metadata>\n  <rdf:RDF xmlns:dc=\"http://purl.org/dc/elements/1.1/\" xmlns:cc=\"http://creativecommons.org/ns#\" xmlns:rdf=\"http://www.w3.org/1999/02/22-rdf-syntax-ns#\">\n   <cc:Work>\n    <dc:type rdf:resource=\"http://purl.org/dc/dcmitype/StillImage\"/>\n    <dc:date>2023-04-22T12:36:41.467594</dc:date>\n    <dc:format>image/svg+xml</dc:format>\n    <dc:creator>\n     <cc:Agent>\n      <dc:title>Matplotlib v3.7.1, https://matplotlib.org/</dc:title>\n     </cc:Agent>\n    </dc:creator>\n   </cc:Work>\n  </rdf:RDF>\n </metadata>\n <defs>\n  <style type=\"text/css\">*{stroke-linejoin: round; stroke-linecap: butt}</style>\n </defs>\n <g id=\"figure_1\">\n  <g id=\"patch_1\">\n   <path d=\"M 0 297.190125 \nL 384.8825 297.190125 \nL 384.8825 0 \nL 0 0 \nz\n\" style=\"fill: #ffffff\"/>\n  </g>\n  <g id=\"axes_1\">\n   <g id=\"patch_2\">\n    <path d=\"M 20.5625 273.312 \nL 377.6825 273.312 \nL 377.6825 7.2 \nL 20.5625 7.2 \nz\n\" style=\"fill: #ffffff\"/>\n   </g>\n   <g id=\"matplotlib.axis_1\">\n    <g id=\"xtick_1\">\n     <g id=\"line2d_1\">\n      <defs>\n       <path id=\"m42c1854e93\" d=\"M 0 0 \nL 0 3.5 \n\" style=\"stroke: #000000; stroke-width: 0.8\"/>\n      </defs>\n      <g>\n       <use xlink:href=\"#m42c1854e93\" x=\"36.795227\" y=\"273.312\" style=\"stroke: #000000; stroke-width: 0.8\"/>\n      </g>\n     </g>\n     <g id=\"text_1\">\n      <!-- 0 -->\n      <g transform=\"translate(33.613977 287.910437) scale(0.1 -0.1)\">\n       <defs>\n        <path id=\"DejaVuSans-30\" d=\"M 2034 4250 \nQ 1547 4250 1301 3770 \nQ 1056 3291 1056 2328 \nQ 1056 1369 1301 889 \nQ 1547 409 2034 409 \nQ 2525 409 2770 889 \nQ 3016 1369 3016 2328 \nQ 3016 3291 2770 3770 \nQ 2525 4250 2034 4250 \nz\nM 2034 4750 \nQ 2819 4750 3233 4129 \nQ 3647 3509 3647 2328 \nQ 3647 1150 3233 529 \nQ 2819 -91 2034 -91 \nQ 1250 -91 836 529 \nQ 422 1150 422 2328 \nQ 422 3509 836 4129 \nQ 1250 4750 2034 4750 \nz\n\" transform=\"scale(0.015625)\"/>\n       </defs>\n       <use xlink:href=\"#DejaVuSans-30\"/>\n      </g>\n     </g>\n    </g>\n    <g id=\"xtick_2\">\n     <g id=\"line2d_2\">\n      <g>\n       <use xlink:href=\"#m42c1854e93\" x=\"102.382004\" y=\"273.312\" style=\"stroke: #000000; stroke-width: 0.8\"/>\n      </g>\n     </g>\n     <g id=\"text_2\">\n      <!-- 20 -->\n      <g transform=\"translate(96.019504 287.910437) scale(0.1 -0.1)\">\n       <defs>\n        <path id=\"DejaVuSans-32\" d=\"M 1228 531 \nL 3431 531 \nL 3431 0 \nL 469 0 \nL 469 531 \nQ 828 903 1448 1529 \nQ 2069 2156 2228 2338 \nQ 2531 2678 2651 2914 \nQ 2772 3150 2772 3378 \nQ 2772 3750 2511 3984 \nQ 2250 4219 1831 4219 \nQ 1534 4219 1204 4116 \nQ 875 4013 500 3803 \nL 500 4441 \nQ 881 4594 1212 4672 \nQ 1544 4750 1819 4750 \nQ 2544 4750 2975 4387 \nQ 3406 4025 3406 3419 \nQ 3406 3131 3298 2873 \nQ 3191 2616 2906 2266 \nQ 2828 2175 2409 1742 \nQ 1991 1309 1228 531 \nz\n\" transform=\"scale(0.015625)\"/>\n       </defs>\n       <use xlink:href=\"#DejaVuSans-32\"/>\n       <use xlink:href=\"#DejaVuSans-30\" x=\"63.623047\"/>\n      </g>\n     </g>\n    </g>\n    <g id=\"xtick_3\">\n     <g id=\"line2d_3\">\n      <g>\n       <use xlink:href=\"#m42c1854e93\" x=\"167.968781\" y=\"273.312\" style=\"stroke: #000000; stroke-width: 0.8\"/>\n      </g>\n     </g>\n     <g id=\"text_3\">\n      <!-- 40 -->\n      <g transform=\"translate(161.606281 287.910437) scale(0.1 -0.1)\">\n       <defs>\n        <path id=\"DejaVuSans-34\" d=\"M 2419 4116 \nL 825 1625 \nL 2419 1625 \nL 2419 4116 \nz\nM 2253 4666 \nL 3047 4666 \nL 3047 1625 \nL 3713 1625 \nL 3713 1100 \nL 3047 1100 \nL 3047 0 \nL 2419 0 \nL 2419 1100 \nL 313 1100 \nL 313 1709 \nL 2253 4666 \nz\n\" transform=\"scale(0.015625)\"/>\n       </defs>\n       <use xlink:href=\"#DejaVuSans-34\"/>\n       <use xlink:href=\"#DejaVuSans-30\" x=\"63.623047\"/>\n      </g>\n     </g>\n    </g>\n    <g id=\"xtick_4\">\n     <g id=\"line2d_4\">\n      <g>\n       <use xlink:href=\"#m42c1854e93\" x=\"233.555558\" y=\"273.312\" style=\"stroke: #000000; stroke-width: 0.8\"/>\n      </g>\n     </g>\n     <g id=\"text_4\">\n      <!-- 60 -->\n      <g transform=\"translate(227.193058 287.910437) scale(0.1 -0.1)\">\n       <defs>\n        <path id=\"DejaVuSans-36\" d=\"M 2113 2584 \nQ 1688 2584 1439 2293 \nQ 1191 2003 1191 1497 \nQ 1191 994 1439 701 \nQ 1688 409 2113 409 \nQ 2538 409 2786 701 \nQ 3034 994 3034 1497 \nQ 3034 2003 2786 2293 \nQ 2538 2584 2113 2584 \nz\nM 3366 4563 \nL 3366 3988 \nQ 3128 4100 2886 4159 \nQ 2644 4219 2406 4219 \nQ 1781 4219 1451 3797 \nQ 1122 3375 1075 2522 \nQ 1259 2794 1537 2939 \nQ 1816 3084 2150 3084 \nQ 2853 3084 3261 2657 \nQ 3669 2231 3669 1497 \nQ 3669 778 3244 343 \nQ 2819 -91 2113 -91 \nQ 1303 -91 875 529 \nQ 447 1150 447 2328 \nQ 447 3434 972 4092 \nQ 1497 4750 2381 4750 \nQ 2619 4750 2861 4703 \nQ 3103 4656 3366 4563 \nz\n\" transform=\"scale(0.015625)\"/>\n       </defs>\n       <use xlink:href=\"#DejaVuSans-36\"/>\n       <use xlink:href=\"#DejaVuSans-30\" x=\"63.623047\"/>\n      </g>\n     </g>\n    </g>\n    <g id=\"xtick_5\">\n     <g id=\"line2d_5\">\n      <g>\n       <use xlink:href=\"#m42c1854e93\" x=\"299.142335\" y=\"273.312\" style=\"stroke: #000000; stroke-width: 0.8\"/>\n      </g>\n     </g>\n     <g id=\"text_5\">\n      <!-- 80 -->\n      <g transform=\"translate(292.779835 287.910437) scale(0.1 -0.1)\">\n       <defs>\n        <path id=\"DejaVuSans-38\" d=\"M 2034 2216 \nQ 1584 2216 1326 1975 \nQ 1069 1734 1069 1313 \nQ 1069 891 1326 650 \nQ 1584 409 2034 409 \nQ 2484 409 2743 651 \nQ 3003 894 3003 1313 \nQ 3003 1734 2745 1975 \nQ 2488 2216 2034 2216 \nz\nM 1403 2484 \nQ 997 2584 770 2862 \nQ 544 3141 544 3541 \nQ 544 4100 942 4425 \nQ 1341 4750 2034 4750 \nQ 2731 4750 3128 4425 \nQ 3525 4100 3525 3541 \nQ 3525 3141 3298 2862 \nQ 3072 2584 2669 2484 \nQ 3125 2378 3379 2068 \nQ 3634 1759 3634 1313 \nQ 3634 634 3220 271 \nQ 2806 -91 2034 -91 \nQ 1263 -91 848 271 \nQ 434 634 434 1313 \nQ 434 1759 690 2068 \nQ 947 2378 1403 2484 \nz\nM 1172 3481 \nQ 1172 3119 1398 2916 \nQ 1625 2713 2034 2713 \nQ 2441 2713 2670 2916 \nQ 2900 3119 2900 3481 \nQ 2900 3844 2670 4047 \nQ 2441 4250 2034 4250 \nQ 1625 4250 1398 4047 \nQ 1172 3844 1172 3481 \nz\n\" transform=\"scale(0.015625)\"/>\n       </defs>\n       <use xlink:href=\"#DejaVuSans-38\"/>\n       <use xlink:href=\"#DejaVuSans-30\" x=\"63.623047\"/>\n      </g>\n     </g>\n    </g>\n    <g id=\"xtick_6\">\n     <g id=\"line2d_6\">\n      <g>\n       <use xlink:href=\"#m42c1854e93\" x=\"364.729112\" y=\"273.312\" style=\"stroke: #000000; stroke-width: 0.8\"/>\n      </g>\n     </g>\n     <g id=\"text_6\">\n      <!-- 100 -->\n      <g transform=\"translate(355.185362 287.910437) scale(0.1 -0.1)\">\n       <defs>\n        <path id=\"DejaVuSans-31\" d=\"M 794 531 \nL 1825 531 \nL 1825 4091 \nL 703 3866 \nL 703 4441 \nL 1819 4666 \nL 2450 4666 \nL 2450 531 \nL 3481 531 \nL 3481 0 \nL 794 0 \nL 794 531 \nz\n\" transform=\"scale(0.015625)\"/>\n       </defs>\n       <use xlink:href=\"#DejaVuSans-31\"/>\n       <use xlink:href=\"#DejaVuSans-30\" x=\"63.623047\"/>\n       <use xlink:href=\"#DejaVuSans-30\" x=\"127.246094\"/>\n      </g>\n     </g>\n    </g>\n   </g>\n   <g id=\"matplotlib.axis_2\">\n    <g id=\"ytick_1\">\n     <g id=\"line2d_7\">\n      <defs>\n       <path id=\"m3304aa5258\" d=\"M 0 0 \nL -3.5 0 \n\" style=\"stroke: #000000; stroke-width: 0.8\"/>\n      </defs>\n      <g>\n       <use xlink:href=\"#m3304aa5258\" x=\"20.5625\" y=\"261.218557\" style=\"stroke: #000000; stroke-width: 0.8\"/>\n      </g>\n     </g>\n     <g id=\"text_7\">\n      <!-- 0 -->\n      <g transform=\"translate(7.2 265.017776) scale(0.1 -0.1)\">\n       <use xlink:href=\"#DejaVuSans-30\"/>\n      </g>\n     </g>\n    </g>\n    <g id=\"ytick_2\">\n     <g id=\"line2d_8\">\n      <g>\n       <use xlink:href=\"#m3304aa5258\" x=\"20.5625\" y=\"202.834826\" style=\"stroke: #000000; stroke-width: 0.8\"/>\n      </g>\n     </g>\n     <g id=\"text_8\">\n      <!-- 1 -->\n      <g transform=\"translate(7.2 206.634045) scale(0.1 -0.1)\">\n       <use xlink:href=\"#DejaVuSans-31\"/>\n      </g>\n     </g>\n    </g>\n    <g id=\"ytick_3\">\n     <g id=\"line2d_9\">\n      <g>\n       <use xlink:href=\"#m3304aa5258\" x=\"20.5625\" y=\"144.451095\" style=\"stroke: #000000; stroke-width: 0.8\"/>\n      </g>\n     </g>\n     <g id=\"text_9\">\n      <!-- 2 -->\n      <g transform=\"translate(7.2 148.250314) scale(0.1 -0.1)\">\n       <use xlink:href=\"#DejaVuSans-32\"/>\n      </g>\n     </g>\n    </g>\n    <g id=\"ytick_4\">\n     <g id=\"line2d_10\">\n      <g>\n       <use xlink:href=\"#m3304aa5258\" x=\"20.5625\" y=\"86.067364\" style=\"stroke: #000000; stroke-width: 0.8\"/>\n      </g>\n     </g>\n     <g id=\"text_10\">\n      <!-- 3 -->\n      <g transform=\"translate(7.2 89.866583) scale(0.1 -0.1)\">\n       <defs>\n        <path id=\"DejaVuSans-33\" d=\"M 2597 2516 \nQ 3050 2419 3304 2112 \nQ 3559 1806 3559 1356 \nQ 3559 666 3084 287 \nQ 2609 -91 1734 -91 \nQ 1441 -91 1130 -33 \nQ 819 25 488 141 \nL 488 750 \nQ 750 597 1062 519 \nQ 1375 441 1716 441 \nQ 2309 441 2620 675 \nQ 2931 909 2931 1356 \nQ 2931 1769 2642 2001 \nQ 2353 2234 1838 2234 \nL 1294 2234 \nL 1294 2753 \nL 1863 2753 \nQ 2328 2753 2575 2939 \nQ 2822 3125 2822 3475 \nQ 2822 3834 2567 4026 \nQ 2313 4219 1838 4219 \nQ 1578 4219 1281 4162 \nQ 984 4106 628 3988 \nL 628 4550 \nQ 988 4650 1302 4700 \nQ 1616 4750 1894 4750 \nQ 2613 4750 3031 4423 \nQ 3450 4097 3450 3541 \nQ 3450 3153 3228 2886 \nQ 3006 2619 2597 2516 \nz\n\" transform=\"scale(0.015625)\"/>\n       </defs>\n       <use xlink:href=\"#DejaVuSans-33\"/>\n      </g>\n     </g>\n    </g>\n    <g id=\"ytick_5\">\n     <g id=\"line2d_11\">\n      <g>\n       <use xlink:href=\"#m3304aa5258\" x=\"20.5625\" y=\"27.683634\" style=\"stroke: #000000; stroke-width: 0.8\"/>\n      </g>\n     </g>\n     <g id=\"text_11\">\n      <!-- 4 -->\n      <g transform=\"translate(7.2 31.482852) scale(0.1 -0.1)\">\n       <use xlink:href=\"#DejaVuSans-34\"/>\n      </g>\n     </g>\n    </g>\n   </g>\n   <g id=\"line2d_12\">\n    <path d=\"M 36.795227 19.296 \nL 40.074566 98.263975 \nL 43.353905 66.163936 \nL 46.633244 57.366463 \nL 49.912583 138.334694 \nL 53.191921 157.870752 \nL 56.47126 187.453652 \nL 59.750599 192.428152 \nL 63.029938 205.439984 \nL 66.309277 188.801343 \nL 69.588616 213.240582 \nL 72.867955 193.400677 \nL 76.147293 215.05089 \nL 79.426632 219.960339 \nL 82.705971 220.047251 \nL 85.98531 221.177278 \nL 89.264649 219.007385 \nL 92.543988 219.291466 \nL 95.823326 240.982455 \nL 99.102665 236.784336 \nL 102.382004 233.551714 \nL 105.661343 242.878996 \nL 108.940682 232.326656 \nL 112.220021 231.335899 \nL 115.49936 251.266437 \nL 118.778698 248.142075 \nL 122.058037 235.07142 \nL 125.337376 243.199352 \nL 128.616715 224.237744 \nL 131.896054 209.982473 \nL 135.175393 236.495085 \nL 138.454731 237.662692 \nL 141.73407 238.36694 \nL 145.013409 242.774371 \nL 148.292748 233.157168 \nL 151.572087 231.899267 \nL 154.851426 249.095617 \nL 158.130764 230.736813 \nL 161.410103 237.863619 \nL 164.689442 240.126755 \nL 167.968781 236.712725 \nL 171.24812 240.238045 \nL 174.527459 215.035915 \nL 177.806798 248.837218 \nL 181.086136 239.89729 \nL 184.365475 242.41944 \nL 187.644814 247.116678 \nL 190.924153 252.923958 \nL 194.203492 250.154743 \nL 197.482831 253.012024 \nL 200.762169 252.143962 \nL 204.041508 251.915966 \nL 207.320847 246.935871 \nL 210.600186 243.206148 \nL 213.879525 245.36658 \nL 217.158864 258.415077 \nL 220.438202 258.773017 \nL 223.717541 250.87693 \nL 226.99688 247.674807 \nL 230.276219 251.951223 \nL 233.555558 256.150587 \nL 236.834897 258.576793 \nL 240.114236 249.134377 \nL 243.393574 259.143287 \nL 246.672913 243.523317 \nL 249.952252 256.412718 \nL 253.231591 253.037401 \nL 256.51093 253.054606 \nL 259.790269 256.943018 \nL 263.069607 258.876257 \nL 266.348946 258.272936 \nL 269.628285 253.730886 \nL 272.907624 254.603447 \nL 276.186963 256.071114 \nL 279.466302 248.046055 \nL 282.74564 258.32167 \nL 286.024979 252.936282 \nL 289.304318 232.444389 \nL 292.583657 246.286521 \nL 295.862996 250.466522 \nL 299.142335 256.842524 \nL 302.421674 250.467304 \nL 305.701012 254.120165 \nL 308.980351 258.902632 \nL 312.25969 260.327103 \nL 315.539029 252.753042 \nL 318.818368 257.620141 \nL 322.097707 258.270447 \nL 325.377045 237.262019 \nL 328.656384 251.248448 \nL 331.935723 256.471626 \nL 335.215062 253.870027 \nL 338.494401 259.704657 \nL 341.77374 258.002086 \nL 345.053079 260.161445 \nL 348.332417 259.568844 \nL 351.611756 245.293885 \nL 354.891095 240.895652 \nL 358.170434 256.006786 \nL 361.449773 258.069688 \n\" clip-path=\"url(#p5228d71894)\" style=\"fill: none; stroke: #1f77b4; stroke-width: 2; stroke-linecap: square\"/>\n   </g>\n   <g id=\"line2d_13\">\n    <path d=\"M 36.795227 152.317691 \nL 40.074566 85.025066 \nL 43.353905 101.460955 \nL 46.633244 191.252398 \nL 49.912583 164.076873 \nL 53.191921 221.180935 \nL 56.47126 223.101066 \nL 59.750599 206.832862 \nL 63.029938 150.937331 \nL 66.309277 218.464089 \nL 69.588616 206.705565 \nL 72.867955 240.57399 \nL 76.147293 221.195388 \nL 79.426632 212.261776 \nL 82.705971 244.425391 \nL 85.98531 226.777875 \nL 89.264649 222.515872 \nL 92.543988 240.492803 \nL 95.823326 243.925745 \nL 99.102665 231.314348 \nL 102.382004 247.238058 \nL 105.661343 236.706027 \nL 108.940682 242.39452 \nL 112.220021 249.371202 \nL 115.49936 248.755733 \nL 118.778698 249.695849 \nL 122.058037 238.331772 \nL 125.337376 230.95914 \nL 128.616715 235.07503 \nL 131.896054 251.087125 \nL 135.175393 249.060528 \nL 138.454731 239.271255 \nL 141.73407 243.012914 \nL 145.013409 235.46276 \nL 148.292748 243.252014 \nL 151.572087 258.959745 \nL 154.851426 255.347401 \nL 158.130764 248.98831 \nL 161.410103 249.907031 \nL 164.689442 234.781059 \nL 167.968781 253.668441 \nL 171.24812 214.38192 \nL 174.527459 256.319111 \nL 177.806798 254.987203 \nL 181.086136 235.314109 \nL 184.365475 236.195215 \nL 187.644814 248.286919 \nL 190.924153 230.789914 \nL 194.203492 247.443391 \nL 197.482831 260.504121 \nL 200.762169 249.02279 \nL 204.041508 231.288363 \nL 207.320847 246.805123 \nL 210.600186 258.406992 \nL 213.879525 261.050725 \nL 217.158864 260.985494 \nL 220.438202 260.577546 \nL 223.717541 260.44046 \nL 226.99688 260.838794 \nL 230.276219 260.784308 \nL 233.555558 259.56514 \nL 236.834897 256.978197 \nL 240.114236 253.581177 \nL 243.393574 252.693009 \nL 246.672913 260.025827 \nL 249.952252 250.944606 \nL 253.231591 249.402883 \nL 256.51093 260.930865 \nL 259.790269 260.866155 \nL 263.069607 260.825366 \nL 266.348946 260.676922 \nL 269.628285 260.67992 \nL 272.907624 256.760411 \nL 276.186963 251.753551 \nL 279.466302 261.159199 \nL 282.74564 246.586014 \nL 286.024979 235.647832 \nL 289.304318 250.110106 \nL 292.583657 261.207975 \nL 295.862996 261.066832 \nL 299.142335 260.132636 \nL 302.421674 261.164593 \nL 305.701012 261.207112 \nL 308.980351 261.210449 \nL 312.25969 261.207671 \nL 315.539029 261.190354 \nL 318.818368 260.766749 \nL 322.097707 259.488749 \nL 325.377045 261.169927 \nL 328.656384 261.19397 \nL 331.935723 257.257199 \nL 335.215062 261.172666 \nL 338.494401 261.207926 \nL 341.77374 261.215139 \nL 345.053079 261.190529 \nL 348.332417 260.703023 \nL 351.611756 259.900471 \nL 354.891095 260.787867 \nL 358.170434 261.194879 \nL 361.449773 261.216 \n\" clip-path=\"url(#p5228d71894)\" style=\"fill: none; stroke: #ff7f0e; stroke-width: 2; stroke-linecap: square\"/>\n   </g>\n   <g id=\"patch_3\">\n    <path d=\"M 20.5625 273.312 \nL 20.5625 7.2 \n\" style=\"fill: none; stroke: #000000; stroke-width: 0.8; stroke-linejoin: miter; stroke-linecap: square\"/>\n   </g>\n   <g id=\"patch_4\">\n    <path d=\"M 377.6825 273.312 \nL 377.6825 7.2 \n\" style=\"fill: none; stroke: #000000; stroke-width: 0.8; stroke-linejoin: miter; stroke-linecap: square\"/>\n   </g>\n   <g id=\"patch_5\">\n    <path d=\"M 20.5625 273.312 \nL 377.6825 273.312 \n\" style=\"fill: none; stroke: #000000; stroke-width: 0.8; stroke-linejoin: miter; stroke-linecap: square\"/>\n   </g>\n   <g id=\"patch_6\">\n    <path d=\"M 20.5625 7.2 \nL 377.6825 7.2 \n\" style=\"fill: none; stroke: #000000; stroke-width: 0.8; stroke-linejoin: miter; stroke-linecap: square\"/>\n   </g>\n   <g id=\"legend_1\">\n    <g id=\"patch_7\">\n     <path d=\"M 299.541875 44.834375 \nL 370.6825 44.834375 \nQ 372.6825 44.834375 372.6825 42.834375 \nL 372.6825 14.2 \nQ 372.6825 12.2 370.6825 12.2 \nL 299.541875 12.2 \nQ 297.541875 12.2 297.541875 14.2 \nL 297.541875 42.834375 \nQ 297.541875 44.834375 299.541875 44.834375 \nz\n\" style=\"fill: #ffffff; opacity: 0.8; stroke: #cccccc; stroke-linejoin: miter\"/>\n    </g>\n    <g id=\"line2d_14\">\n     <path d=\"M 301.541875 20.298437 \nL 311.541875 20.298437 \nL 321.541875 20.298437 \n\" style=\"fill: none; stroke: #1f77b4; stroke-width: 2; stroke-linecap: square\"/>\n    </g>\n    <g id=\"text_12\">\n     <!-- loss -->\n     <g transform=\"translate(329.541875 23.798437) scale(0.1 -0.1)\">\n      <defs>\n       <path id=\"DejaVuSans-6c\" d=\"M 603 4863 \nL 1178 4863 \nL 1178 0 \nL 603 0 \nL 603 4863 \nz\n\" transform=\"scale(0.015625)\"/>\n       <path id=\"DejaVuSans-6f\" d=\"M 1959 3097 \nQ 1497 3097 1228 2736 \nQ 959 2375 959 1747 \nQ 959 1119 1226 758 \nQ 1494 397 1959 397 \nQ 2419 397 2687 759 \nQ 2956 1122 2956 1747 \nQ 2956 2369 2687 2733 \nQ 2419 3097 1959 3097 \nz\nM 1959 3584 \nQ 2709 3584 3137 3096 \nQ 3566 2609 3566 1747 \nQ 3566 888 3137 398 \nQ 2709 -91 1959 -91 \nQ 1206 -91 779 398 \nQ 353 888 353 1747 \nQ 353 2609 779 3096 \nQ 1206 3584 1959 3584 \nz\n\" transform=\"scale(0.015625)\"/>\n       <path id=\"DejaVuSans-73\" d=\"M 2834 3397 \nL 2834 2853 \nQ 2591 2978 2328 3040 \nQ 2066 3103 1784 3103 \nQ 1356 3103 1142 2972 \nQ 928 2841 928 2578 \nQ 928 2378 1081 2264 \nQ 1234 2150 1697 2047 \nL 1894 2003 \nQ 2506 1872 2764 1633 \nQ 3022 1394 3022 966 \nQ 3022 478 2636 193 \nQ 2250 -91 1575 -91 \nQ 1294 -91 989 -36 \nQ 684 19 347 128 \nL 347 722 \nQ 666 556 975 473 \nQ 1284 391 1588 391 \nQ 1994 391 2212 530 \nQ 2431 669 2431 922 \nQ 2431 1156 2273 1281 \nQ 2116 1406 1581 1522 \nL 1381 1569 \nQ 847 1681 609 1914 \nQ 372 2147 372 2553 \nQ 372 3047 722 3315 \nQ 1072 3584 1716 3584 \nQ 2034 3584 2315 3537 \nQ 2597 3491 2834 3397 \nz\n\" transform=\"scale(0.015625)\"/>\n      </defs>\n      <use xlink:href=\"#DejaVuSans-6c\"/>\n      <use xlink:href=\"#DejaVuSans-6f\" x=\"27.783203\"/>\n      <use xlink:href=\"#DejaVuSans-73\" x=\"88.964844\"/>\n      <use xlink:href=\"#DejaVuSans-73\" x=\"141.064453\"/>\n     </g>\n    </g>\n    <g id=\"line2d_15\">\n     <path d=\"M 301.541875 34.976562 \nL 311.541875 34.976562 \nL 321.541875 34.976562 \n\" style=\"fill: none; stroke: #ff7f0e; stroke-width: 2; stroke-linecap: square\"/>\n    </g>\n    <g id=\"text_13\">\n     <!-- val_loss -->\n     <g transform=\"translate(329.541875 38.476562) scale(0.1 -0.1)\">\n      <defs>\n       <path id=\"DejaVuSans-76\" d=\"M 191 3500 \nL 800 3500 \nL 1894 563 \nL 2988 3500 \nL 3597 3500 \nL 2284 0 \nL 1503 0 \nL 191 3500 \nz\n\" transform=\"scale(0.015625)\"/>\n       <path id=\"DejaVuSans-61\" d=\"M 2194 1759 \nQ 1497 1759 1228 1600 \nQ 959 1441 959 1056 \nQ 959 750 1161 570 \nQ 1363 391 1709 391 \nQ 2188 391 2477 730 \nQ 2766 1069 2766 1631 \nL 2766 1759 \nL 2194 1759 \nz\nM 3341 1997 \nL 3341 0 \nL 2766 0 \nL 2766 531 \nQ 2569 213 2275 61 \nQ 1981 -91 1556 -91 \nQ 1019 -91 701 211 \nQ 384 513 384 1019 \nQ 384 1609 779 1909 \nQ 1175 2209 1959 2209 \nL 2766 2209 \nL 2766 2266 \nQ 2766 2663 2505 2880 \nQ 2244 3097 1772 3097 \nQ 1472 3097 1187 3025 \nQ 903 2953 641 2809 \nL 641 3341 \nQ 956 3463 1253 3523 \nQ 1550 3584 1831 3584 \nQ 2591 3584 2966 3190 \nQ 3341 2797 3341 1997 \nz\n\" transform=\"scale(0.015625)\"/>\n       <path id=\"DejaVuSans-5f\" d=\"M 3263 -1063 \nL 3263 -1509 \nL -63 -1509 \nL -63 -1063 \nL 3263 -1063 \nz\n\" transform=\"scale(0.015625)\"/>\n      </defs>\n      <use xlink:href=\"#DejaVuSans-76\"/>\n      <use xlink:href=\"#DejaVuSans-61\" x=\"59.179688\"/>\n      <use xlink:href=\"#DejaVuSans-6c\" x=\"120.458984\"/>\n      <use xlink:href=\"#DejaVuSans-5f\" x=\"148.242188\"/>\n      <use xlink:href=\"#DejaVuSans-6c\" x=\"198.242188\"/>\n      <use xlink:href=\"#DejaVuSans-6f\" x=\"226.025391\"/>\n      <use xlink:href=\"#DejaVuSans-73\" x=\"287.207031\"/>\n      <use xlink:href=\"#DejaVuSans-73\" x=\"339.306641\"/>\n     </g>\n    </g>\n   </g>\n  </g>\n </g>\n <defs>\n  <clipPath id=\"p5228d71894\">\n   <rect x=\"20.5625\" y=\"7.2\" width=\"357.12\" height=\"266.112\"/>\n  </clipPath>\n </defs>\n</svg>\n",
            "application/pdf": "[encoded data removed]"
          },
          "metadata": {}
        },
        {
          "output_type": "display_data",
          "data": {
            "text/plain": [
              "<Figure size 640x480 with 1 Axes>"
            ],
            "image/svg+xml": "<?xml version=\"1.0\" encoding=\"utf-8\" standalone=\"no\"?>\n<!DOCTYPE svg PUBLIC \"-//W3C//DTD SVG 1.1//EN\"\n  \"http://www.w3.org/Graphics/SVG/1.1/DTD/svg11.dtd\">\n<svg xmlns:xlink=\"http://www.w3.org/1999/xlink\" width=\"394.423125pt\" height=\"297.190125pt\" viewBox=\"0 0 394.423125 297.190125\" xmlns=\"http://www.w3.org/2000/svg\" version=\"1.1\">\n <metadata>\n  <rdf:RDF xmlns:dc=\"http://purl.org/dc/elements/1.1/\" xmlns:cc=\"http://creativecommons.org/ns#\" xmlns:rdf=\"http://www.w3.org/1999/02/22-rdf-syntax-ns#\">\n   <cc:Work>\n    <dc:type rdf:resource=\"http://purl.org/dc/dcmitype/StillImage\"/>\n    <dc:date>2023-04-22T12:36:42.055714</dc:date>\n    <dc:format>image/svg+xml</dc:format>\n    <dc:creator>\n     <cc:Agent>\n      <dc:title>Matplotlib v3.7.1, https://matplotlib.org/</dc:title>\n     </cc:Agent>\n    </dc:creator>\n   </cc:Work>\n  </rdf:RDF>\n </metadata>\n <defs>\n  <style type=\"text/css\">*{stroke-linejoin: round; stroke-linecap: butt}</style>\n </defs>\n <g id=\"figure_1\">\n  <g id=\"patch_1\">\n   <path d=\"M 0 297.190125 \nL 394.423125 297.190125 \nL 394.423125 0 \nL 0 0 \nz\n\" style=\"fill: #ffffff\"/>\n  </g>\n  <g id=\"axes_1\">\n   <g id=\"patch_2\">\n    <path d=\"M 30.103125 273.312 \nL 387.223125 273.312 \nL 387.223125 7.2 \nL 30.103125 7.2 \nz\n\" style=\"fill: #ffffff\"/>\n   </g>\n   <g id=\"matplotlib.axis_1\">\n    <g id=\"xtick_1\">\n     <g id=\"line2d_1\">\n      <defs>\n       <path id=\"m8f88fe4094\" d=\"M 0 0 \nL 0 3.5 \n\" style=\"stroke: #000000; stroke-width: 0.8\"/>\n      </defs>\n      <g>\n       <use xlink:href=\"#m8f88fe4094\" x=\"46.335852\" y=\"273.312\" style=\"stroke: #000000; stroke-width: 0.8\"/>\n      </g>\n     </g>\n     <g id=\"text_1\">\n      <!-- 0 -->\n      <g transform=\"translate(43.154602 287.910437) scale(0.1 -0.1)\">\n       <defs>\n        <path id=\"DejaVuSans-30\" d=\"M 2034 4250 \nQ 1547 4250 1301 3770 \nQ 1056 3291 1056 2328 \nQ 1056 1369 1301 889 \nQ 1547 409 2034 409 \nQ 2525 409 2770 889 \nQ 3016 1369 3016 2328 \nQ 3016 3291 2770 3770 \nQ 2525 4250 2034 4250 \nz\nM 2034 4750 \nQ 2819 4750 3233 4129 \nQ 3647 3509 3647 2328 \nQ 3647 1150 3233 529 \nQ 2819 -91 2034 -91 \nQ 1250 -91 836 529 \nQ 422 1150 422 2328 \nQ 422 3509 836 4129 \nQ 1250 4750 2034 4750 \nz\n\" transform=\"scale(0.015625)\"/>\n       </defs>\n       <use xlink:href=\"#DejaVuSans-30\"/>\n      </g>\n     </g>\n    </g>\n    <g id=\"xtick_2\">\n     <g id=\"line2d_2\">\n      <g>\n       <use xlink:href=\"#m8f88fe4094\" x=\"111.922629\" y=\"273.312\" style=\"stroke: #000000; stroke-width: 0.8\"/>\n      </g>\n     </g>\n     <g id=\"text_2\">\n      <!-- 20 -->\n      <g transform=\"translate(105.560129 287.910437) scale(0.1 -0.1)\">\n       <defs>\n        <path id=\"DejaVuSans-32\" d=\"M 1228 531 \nL 3431 531 \nL 3431 0 \nL 469 0 \nL 469 531 \nQ 828 903 1448 1529 \nQ 2069 2156 2228 2338 \nQ 2531 2678 2651 2914 \nQ 2772 3150 2772 3378 \nQ 2772 3750 2511 3984 \nQ 2250 4219 1831 4219 \nQ 1534 4219 1204 4116 \nQ 875 4013 500 3803 \nL 500 4441 \nQ 881 4594 1212 4672 \nQ 1544 4750 1819 4750 \nQ 2544 4750 2975 4387 \nQ 3406 4025 3406 3419 \nQ 3406 3131 3298 2873 \nQ 3191 2616 2906 2266 \nQ 2828 2175 2409 1742 \nQ 1991 1309 1228 531 \nz\n\" transform=\"scale(0.015625)\"/>\n       </defs>\n       <use xlink:href=\"#DejaVuSans-32\"/>\n       <use xlink:href=\"#DejaVuSans-30\" x=\"63.623047\"/>\n      </g>\n     </g>\n    </g>\n    <g id=\"xtick_3\">\n     <g id=\"line2d_3\">\n      <g>\n       <use xlink:href=\"#m8f88fe4094\" x=\"177.509406\" y=\"273.312\" style=\"stroke: #000000; stroke-width: 0.8\"/>\n      </g>\n     </g>\n     <g id=\"text_3\">\n      <!-- 40 -->\n      <g transform=\"translate(171.146906 287.910437) scale(0.1 -0.1)\">\n       <defs>\n        <path id=\"DejaVuSans-34\" d=\"M 2419 4116 \nL 825 1625 \nL 2419 1625 \nL 2419 4116 \nz\nM 2253 4666 \nL 3047 4666 \nL 3047 1625 \nL 3713 1625 \nL 3713 1100 \nL 3047 1100 \nL 3047 0 \nL 2419 0 \nL 2419 1100 \nL 313 1100 \nL 313 1709 \nL 2253 4666 \nz\n\" transform=\"scale(0.015625)\"/>\n       </defs>\n       <use xlink:href=\"#DejaVuSans-34\"/>\n       <use xlink:href=\"#DejaVuSans-30\" x=\"63.623047\"/>\n      </g>\n     </g>\n    </g>\n    <g id=\"xtick_4\">\n     <g id=\"line2d_4\">\n      <g>\n       <use xlink:href=\"#m8f88fe4094\" x=\"243.096183\" y=\"273.312\" style=\"stroke: #000000; stroke-width: 0.8\"/>\n      </g>\n     </g>\n     <g id=\"text_4\">\n      <!-- 60 -->\n      <g transform=\"translate(236.733683 287.910437) scale(0.1 -0.1)\">\n       <defs>\n        <path id=\"DejaVuSans-36\" d=\"M 2113 2584 \nQ 1688 2584 1439 2293 \nQ 1191 2003 1191 1497 \nQ 1191 994 1439 701 \nQ 1688 409 2113 409 \nQ 2538 409 2786 701 \nQ 3034 994 3034 1497 \nQ 3034 2003 2786 2293 \nQ 2538 2584 2113 2584 \nz\nM 3366 4563 \nL 3366 3988 \nQ 3128 4100 2886 4159 \nQ 2644 4219 2406 4219 \nQ 1781 4219 1451 3797 \nQ 1122 3375 1075 2522 \nQ 1259 2794 1537 2939 \nQ 1816 3084 2150 3084 \nQ 2853 3084 3261 2657 \nQ 3669 2231 3669 1497 \nQ 3669 778 3244 343 \nQ 2819 -91 2113 -91 \nQ 1303 -91 875 529 \nQ 447 1150 447 2328 \nQ 447 3434 972 4092 \nQ 1497 4750 2381 4750 \nQ 2619 4750 2861 4703 \nQ 3103 4656 3366 4563 \nz\n\" transform=\"scale(0.015625)\"/>\n       </defs>\n       <use xlink:href=\"#DejaVuSans-36\"/>\n       <use xlink:href=\"#DejaVuSans-30\" x=\"63.623047\"/>\n      </g>\n     </g>\n    </g>\n    <g id=\"xtick_5\">\n     <g id=\"line2d_5\">\n      <g>\n       <use xlink:href=\"#m8f88fe4094\" x=\"308.68296\" y=\"273.312\" style=\"stroke: #000000; stroke-width: 0.8\"/>\n      </g>\n     </g>\n     <g id=\"text_5\">\n      <!-- 80 -->\n      <g transform=\"translate(302.32046 287.910437) scale(0.1 -0.1)\">\n       <defs>\n        <path id=\"DejaVuSans-38\" d=\"M 2034 2216 \nQ 1584 2216 1326 1975 \nQ 1069 1734 1069 1313 \nQ 1069 891 1326 650 \nQ 1584 409 2034 409 \nQ 2484 409 2743 651 \nQ 3003 894 3003 1313 \nQ 3003 1734 2745 1975 \nQ 2488 2216 2034 2216 \nz\nM 1403 2484 \nQ 997 2584 770 2862 \nQ 544 3141 544 3541 \nQ 544 4100 942 4425 \nQ 1341 4750 2034 4750 \nQ 2731 4750 3128 4425 \nQ 3525 4100 3525 3541 \nQ 3525 3141 3298 2862 \nQ 3072 2584 2669 2484 \nQ 3125 2378 3379 2068 \nQ 3634 1759 3634 1313 \nQ 3634 634 3220 271 \nQ 2806 -91 2034 -91 \nQ 1263 -91 848 271 \nQ 434 634 434 1313 \nQ 434 1759 690 2068 \nQ 947 2378 1403 2484 \nz\nM 1172 3481 \nQ 1172 3119 1398 2916 \nQ 1625 2713 2034 2713 \nQ 2441 2713 2670 2916 \nQ 2900 3119 2900 3481 \nQ 2900 3844 2670 4047 \nQ 2441 4250 2034 4250 \nQ 1625 4250 1398 4047 \nQ 1172 3844 1172 3481 \nz\n\" transform=\"scale(0.015625)\"/>\n       </defs>\n       <use xlink:href=\"#DejaVuSans-38\"/>\n       <use xlink:href=\"#DejaVuSans-30\" x=\"63.623047\"/>\n      </g>\n     </g>\n    </g>\n    <g id=\"xtick_6\">\n     <g id=\"line2d_6\">\n      <g>\n       <use xlink:href=\"#m8f88fe4094\" x=\"374.269737\" y=\"273.312\" style=\"stroke: #000000; stroke-width: 0.8\"/>\n      </g>\n     </g>\n     <g id=\"text_6\">\n      <!-- 100 -->\n      <g transform=\"translate(364.725987 287.910437) scale(0.1 -0.1)\">\n       <defs>\n        <path id=\"DejaVuSans-31\" d=\"M 794 531 \nL 1825 531 \nL 1825 4091 \nL 703 3866 \nL 703 4441 \nL 1819 4666 \nL 2450 4666 \nL 2450 531 \nL 3481 531 \nL 3481 0 \nL 794 0 \nL 794 531 \nz\n\" transform=\"scale(0.015625)\"/>\n       </defs>\n       <use xlink:href=\"#DejaVuSans-31\"/>\n       <use xlink:href=\"#DejaVuSans-30\" x=\"63.623047\"/>\n       <use xlink:href=\"#DejaVuSans-30\" x=\"127.246094\"/>\n      </g>\n     </g>\n    </g>\n   </g>\n   <g id=\"matplotlib.axis_2\">\n    <g id=\"ytick_1\">\n     <g id=\"line2d_7\">\n      <defs>\n       <path id=\"m94a46dc02e\" d=\"M 0 0 \nL -3.5 0 \n\" style=\"stroke: #000000; stroke-width: 0.8\"/>\n      </defs>\n      <g>\n       <use xlink:href=\"#m94a46dc02e\" x=\"30.103125\" y=\"258.018818\" style=\"stroke: #000000; stroke-width: 0.8\"/>\n      </g>\n     </g>\n     <g id=\"text_7\">\n      <!-- 0.2 -->\n      <g transform=\"translate(7.2 261.818037) scale(0.1 -0.1)\">\n       <defs>\n        <path id=\"DejaVuSans-2e\" d=\"M 684 794 \nL 1344 794 \nL 1344 0 \nL 684 0 \nL 684 794 \nz\n\" transform=\"scale(0.015625)\"/>\n       </defs>\n       <use xlink:href=\"#DejaVuSans-30\"/>\n       <use xlink:href=\"#DejaVuSans-2e\" x=\"63.623047\"/>\n       <use xlink:href=\"#DejaVuSans-32\" x=\"95.410156\"/>\n      </g>\n     </g>\n    </g>\n    <g id=\"ytick_2\">\n     <g id=\"line2d_8\">\n      <g>\n       <use xlink:href=\"#m94a46dc02e\" x=\"30.103125\" y=\"228.178466\" style=\"stroke: #000000; stroke-width: 0.8\"/>\n      </g>\n     </g>\n     <g id=\"text_8\">\n      <!-- 0.3 -->\n      <g transform=\"translate(7.2 231.977685) scale(0.1 -0.1)\">\n       <defs>\n        <path id=\"DejaVuSans-33\" d=\"M 2597 2516 \nQ 3050 2419 3304 2112 \nQ 3559 1806 3559 1356 \nQ 3559 666 3084 287 \nQ 2609 -91 1734 -91 \nQ 1441 -91 1130 -33 \nQ 819 25 488 141 \nL 488 750 \nQ 750 597 1062 519 \nQ 1375 441 1716 441 \nQ 2309 441 2620 675 \nQ 2931 909 2931 1356 \nQ 2931 1769 2642 2001 \nQ 2353 2234 1838 2234 \nL 1294 2234 \nL 1294 2753 \nL 1863 2753 \nQ 2328 2753 2575 2939 \nQ 2822 3125 2822 3475 \nQ 2822 3834 2567 4026 \nQ 2313 4219 1838 4219 \nQ 1578 4219 1281 4162 \nQ 984 4106 628 3988 \nL 628 4550 \nQ 988 4650 1302 4700 \nQ 1616 4750 1894 4750 \nQ 2613 4750 3031 4423 \nQ 3450 4097 3450 3541 \nQ 3450 3153 3228 2886 \nQ 3006 2619 2597 2516 \nz\n\" transform=\"scale(0.015625)\"/>\n       </defs>\n       <use xlink:href=\"#DejaVuSans-30\"/>\n       <use xlink:href=\"#DejaVuSans-2e\" x=\"63.623047\"/>\n       <use xlink:href=\"#DejaVuSans-33\" x=\"95.410156\"/>\n      </g>\n     </g>\n    </g>\n    <g id=\"ytick_3\">\n     <g id=\"line2d_9\">\n      <g>\n       <use xlink:href=\"#m94a46dc02e\" x=\"30.103125\" y=\"198.338114\" style=\"stroke: #000000; stroke-width: 0.8\"/>\n      </g>\n     </g>\n     <g id=\"text_9\">\n      <!-- 0.4 -->\n      <g transform=\"translate(7.2 202.137332) scale(0.1 -0.1)\">\n       <use xlink:href=\"#DejaVuSans-30\"/>\n       <use xlink:href=\"#DejaVuSans-2e\" x=\"63.623047\"/>\n       <use xlink:href=\"#DejaVuSans-34\" x=\"95.410156\"/>\n      </g>\n     </g>\n    </g>\n    <g id=\"ytick_4\">\n     <g id=\"line2d_10\">\n      <g>\n       <use xlink:href=\"#m94a46dc02e\" x=\"30.103125\" y=\"168.497761\" style=\"stroke: #000000; stroke-width: 0.8\"/>\n      </g>\n     </g>\n     <g id=\"text_10\">\n      <!-- 0.5 -->\n      <g transform=\"translate(7.2 172.29698) scale(0.1 -0.1)\">\n       <defs>\n        <path id=\"DejaVuSans-35\" d=\"M 691 4666 \nL 3169 4666 \nL 3169 4134 \nL 1269 4134 \nL 1269 2991 \nQ 1406 3038 1543 3061 \nQ 1681 3084 1819 3084 \nQ 2600 3084 3056 2656 \nQ 3513 2228 3513 1497 \nQ 3513 744 3044 326 \nQ 2575 -91 1722 -91 \nQ 1428 -91 1123 -41 \nQ 819 9 494 109 \nL 494 744 \nQ 775 591 1075 516 \nQ 1375 441 1709 441 \nQ 2250 441 2565 725 \nQ 2881 1009 2881 1497 \nQ 2881 1984 2565 2268 \nQ 2250 2553 1709 2553 \nQ 1456 2553 1204 2497 \nQ 953 2441 691 2322 \nL 691 4666 \nz\n\" transform=\"scale(0.015625)\"/>\n       </defs>\n       <use xlink:href=\"#DejaVuSans-30\"/>\n       <use xlink:href=\"#DejaVuSans-2e\" x=\"63.623047\"/>\n       <use xlink:href=\"#DejaVuSans-35\" x=\"95.410156\"/>\n      </g>\n     </g>\n    </g>\n    <g id=\"ytick_5\">\n     <g id=\"line2d_11\">\n      <g>\n       <use xlink:href=\"#m94a46dc02e\" x=\"30.103125\" y=\"138.657409\" style=\"stroke: #000000; stroke-width: 0.8\"/>\n      </g>\n     </g>\n     <g id=\"text_11\">\n      <!-- 0.6 -->\n      <g transform=\"translate(7.2 142.456628) scale(0.1 -0.1)\">\n       <use xlink:href=\"#DejaVuSans-30\"/>\n       <use xlink:href=\"#DejaVuSans-2e\" x=\"63.623047\"/>\n       <use xlink:href=\"#DejaVuSans-36\" x=\"95.410156\"/>\n      </g>\n     </g>\n    </g>\n    <g id=\"ytick_6\">\n     <g id=\"line2d_12\">\n      <g>\n       <use xlink:href=\"#m94a46dc02e\" x=\"30.103125\" y=\"108.817057\" style=\"stroke: #000000; stroke-width: 0.8\"/>\n      </g>\n     </g>\n     <g id=\"text_12\">\n      <!-- 0.7 -->\n      <g transform=\"translate(7.2 112.616276) scale(0.1 -0.1)\">\n       <defs>\n        <path id=\"DejaVuSans-37\" d=\"M 525 4666 \nL 3525 4666 \nL 3525 4397 \nL 1831 0 \nL 1172 0 \nL 2766 4134 \nL 525 4134 \nL 525 4666 \nz\n\" transform=\"scale(0.015625)\"/>\n       </defs>\n       <use xlink:href=\"#DejaVuSans-30\"/>\n       <use xlink:href=\"#DejaVuSans-2e\" x=\"63.623047\"/>\n       <use xlink:href=\"#DejaVuSans-37\" x=\"95.410156\"/>\n      </g>\n     </g>\n    </g>\n    <g id=\"ytick_7\">\n     <g id=\"line2d_13\">\n      <g>\n       <use xlink:href=\"#m94a46dc02e\" x=\"30.103125\" y=\"78.976705\" style=\"stroke: #000000; stroke-width: 0.8\"/>\n      </g>\n     </g>\n     <g id=\"text_13\">\n      <!-- 0.8 -->\n      <g transform=\"translate(7.2 82.775923) scale(0.1 -0.1)\">\n       <use xlink:href=\"#DejaVuSans-30\"/>\n       <use xlink:href=\"#DejaVuSans-2e\" x=\"63.623047\"/>\n       <use xlink:href=\"#DejaVuSans-38\" x=\"95.410156\"/>\n      </g>\n     </g>\n    </g>\n    <g id=\"ytick_8\">\n     <g id=\"line2d_14\">\n      <g>\n       <use xlink:href=\"#m94a46dc02e\" x=\"30.103125\" y=\"49.136352\" style=\"stroke: #000000; stroke-width: 0.8\"/>\n      </g>\n     </g>\n     <g id=\"text_14\">\n      <!-- 0.9 -->\n      <g transform=\"translate(7.2 52.935571) scale(0.1 -0.1)\">\n       <defs>\n        <path id=\"DejaVuSans-39\" d=\"M 703 97 \nL 703 672 \nQ 941 559 1184 500 \nQ 1428 441 1663 441 \nQ 2288 441 2617 861 \nQ 2947 1281 2994 2138 \nQ 2813 1869 2534 1725 \nQ 2256 1581 1919 1581 \nQ 1219 1581 811 2004 \nQ 403 2428 403 3163 \nQ 403 3881 828 4315 \nQ 1253 4750 1959 4750 \nQ 2769 4750 3195 4129 \nQ 3622 3509 3622 2328 \nQ 3622 1225 3098 567 \nQ 2575 -91 1691 -91 \nQ 1453 -91 1209 -44 \nQ 966 3 703 97 \nz\nM 1959 2075 \nQ 2384 2075 2632 2365 \nQ 2881 2656 2881 3163 \nQ 2881 3666 2632 3958 \nQ 2384 4250 1959 4250 \nQ 1534 4250 1286 3958 \nQ 1038 3666 1038 3163 \nQ 1038 2656 1286 2365 \nQ 1534 2075 1959 2075 \nz\n\" transform=\"scale(0.015625)\"/>\n       </defs>\n       <use xlink:href=\"#DejaVuSans-30\"/>\n       <use xlink:href=\"#DejaVuSans-2e\" x=\"63.623047\"/>\n       <use xlink:href=\"#DejaVuSans-39\" x=\"95.410156\"/>\n      </g>\n     </g>\n    </g>\n    <g id=\"ytick_9\">\n     <g id=\"line2d_15\">\n      <g>\n       <use xlink:href=\"#m94a46dc02e\" x=\"30.103125\" y=\"19.296\" style=\"stroke: #000000; stroke-width: 0.8\"/>\n      </g>\n     </g>\n     <g id=\"text_15\">\n      <!-- 1.0 -->\n      <g transform=\"translate(7.2 23.095219) scale(0.1 -0.1)\">\n       <use xlink:href=\"#DejaVuSans-31\"/>\n       <use xlink:href=\"#DejaVuSans-2e\" x=\"63.623047\"/>\n       <use xlink:href=\"#DejaVuSans-30\" x=\"95.410156\"/>\n      </g>\n     </g>\n    </g>\n   </g>\n   <g id=\"line2d_16\">\n    <path d=\"M 46.335852 261.216 \nL 49.615191 171.694944 \nL 52.89453 173.826393 \nL 56.173869 141.854585 \nL 59.453208 141.854585 \nL 62.732546 115.211426 \nL 66.011885 101.356962 \nL 69.291224 92.831147 \nL 72.570563 93.896881 \nL 75.849902 94.962614 \nL 79.129241 78.976701 \nL 82.40858 84.305333 \nL 85.687918 70.450887 \nL 88.967257 69.385171 \nL 92.246596 66.187988 \nL 95.525935 61.925072 \nL 98.805274 68.319437 \nL 102.084613 69.385171 \nL 105.363951 48.070626 \nL 108.64329 51.267809 \nL 111.922629 49.136359 \nL 115.201968 47.004892 \nL 118.481307 54.464991 \nL 121.760646 55.530707 \nL 125.039985 33.150446 \nL 128.319323 44.873443 \nL 131.598662 44.873443 \nL 134.878001 38.479078 \nL 138.15734 51.267809 \nL 141.436679 62.990806 \nL 144.716018 42.741994 \nL 147.995356 47.004892 \nL 151.274695 48.070626 \nL 154.554034 36.347629 \nL 157.833373 48.070626 \nL 161.112712 48.070626 \nL 164.392051 32.084731 \nL 167.671389 49.136359 \nL 170.950728 43.80771 \nL 174.230067 45.939177 \nL 177.509406 36.347629 \nL 180.788745 40.610545 \nL 184.068084 64.056521 \nL 187.347423 36.347629 \nL 190.626761 40.610545 \nL 193.9061 43.80771 \nL 197.185439 31.018997 \nL 200.464778 33.150446 \nL 203.744117 32.084731 \nL 207.023456 32.084731 \nL 210.302794 29.953264 \nL 213.582133 29.953264 \nL 216.861472 36.347629 \nL 220.140811 37.413362 \nL 223.42015 36.347629 \nL 226.699489 23.558916 \nL 229.978827 22.493183 \nL 233.258166 28.887548 \nL 236.537505 29.953264 \nL 239.816844 35.281895 \nL 243.096183 25.690365 \nL 246.375522 24.624632 \nL 249.654861 31.018997 \nL 252.934199 23.558916 \nL 256.213538 37.413362 \nL 259.492877 24.624632 \nL 262.772216 33.150446 \nL 266.051555 28.887548 \nL 269.330894 25.690365 \nL 272.610232 23.558916 \nL 275.889571 23.558916 \nL 279.16891 24.624632 \nL 282.448249 25.690365 \nL 285.727588 24.624632 \nL 289.006927 29.953264 \nL 292.286265 23.558916 \nL 295.565604 27.821814 \nL 298.844943 40.610545 \nL 302.124282 32.084731 \nL 305.403621 28.887548 \nL 308.68296 24.624632 \nL 311.962299 31.018997 \nL 315.241637 25.690365 \nL 318.520976 21.427449 \nL 321.800315 21.427449 \nL 325.079654 29.953264 \nL 328.358993 24.624632 \nL 331.638332 23.558916 \nL 334.91767 36.347629 \nL 338.197009 25.690365 \nL 341.476348 23.558916 \nL 344.755687 25.690365 \nL 348.035026 22.493183 \nL 351.314365 22.493183 \nL 354.593704 22.493183 \nL 357.873042 22.493183 \nL 361.152381 32.084731 \nL 364.43172 35.281895 \nL 367.711059 23.558916 \nL 370.990398 24.624632 \n\" clip-path=\"url(#p459c57df79)\" style=\"fill: none; stroke: #1f77b4; stroke-width: 2; stroke-linecap: square\"/>\n   </g>\n   <g id=\"line2d_17\">\n    <path d=\"M 46.335852 155.709031 \nL 49.615191 155.709031 \nL 52.89453 138.657402 \nL 56.173869 104.554144 \nL 59.453208 113.079959 \nL 62.732546 70.450887 \nL 66.011885 61.925072 \nL 69.291224 78.976701 \nL 72.570563 96.02833 \nL 75.849902 78.976701 \nL 79.129241 78.976701 \nL 82.40858 61.925072 \nL 85.687918 78.976701 \nL 88.967257 70.450887 \nL 92.246596 53.399258 \nL 95.525935 44.873443 \nL 98.805274 53.399258 \nL 102.084613 53.399258 \nL 105.363951 53.399258 \nL 108.64329 53.399258 \nL 111.922629 44.873443 \nL 115.201968 44.873443 \nL 118.481307 36.347629 \nL 121.760646 44.873443 \nL 125.039985 36.347629 \nL 128.319323 36.347629 \nL 131.598662 44.873443 \nL 134.878001 53.399258 \nL 138.15734 53.399258 \nL 141.436679 36.347629 \nL 144.716018 27.821814 \nL 147.995356 36.347629 \nL 151.274695 27.821814 \nL 154.554034 61.925072 \nL 157.833373 53.399258 \nL 161.112712 27.821814 \nL 164.392051 27.821814 \nL 167.671389 36.347629 \nL 170.950728 36.347629 \nL 174.230067 53.399258 \nL 177.509406 27.821814 \nL 180.788745 70.450887 \nL 184.068084 27.821814 \nL 187.347423 36.347629 \nL 190.626761 44.873443 \nL 193.9061 44.873443 \nL 197.185439 44.873443 \nL 200.464778 44.873443 \nL 203.744117 36.347629 \nL 207.023456 19.296 \nL 210.302794 36.347629 \nL 213.582133 44.873443 \nL 216.861472 36.347629 \nL 220.140811 27.821814 \nL 223.42015 19.296 \nL 226.699489 19.296 \nL 229.978827 19.296 \nL 233.258166 19.296 \nL 236.537505 19.296 \nL 239.816844 19.296 \nL 243.096183 27.821814 \nL 246.375522 27.821814 \nL 249.654861 36.347629 \nL 252.934199 27.821814 \nL 256.213538 19.296 \nL 259.492877 27.821814 \nL 262.772216 27.821814 \nL 266.051555 19.296 \nL 269.330894 19.296 \nL 272.610232 19.296 \nL 275.889571 19.296 \nL 279.16891 19.296 \nL 282.448249 27.821814 \nL 285.727588 27.821814 \nL 289.006927 19.296 \nL 292.286265 27.821814 \nL 295.565604 27.821814 \nL 298.844943 27.821814 \nL 302.124282 19.296 \nL 305.403621 19.296 \nL 308.68296 19.296 \nL 311.962299 19.296 \nL 315.241637 19.296 \nL 318.520976 19.296 \nL 321.800315 19.296 \nL 325.079654 19.296 \nL 328.358993 19.296 \nL 331.638332 27.821814 \nL 334.91767 19.296 \nL 338.197009 19.296 \nL 341.476348 27.821814 \nL 344.755687 19.296 \nL 348.035026 19.296 \nL 351.314365 19.296 \nL 354.593704 19.296 \nL 357.873042 19.296 \nL 361.152381 19.296 \nL 364.43172 19.296 \nL 367.711059 19.296 \nL 370.990398 19.296 \n\" clip-path=\"url(#p459c57df79)\" style=\"fill: none; stroke: #ff7f0e; stroke-width: 2; stroke-linecap: square\"/>\n   </g>\n   <g id=\"patch_3\">\n    <path d=\"M 30.103125 273.312 \nL 30.103125 7.2 \n\" style=\"fill: none; stroke: #000000; stroke-width: 0.8; stroke-linejoin: miter; stroke-linecap: square\"/>\n   </g>\n   <g id=\"patch_4\">\n    <path d=\"M 387.223125 273.312 \nL 387.223125 7.2 \n\" style=\"fill: none; stroke: #000000; stroke-width: 0.8; stroke-linejoin: miter; stroke-linecap: square\"/>\n   </g>\n   <g id=\"patch_5\">\n    <path d=\"M 30.103125 273.312 \nL 387.223125 273.312 \n\" style=\"fill: none; stroke: #000000; stroke-width: 0.8; stroke-linejoin: miter; stroke-linecap: square\"/>\n   </g>\n   <g id=\"patch_6\">\n    <path d=\"M 30.103125 7.2 \nL 387.223125 7.2 \n\" style=\"fill: none; stroke: #000000; stroke-width: 0.8; stroke-linejoin: miter; stroke-linecap: square\"/>\n   </g>\n   <g id=\"legend_1\">\n    <g id=\"patch_7\">\n     <path d=\"M 37.103125 44.834375 \nL 106.053125 44.834375 \nQ 108.053125 44.834375 108.053125 42.834375 \nL 108.053125 14.2 \nQ 108.053125 12.2 106.053125 12.2 \nL 37.103125 12.2 \nQ 35.103125 12.2 35.103125 14.2 \nL 35.103125 42.834375 \nQ 35.103125 44.834375 37.103125 44.834375 \nz\n\" style=\"fill: #ffffff; opacity: 0.8; stroke: #cccccc; stroke-linejoin: miter\"/>\n    </g>\n    <g id=\"line2d_18\">\n     <path d=\"M 39.103125 20.298437 \nL 49.103125 20.298437 \nL 59.103125 20.298437 \n\" style=\"fill: none; stroke: #1f77b4; stroke-width: 2; stroke-linecap: square\"/>\n    </g>\n    <g id=\"text_16\">\n     <!-- acc -->\n     <g transform=\"translate(67.103125 23.798437) scale(0.1 -0.1)\">\n      <defs>\n       <path id=\"DejaVuSans-61\" d=\"M 2194 1759 \nQ 1497 1759 1228 1600 \nQ 959 1441 959 1056 \nQ 959 750 1161 570 \nQ 1363 391 1709 391 \nQ 2188 391 2477 730 \nQ 2766 1069 2766 1631 \nL 2766 1759 \nL 2194 1759 \nz\nM 3341 1997 \nL 3341 0 \nL 2766 0 \nL 2766 531 \nQ 2569 213 2275 61 \nQ 1981 -91 1556 -91 \nQ 1019 -91 701 211 \nQ 384 513 384 1019 \nQ 384 1609 779 1909 \nQ 1175 2209 1959 2209 \nL 2766 2209 \nL 2766 2266 \nQ 2766 2663 2505 2880 \nQ 2244 3097 1772 3097 \nQ 1472 3097 1187 3025 \nQ 903 2953 641 2809 \nL 641 3341 \nQ 956 3463 1253 3523 \nQ 1550 3584 1831 3584 \nQ 2591 3584 2966 3190 \nQ 3341 2797 3341 1997 \nz\n\" transform=\"scale(0.015625)\"/>\n       <path id=\"DejaVuSans-63\" d=\"M 3122 3366 \nL 3122 2828 \nQ 2878 2963 2633 3030 \nQ 2388 3097 2138 3097 \nQ 1578 3097 1268 2742 \nQ 959 2388 959 1747 \nQ 959 1106 1268 751 \nQ 1578 397 2138 397 \nQ 2388 397 2633 464 \nQ 2878 531 3122 666 \nL 3122 134 \nQ 2881 22 2623 -34 \nQ 2366 -91 2075 -91 \nQ 1284 -91 818 406 \nQ 353 903 353 1747 \nQ 353 2603 823 3093 \nQ 1294 3584 2113 3584 \nQ 2378 3584 2631 3529 \nQ 2884 3475 3122 3366 \nz\n\" transform=\"scale(0.015625)\"/>\n      </defs>\n      <use xlink:href=\"#DejaVuSans-61\"/>\n      <use xlink:href=\"#DejaVuSans-63\" x=\"61.279297\"/>\n      <use xlink:href=\"#DejaVuSans-63\" x=\"116.259766\"/>\n     </g>\n    </g>\n    <g id=\"line2d_19\">\n     <path d=\"M 39.103125 34.976562 \nL 49.103125 34.976562 \nL 59.103125 34.976562 \n\" style=\"fill: none; stroke: #ff7f0e; stroke-width: 2; stroke-linecap: square\"/>\n    </g>\n    <g id=\"text_17\">\n     <!-- val_acc -->\n     <g transform=\"translate(67.103125 38.476562) scale(0.1 -0.1)\">\n      <defs>\n       <path id=\"DejaVuSans-76\" d=\"M 191 3500 \nL 800 3500 \nL 1894 563 \nL 2988 3500 \nL 3597 3500 \nL 2284 0 \nL 1503 0 \nL 191 3500 \nz\n\" transform=\"scale(0.015625)\"/>\n       <path id=\"DejaVuSans-6c\" d=\"M 603 4863 \nL 1178 4863 \nL 1178 0 \nL 603 0 \nL 603 4863 \nz\n\" transform=\"scale(0.015625)\"/>\n       <path id=\"DejaVuSans-5f\" d=\"M 3263 -1063 \nL 3263 -1509 \nL -63 -1509 \nL -63 -1063 \nL 3263 -1063 \nz\n\" transform=\"scale(0.015625)\"/>\n      </defs>\n      <use xlink:href=\"#DejaVuSans-76\"/>\n      <use xlink:href=\"#DejaVuSans-61\" x=\"59.179688\"/>\n      <use xlink:href=\"#DejaVuSans-6c\" x=\"120.458984\"/>\n      <use xlink:href=\"#DejaVuSans-5f\" x=\"148.242188\"/>\n      <use xlink:href=\"#DejaVuSans-61\" x=\"198.242188\"/>\n      <use xlink:href=\"#DejaVuSans-63\" x=\"259.521484\"/>\n      <use xlink:href=\"#DejaVuSans-63\" x=\"314.501953\"/>\n     </g>\n    </g>\n   </g>\n  </g>\n </g>\n <defs>\n  <clipPath id=\"p459c57df79\">\n   <rect x=\"30.103125\" y=\"7.2\" width=\"357.12\" height=\"266.112\"/>\n  </clipPath>\n </defs>\n</svg>\n",
            "application/pdf": "[encoded data removed]"
          },
          "metadata": {}
        }
      ],
      "source": [
        "#Some visualizations\n",
        "import matplotlib.pyplot as plt\n",
        "#Loss\n",
        "plt.plot(history.history['loss'],label='loss')\n",
        "plt.plot(history.history['val_loss'],label='val_loss')\n",
        "plt.legend()\n",
        "plt.show()\n",
        "#Accuracy\n",
        "plt.plot(history.history['accuracy'],label='acc')\n",
        "plt.plot(history.history['val_accuracy'],label='val_acc')\n",
        "plt.legend()\n",
        "plt.show()"
      ]
    },
    {
      "cell_type": "code",
      "execution_count": 42,
      "metadata": {
        "id": "uL4zUSjvgbte",
        "colab": {
          "base_uri": "https://localhost:8080/"
        },
        "outputId": "18954110-1dae-4d32-cfdb-f895b01daeef"
      },
      "outputs": [
        {
          "output_type": "stream",
          "name": "stdout",
          "text": [
            "2/2 [==============================] - 2s 18ms/step\n"
          ]
        }
      ],
      "source": [
        "probabilities = model.predict(x_test)"
      ]
    },
    {
      "cell_type": "code",
      "source": [
        "y_predicted = np.argmax(probabilities, axis=1)"
      ],
      "metadata": {
        "id": "mImlGALI7QLm"
      },
      "execution_count": 43,
      "outputs": []
    },
    {
      "cell_type": "code",
      "source": [
        "correct = 0\n",
        "\n",
        "for i in range(len(y_predicted)):\n",
        "  if y_predicted[i] == y_test[i]:\n",
        "    correct+=1\n",
        "\n",
        "accuracy = correct/len(y_predicted)\n",
        "\n",
        "accuracy *= 100\n",
        "\n",
        "print(\"accuracy [%]: \", round(accuracy,2))"
      ],
      "metadata": {
        "colab": {
          "base_uri": "https://localhost:8080/"
        },
        "id": "mdKYKG3E7zFO",
        "outputId": "47346a36-7e6e-440d-f794-a9d93f54440d"
      },
      "execution_count": 44,
      "outputs": [
        {
          "output_type": "stream",
          "name": "stdout",
          "text": [
            "accuracy [%]:  100.0\n"
          ]
        }
      ]
    },
    {
      "cell_type": "code",
      "source": [],
      "metadata": {
        "id": "aERspyUN61RK"
      },
      "execution_count": null,
      "outputs": []
    }
  ],
  "metadata": {
    "accelerator": "GPU",
    "colab": {
      "provenance": []
    },
    "gpuClass": "standard",
    "kernelspec": {
      "display_name": "Python 3",
      "name": "python3"
    },
    "language_info": {
      "name": "python"
    }
  },
  "nbformat": 4,
  "nbformat_minor": 0
}