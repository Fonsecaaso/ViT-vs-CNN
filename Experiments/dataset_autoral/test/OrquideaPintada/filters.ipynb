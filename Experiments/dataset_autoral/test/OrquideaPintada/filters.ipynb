{
 "cells": [
  {
   "cell_type": "code",
   "execution_count": null,
   "metadata": {},
   "outputs": [],
   "source": [
    "import cv2\n",
    "import numpy as np\n",
    "\n",
    "def filtro_passa_alta(imagem, kernel_size=(3, 3)):\n",
    "    # Aplicando um filtro de média para obter a versão suavizada da imagem\n",
    "    blur = cv2.blur(imagem, kernel_size)\n",
    "    # Subtraindo a imagem suavizada da imagem original para obter o filtro passa alta\n",
    "    filtro_passa_alta = imagem - blur\n",
    "    return filtro_passa_alta\n",
    "\n",
    "def filtro_passa_baixa(imagem, kernel_size=(3, 3)):\n",
    "    # Aplicando um filtro de média para obter a versão suavizada da imagem\n",
    "    filtro_passa_baixa = cv2.blur(imagem, kernel_size)\n",
    "    return filtro_passa_baixa\n",
    "\n",
    "# Carregando a imagem\n",
    "imagem = cv2.imread('caminho/para/imagem.jpg', 0)  # Utilize 0 para carregar a imagem em escala de cinza\n",
    "\n",
    "# Aplicando o filtro passa alta\n",
    "filtro_alta = filtro_passa_alta(imagem)\n",
    "\n",
    "# Aplicando o filtro passa baixa\n",
    "filtro_baixa = filtro_passa_baixa(imagem)\n",
    "\n",
    "# Exibindo as imagens resultantes\n",
    "cv2.imshow('Filtro Passa Alta', filtro_alta)\n",
    "cv2.imshow('Filtro Passa Baixa', filtro_baixa)\n",
    "cv2.waitKey(0)\n",
    "cv2.destroyAllWindows()"
   ]
  }
 ],
 "metadata": {
  "kernelspec": {
   "display_name": "Python 3",
   "language": "python",
   "name": "python3"
  },
  "language_info": {
   "codemirror_mode": {
    "name": "ipython",
    "version": 3
   },
   "file_extension": ".py",
   "mimetype": "text/x-python",
   "name": "python",
   "nbconvert_exporter": "python",
   "pygments_lexer": "ipython3",
   "version": "3.8.10"
  },
  "orig_nbformat": 4
 },
 "nbformat": 4,
 "nbformat_minor": 2
}
