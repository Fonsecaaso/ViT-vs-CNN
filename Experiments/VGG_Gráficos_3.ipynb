{
  "nbformat": 4,
  "nbformat_minor": 0,
  "metadata": {
    "colab": {
      "provenance": []
    },
    "kernelspec": {
      "name": "python3",
      "display_name": "Python 3"
    },
    "language_info": {
      "name": "python"
    },
    "accelerator": "GPU",
    "gpuClass": "standard"
  },
  "cells": [
    {
      "cell_type": "markdown",
      "source": [
        "https://www.learndatasci.com/tutorials/hands-on-transfer-learning-keras/"
      ],
      "metadata": {
        "id": "Ej9Rh5Bbhc6r"
      }
    },
    {
      "cell_type": "code",
      "execution_count": 20,
      "metadata": {
        "colab": {
          "base_uri": "https://localhost:8080/",
          "height": 139
        },
        "id": "sFggMRYcffnW",
        "outputId": "68443cbe-579c-4c60-e36f-938b9ed162ce"
      },
      "outputs": [
        {
          "output_type": "stream",
          "name": "stderr",
          "text": [
            "<ipython-input-20-3bc222d10891>:15: DeprecationWarning: `set_matplotlib_formats` is deprecated since IPython 7.23, directly use `matplotlib_inline.backend_inline.set_matplotlib_formats()`\n",
            "  set_matplotlib_formats('svg', 'pdf') # For export\n"
          ]
        },
        {
          "output_type": "stream",
          "name": "stdout",
          "text": [
            "Looking in indexes: https://pypi.org/simple, https://us-python.pkg.dev/colab-wheels/public/simple/\n",
            "Requirement already satisfied: tensorflow-addons in /usr/local/lib/python3.9/dist-packages (0.20.0)\n",
            "Requirement already satisfied: typeguard<3.0.0,>=2.7 in /usr/local/lib/python3.9/dist-packages (from tensorflow-addons) (2.13.3)\n",
            "Requirement already satisfied: packaging in /usr/local/lib/python3.9/dist-packages (from tensorflow-addons) (23.1)\n"
          ]
        },
        {
          "output_type": "display_data",
          "data": {
            "text/plain": [
              "<Figure size 640x480 with 0 Axes>"
            ]
          },
          "metadata": {}
        }
      ],
      "source": [
        "# import libs and config stuff\n",
        "## Standard libraries\n",
        "import os\n",
        "import numpy as np\n",
        "import random\n",
        "import math\n",
        "import json\n",
        "from functools import partial\n",
        "from PIL import Image\n",
        "\n",
        "## Imports for plotting\n",
        "import matplotlib.pyplot as plt\n",
        "plt.set_cmap('cividis')\n",
        "from IPython.display import set_matplotlib_formats\n",
        "set_matplotlib_formats('svg', 'pdf') # For export\n",
        "from matplotlib.colors import to_rgb\n",
        "import matplotlib\n",
        "matplotlib.rcParams['lines.linewidth'] = 2.0\n",
        "import seaborn as sns\n",
        "sns.reset_orig()\n",
        "\n",
        "## tqdm for loading bars\n",
        "from tqdm.notebook import tqdm\n",
        "from pathlib import Path\n",
        "import numpy as np\n",
        "\n",
        "## PyTorch\n",
        "import torch\n",
        "import torch.nn as nn\n",
        "import torch.nn.functional as F\n",
        "import torch.utils.data as data\n",
        "import torch.optim as optim\n",
        "\n",
        "\n",
        "## Torchvision\n",
        "import torchvision\n",
        "from torchvision import datasets\n",
        "from torchvision.datasets import CIFAR10\n",
        "from torchvision import transforms\n",
        "\n",
        "import numpy as np\n",
        "import tensorflow as tf\n",
        "from tensorflow import keras\n",
        "from keras.models import Model, Sequential\n",
        "from keras.optimizers import Adam\n",
        "from keras.applications.vgg16 import VGG16, preprocess_input\n",
        "from keras.preprocessing.image import ImageDataGenerator\n",
        "from keras.callbacks import ModelCheckpoint, EarlyStopping\n",
        "from keras.layers import Dense, Dropout, Flatten\n",
        "from keras import layers\n",
        "\n",
        "\n",
        "!pip install -U tensorflow-addons\n",
        "     \n",
        "\n",
        "import tensorflow_addons as tfa\n"
      ]
    },
    {
      "cell_type": "code",
      "source": [
        "from pathlib import Path\n",
        "import os \n",
        "\n",
        "batch_size = 1\n",
        "img_size = 72\n",
        "\n",
        "class_subset = sorted(os.listdir(Path('/content/drive/MyDrive/USP/TCC/experiments/dataset_flowers_350_images_7_classes/train'))) \n",
        "\n",
        "download_dir = Path('/content/drive/MyDrive/USP/TCC/experiments/dataset_flowers_350_images_7_classes')\n",
        "\n",
        "train_data_dir = download_dir/'train'\n",
        "test_data_dir = download_dir/'test'\n",
        "val_data_dir = download_dir/'val'\n",
        "\n",
        "train_transforms = transforms.Compose([\n",
        "        transforms.Resize((img_size, img_size,)),\n",
        "        transforms.RandomHorizontalFlip(),\n",
        "        transforms.RandomResizedCrop((img_size,img_size),scale=(0.8,1.0),ratio=(0.9,1.1)),\n",
        "        transforms.ToTensor(),\n",
        "        transforms.Normalize([0.49139968, 0.48215841, 0.44653091], [0.24703223, 0.24348513, 0.26158784])\n",
        "    ])\n",
        "\n",
        "test_transforms = transforms.Compose([\n",
        "        transforms.Resize((img_size, img_size)),\n",
        "        transforms.ToTensor(),\n",
        "        transforms.Normalize([0.49139968, 0.48215841, 0.44653091], [0.24703223, 0.24348513, 0.26158784])\n",
        "    ])\n",
        "\n",
        "def augumentation_preproc(image):\n",
        "    data = {\"image\":image}\n",
        "    aug_data = train_transforms(**data)\n",
        "    aug_img = aug_data[\"image\"]\n",
        "    return aug_img\n",
        "    \n",
        "\n",
        "train_datagen = ImageDataGenerator(rescale=1./255.)\n",
        "\n",
        "train_generator = train_datagen.flow_from_directory(\n",
        "                      train_data_dir,\n",
        "                      target_size=(img_size, img_size),\n",
        "                      class_mode='binary',\n",
        "                      classes=class_subset,\n",
        "                      subset='training',\n",
        "                      batch_size=batch_size, \n",
        "                      shuffle=True,\n",
        "                      seed=42\n",
        "                  )\n",
        "\n",
        "val_datagen = ImageDataGenerator(rescale=1./255.)\n",
        "\n",
        "valid_generator = train_datagen.flow_from_directory(\n",
        "                      val_data_dir,\n",
        "                      target_size=(img_size, img_size),\n",
        "                      class_mode='binary',\n",
        "                      classes=class_subset,\n",
        "                      subset='training',\n",
        "                      batch_size=batch_size, \n",
        "                      shuffle=True,\n",
        "                      seed=42\n",
        "                  )"
      ],
      "metadata": {
        "colab": {
          "base_uri": "https://localhost:8080/"
        },
        "id": "xtOqJfRyL0M8",
        "outputId": "c871dd2e-ca3a-4898-96ac-2634929416b0"
      },
      "execution_count": 21,
      "outputs": [
        {
          "output_type": "stream",
          "name": "stdout",
          "text": [
            "Found 280 images belonging to 7 classes.\n",
            "Found 35 images belonging to 7 classes.\n"
          ]
        }
      ]
    },
    {
      "cell_type": "code",
      "source": [
        "def create_model(optimizer='rmsprop', fine_tune=0):\n",
        "\n",
        "    data_augmentation = keras.Sequential(\n",
        "        [\n",
        "            layers.Normalization(),\n",
        "            layers.Resizing(img_size, img_size),\n",
        "            layers.RandomFlip(\"horizontal\"),\n",
        "            layers.RandomRotation(factor=0.02),\n",
        "            layers.RandomZoom(\n",
        "                height_factor=0.2, width_factor=0.2\n",
        "            ),\n",
        "        ],\n",
        "        name=\"data_augmentation\",\n",
        "    )\n",
        "    data_augmentation.layers[0].adapt(x_train)\n",
        "    vgg = VGG16(include_top=False, weights='imagenet', input_shape=input_shape)\n",
        "    vgg.trainable = False\n",
        "    prediction_layer = Dense(n_classes, activation='softmax')\n",
        "\n",
        "    model = Sequential()\n",
        "    model.add(data_augmentation)\n",
        "    model.add(vgg)\n",
        "    model.add(Flatten(name=\"flatten\"))\n",
        "    model.add(Dense(4096, activation='relu'))\n",
        "    model.add(Dropout(0.2))\n",
        "    model.add(Dense(1072, activation='relu'))\n",
        "    model.add(Dropout(0.2))\n",
        "    model.add(prediction_layer)\n",
        "    \n",
        "    return model"
      ],
      "metadata": {
        "id": "PI9OYgusSgcC"
      },
      "execution_count": 27,
      "outputs": []
    },
    {
      "cell_type": "code",
      "source": [
        "input_shape = (72, 72, 3)\n",
        "optim_1 = Adam(learning_rate=0.001)\n",
        "n_classes=7\n",
        "\n",
        "n_epochs = 100\n",
        "learning_rate = 0.001\n",
        "weight_decay = 0.0001\n",
        "num_epochs = 50\n"
      ],
      "metadata": {
        "id": "dyk6yWN9hFl-"
      },
      "execution_count": 23,
      "outputs": []
    },
    {
      "cell_type": "code",
      "source": [
        "x_train = []\n",
        "y_train = []\n",
        "x_train,y_train = next(train_generator)\n",
        "x_test = []\n",
        "y_test = []\n",
        "x_test,y_test = next(valid_generator)\n",
        "\n",
        "for i in range(len(train_generator)-1):\n",
        "    x_train = np.append(x_train, train_generator[i+1][0], axis=0)\n",
        "    y_train = np.append(y_train, train_generator[i+1][1], axis=0)\n",
        "for i in range(len(valid_generator)-1):\n",
        "    x_test = np.append(x_test, valid_generator[i+1][0], axis=0)\n",
        "    y_test = np.append(y_test, valid_generator[i+1][1], axis=0)"
      ],
      "metadata": {
        "id": "iLvTIx-_Lb5i"
      },
      "execution_count": 24,
      "outputs": []
    },
    {
      "cell_type": "code",
      "source": [
        "print(f\"x_train shape: {x_train.shape} - y_train shape: {y_train.shape}\")\n",
        "print(f\"x_test shape: {x_test.shape} - y_test shape: {y_test.shape}\")\n",
        "\n",
        "y_test = y_test.reshape((35,1))\n",
        "y_train = y_train.reshape((280,1))\n",
        "y_test = y_test.astype(int)\n",
        "\n",
        "print(f\"x_train shape: {x_train.shape} - y_train shape: {y_train.shape}\")\n",
        "print(f\"x_test shape: {x_test.shape} - y_test shape: {y_test.shape}\")"
      ],
      "metadata": {
        "id": "7LPKenfiMLms",
        "colab": {
          "base_uri": "https://localhost:8080/"
        },
        "outputId": "3c866bd4-7b22-4a8a-eaab-735e94e7ea95"
      },
      "execution_count": 25,
      "outputs": [
        {
          "output_type": "stream",
          "name": "stdout",
          "text": [
            "x_train shape: (280, 72, 72, 3) - y_train shape: (280,)\n",
            "x_test shape: (35, 72, 72, 3) - y_test shape: (35,)\n",
            "x_train shape: (280, 72, 72, 3) - y_train shape: (280, 1)\n",
            "x_test shape: (35, 72, 72, 3) - y_test shape: (35, 1)\n"
          ]
        }
      ]
    },
    {
      "cell_type": "code",
      "source": [
        "def run_experiment(model):\n",
        "    optimizer = tfa.optimizers.AdamW(\n",
        "        learning_rate=learning_rate, weight_decay=weight_decay\n",
        "    )\n",
        "\n",
        "    model.compile(\n",
        "        optimizer=optimizer,\n",
        "        loss=keras.losses.SparseCategoricalCrossentropy(from_logits=True),\n",
        "        metrics=[\n",
        "            keras.metrics.SparseCategoricalAccuracy(name=\"accuracy\"),\n",
        "            keras.metrics.SparseTopKCategoricalAccuracy(5, name=\"top-5-accuracy\"),\n",
        "        ],\n",
        "    )\n",
        "\n",
        "    checkpoint_filepath = \"/tmp/checkpoint\"\n",
        "    checkpoint_callback = keras.callbacks.ModelCheckpoint(\n",
        "        checkpoint_filepath,\n",
        "        monitor=\"val_accuracy\",\n",
        "        save_best_only=True,\n",
        "        save_weights_only=True,\n",
        "    )\n",
        "\n",
        "    history = model.fit(\n",
        "        x=x_train,\n",
        "        y=y_train,\n",
        "        batch_size=1,#batch_size,\n",
        "        epochs=50,#num_epochs,\n",
        "        validation_data=(x_test,y_test),\n",
        "        callbacks=[checkpoint_callback],\n",
        "    )\n",
        "    return history\n",
        "\n",
        "\n",
        "vgg_classifier = create_model()\n",
        "history = run_experiment(vgg_classifier)"
      ],
      "metadata": {
        "colab": {
          "base_uri": "https://localhost:8080/"
        },
        "id": "rAheDowOMypv",
        "outputId": "4908dcb2-a248-4eaa-99f4-38fe77338785"
      },
      "execution_count": 28,
      "outputs": [
        {
          "output_type": "stream",
          "name": "stdout",
          "text": [
            "Epoch 1/50\n",
            "280/280 [==============================] - 56s 195ms/step - loss: 1.4252 - accuracy: 0.6393 - top-5-accuracy: 0.9357 - val_loss: 0.3986 - val_accuracy: 0.8286 - val_top-5-accuracy: 1.0000\n",
            "Epoch 2/50\n",
            "280/280 [==============================] - 50s 179ms/step - loss: 0.5821 - accuracy: 0.8464 - top-5-accuracy: 1.0000 - val_loss: 0.5569 - val_accuracy: 0.9143 - val_top-5-accuracy: 1.0000\n",
            "Epoch 3/50\n",
            "280/280 [==============================] - 49s 176ms/step - loss: 0.4866 - accuracy: 0.8821 - top-5-accuracy: 1.0000 - val_loss: 0.5693 - val_accuracy: 0.9143 - val_top-5-accuracy: 1.0000\n",
            "Epoch 4/50\n",
            "280/280 [==============================] - 49s 176ms/step - loss: 0.3668 - accuracy: 0.9071 - top-5-accuracy: 1.0000 - val_loss: 0.4205 - val_accuracy: 0.8571 - val_top-5-accuracy: 1.0000\n",
            "Epoch 5/50\n",
            "280/280 [==============================] - 51s 182ms/step - loss: 0.1399 - accuracy: 0.9607 - top-5-accuracy: 1.0000 - val_loss: 0.8927 - val_accuracy: 0.8857 - val_top-5-accuracy: 0.9714\n",
            "Epoch 6/50\n",
            "280/280 [==============================] - 50s 179ms/step - loss: 0.4079 - accuracy: 0.9286 - top-5-accuracy: 1.0000 - val_loss: 0.0293 - val_accuracy: 1.0000 - val_top-5-accuracy: 1.0000\n",
            "Epoch 7/50\n",
            "280/280 [==============================] - 51s 182ms/step - loss: 0.1957 - accuracy: 0.9643 - top-5-accuracy: 0.9964 - val_loss: 0.0011 - val_accuracy: 1.0000 - val_top-5-accuracy: 1.0000\n",
            "Epoch 8/50\n",
            "280/280 [==============================] - 59s 212ms/step - loss: 0.2357 - accuracy: 0.9536 - top-5-accuracy: 1.0000 - val_loss: 0.1191 - val_accuracy: 0.9429 - val_top-5-accuracy: 1.0000\n",
            "Epoch 9/50\n",
            "280/280 [==============================] - 50s 178ms/step - loss: 0.1856 - accuracy: 0.9393 - top-5-accuracy: 1.0000 - val_loss: 1.0757 - val_accuracy: 0.9429 - val_top-5-accuracy: 1.0000\n",
            "Epoch 10/50\n",
            "280/280 [==============================] - 54s 193ms/step - loss: 0.1931 - accuracy: 0.9607 - top-5-accuracy: 1.0000 - val_loss: 0.5315 - val_accuracy: 0.9429 - val_top-5-accuracy: 1.0000\n",
            "Epoch 11/50\n",
            "280/280 [==============================] - 54s 192ms/step - loss: 0.1937 - accuracy: 0.9571 - top-5-accuracy: 1.0000 - val_loss: 0.0047 - val_accuracy: 1.0000 - val_top-5-accuracy: 1.0000\n",
            "Epoch 12/50\n",
            "280/280 [==============================] - 55s 195ms/step - loss: 0.0592 - accuracy: 0.9821 - top-5-accuracy: 1.0000 - val_loss: 0.0687 - val_accuracy: 0.9714 - val_top-5-accuracy: 1.0000\n",
            "Epoch 13/50\n",
            "280/280 [==============================] - 52s 187ms/step - loss: 0.0297 - accuracy: 0.9929 - top-5-accuracy: 1.0000 - val_loss: 4.2812e-05 - val_accuracy: 1.0000 - val_top-5-accuracy: 1.0000\n",
            "Epoch 14/50\n",
            "280/280 [==============================] - 50s 179ms/step - loss: 0.1978 - accuracy: 0.9714 - top-5-accuracy: 1.0000 - val_loss: 0.2682 - val_accuracy: 0.9714 - val_top-5-accuracy: 0.9714\n",
            "Epoch 15/50\n",
            "280/280 [==============================] - 52s 186ms/step - loss: 0.2804 - accuracy: 0.9393 - top-5-accuracy: 1.0000 - val_loss: 0.0100 - val_accuracy: 1.0000 - val_top-5-accuracy: 1.0000\n",
            "Epoch 16/50\n",
            "280/280 [==============================] - 51s 181ms/step - loss: 0.7264 - accuracy: 0.9179 - top-5-accuracy: 0.9929 - val_loss: 0.2637 - val_accuracy: 0.9429 - val_top-5-accuracy: 0.9714\n",
            "Epoch 17/50\n",
            "280/280 [==============================] - 51s 183ms/step - loss: 0.1278 - accuracy: 0.9714 - top-5-accuracy: 1.0000 - val_loss: 0.3330 - val_accuracy: 0.9429 - val_top-5-accuracy: 1.0000\n",
            "Epoch 18/50\n",
            "280/280 [==============================] - 51s 181ms/step - loss: 0.0037 - accuracy: 1.0000 - top-5-accuracy: 1.0000 - val_loss: 0.0913 - val_accuracy: 0.9714 - val_top-5-accuracy: 1.0000\n",
            "Epoch 19/50\n",
            "280/280 [==============================] - 51s 182ms/step - loss: 0.0330 - accuracy: 0.9857 - top-5-accuracy: 1.0000 - val_loss: 0.1282 - val_accuracy: 0.9714 - val_top-5-accuracy: 0.9714\n",
            "Epoch 20/50\n",
            "280/280 [==============================] - 51s 184ms/step - loss: 0.1471 - accuracy: 0.9500 - top-5-accuracy: 1.0000 - val_loss: 2.5755 - val_accuracy: 0.8571 - val_top-5-accuracy: 1.0000\n",
            "Epoch 21/50\n",
            "280/280 [==============================] - 51s 182ms/step - loss: 0.1103 - accuracy: 0.9714 - top-5-accuracy: 0.9964 - val_loss: 1.1654 - val_accuracy: 0.8857 - val_top-5-accuracy: 1.0000\n",
            "Epoch 22/50\n",
            "280/280 [==============================] - 52s 185ms/step - loss: 0.0555 - accuracy: 0.9893 - top-5-accuracy: 1.0000 - val_loss: 0.0227 - val_accuracy: 0.9714 - val_top-5-accuracy: 1.0000\n",
            "Epoch 23/50\n",
            "280/280 [==============================] - 50s 180ms/step - loss: 0.2634 - accuracy: 0.9679 - top-5-accuracy: 0.9964 - val_loss: 0.2736 - val_accuracy: 0.9429 - val_top-5-accuracy: 1.0000\n",
            "Epoch 24/50\n",
            "280/280 [==============================] - 52s 184ms/step - loss: 0.4517 - accuracy: 0.9393 - top-5-accuracy: 0.9893 - val_loss: 0.1759 - val_accuracy: 0.8857 - val_top-5-accuracy: 1.0000\n",
            "Epoch 25/50\n",
            "280/280 [==============================] - 50s 179ms/step - loss: 0.1537 - accuracy: 0.9750 - top-5-accuracy: 1.0000 - val_loss: 0.0855 - val_accuracy: 0.9714 - val_top-5-accuracy: 1.0000\n",
            "Epoch 26/50\n",
            "280/280 [==============================] - 52s 186ms/step - loss: 0.0175 - accuracy: 0.9929 - top-5-accuracy: 1.0000 - val_loss: 0.3610 - val_accuracy: 0.9429 - val_top-5-accuracy: 1.0000\n",
            "Epoch 27/50\n",
            "280/280 [==============================] - 51s 181ms/step - loss: 0.3973 - accuracy: 0.9321 - top-5-accuracy: 0.9964 - val_loss: 0.7096 - val_accuracy: 0.8857 - val_top-5-accuracy: 1.0000\n",
            "Epoch 28/50\n",
            "280/280 [==============================] - 52s 185ms/step - loss: 0.0889 - accuracy: 0.9857 - top-5-accuracy: 1.0000 - val_loss: 0.0018 - val_accuracy: 1.0000 - val_top-5-accuracy: 1.0000\n",
            "Epoch 29/50\n",
            "280/280 [==============================] - 50s 179ms/step - loss: 0.0011 - accuracy: 1.0000 - top-5-accuracy: 1.0000 - val_loss: 0.0071 - val_accuracy: 1.0000 - val_top-5-accuracy: 1.0000\n",
            "Epoch 30/50\n",
            "280/280 [==============================] - 52s 187ms/step - loss: 0.0399 - accuracy: 0.9929 - top-5-accuracy: 1.0000 - val_loss: 7.7301e-04 - val_accuracy: 1.0000 - val_top-5-accuracy: 1.0000\n",
            "Epoch 31/50\n",
            "280/280 [==============================] - 50s 180ms/step - loss: 0.0821 - accuracy: 0.9821 - top-5-accuracy: 1.0000 - val_loss: 8.6122e-04 - val_accuracy: 1.0000 - val_top-5-accuracy: 1.0000\n",
            "Epoch 32/50\n",
            "280/280 [==============================] - 52s 186ms/step - loss: 0.0537 - accuracy: 0.9857 - top-5-accuracy: 1.0000 - val_loss: 0.4561 - val_accuracy: 0.9714 - val_top-5-accuracy: 1.0000\n",
            "Epoch 33/50\n",
            "280/280 [==============================] - 50s 180ms/step - loss: 0.3706 - accuracy: 0.9393 - top-5-accuracy: 0.9964 - val_loss: 0.9584 - val_accuracy: 0.9143 - val_top-5-accuracy: 1.0000\n",
            "Epoch 34/50\n",
            "280/280 [==============================] - 52s 185ms/step - loss: 0.1678 - accuracy: 0.9643 - top-5-accuracy: 0.9929 - val_loss: 0.1831 - val_accuracy: 0.9143 - val_top-5-accuracy: 1.0000\n",
            "Epoch 35/50\n",
            "280/280 [==============================] - 50s 180ms/step - loss: 0.1359 - accuracy: 0.9714 - top-5-accuracy: 0.9964 - val_loss: 0.3523 - val_accuracy: 0.9143 - val_top-5-accuracy: 1.0000\n",
            "Epoch 36/50\n",
            "280/280 [==============================] - 51s 184ms/step - loss: 0.1382 - accuracy: 0.9750 - top-5-accuracy: 0.9964 - val_loss: 3.2781 - val_accuracy: 0.8000 - val_top-5-accuracy: 0.9429\n",
            "Epoch 37/50\n",
            "280/280 [==============================] - 50s 180ms/step - loss: 0.2127 - accuracy: 0.9750 - top-5-accuracy: 0.9964 - val_loss: 0.0608 - val_accuracy: 0.9714 - val_top-5-accuracy: 1.0000\n",
            "Epoch 38/50\n",
            "280/280 [==============================] - 52s 184ms/step - loss: 0.3502 - accuracy: 0.9679 - top-5-accuracy: 0.9929 - val_loss: 0.0458 - val_accuracy: 0.9714 - val_top-5-accuracy: 1.0000\n",
            "Epoch 39/50\n",
            "280/280 [==============================] - 58s 206ms/step - loss: 0.0187 - accuracy: 0.9964 - top-5-accuracy: 1.0000 - val_loss: 0.1147 - val_accuracy: 0.9714 - val_top-5-accuracy: 1.0000\n",
            "Epoch 40/50\n",
            "280/280 [==============================] - 50s 177ms/step - loss: 0.1412 - accuracy: 0.9643 - top-5-accuracy: 1.0000 - val_loss: 6.9725e-05 - val_accuracy: 1.0000 - val_top-5-accuracy: 1.0000\n",
            "Epoch 41/50\n",
            "280/280 [==============================] - 53s 189ms/step - loss: 0.1966 - accuracy: 0.9571 - top-5-accuracy: 1.0000 - val_loss: 0.0651 - val_accuracy: 0.9714 - val_top-5-accuracy: 1.0000\n",
            "Epoch 42/50\n",
            "280/280 [==============================] - 50s 179ms/step - loss: 0.0632 - accuracy: 0.9750 - top-5-accuracy: 0.9964 - val_loss: 0.0764 - val_accuracy: 0.9714 - val_top-5-accuracy: 1.0000\n",
            "Epoch 43/50\n",
            "280/280 [==============================] - 52s 185ms/step - loss: 0.0950 - accuracy: 0.9821 - top-5-accuracy: 0.9964 - val_loss: 0.0111 - val_accuracy: 1.0000 - val_top-5-accuracy: 1.0000\n",
            "Epoch 44/50\n",
            "280/280 [==============================] - 50s 180ms/step - loss: 0.1240 - accuracy: 0.9714 - top-5-accuracy: 1.0000 - val_loss: 1.6715e-05 - val_accuracy: 1.0000 - val_top-5-accuracy: 1.0000\n",
            "Epoch 45/50\n",
            "280/280 [==============================] - 52s 184ms/step - loss: 0.3281 - accuracy: 0.9643 - top-5-accuracy: 0.9929 - val_loss: 0.0688 - val_accuracy: 0.9714 - val_top-5-accuracy: 1.0000\n",
            "Epoch 46/50\n",
            "280/280 [==============================] - 53s 189ms/step - loss: 0.2523 - accuracy: 0.9607 - top-5-accuracy: 1.0000 - val_loss: 0.0375 - val_accuracy: 0.9714 - val_top-5-accuracy: 1.0000\n",
            "Epoch 47/50\n",
            "280/280 [==============================] - 50s 179ms/step - loss: 0.1793 - accuracy: 0.9643 - top-5-accuracy: 0.9964 - val_loss: 0.1833 - val_accuracy: 0.9714 - val_top-5-accuracy: 1.0000\n",
            "Epoch 48/50\n",
            "280/280 [==============================] - 53s 190ms/step - loss: 0.0972 - accuracy: 0.9857 - top-5-accuracy: 0.9964 - val_loss: 0.2015 - val_accuracy: 0.9714 - val_top-5-accuracy: 1.0000\n",
            "Epoch 49/50\n",
            "280/280 [==============================] - 50s 179ms/step - loss: 0.3372 - accuracy: 0.9536 - top-5-accuracy: 1.0000 - val_loss: 0.1794 - val_accuracy: 0.9429 - val_top-5-accuracy: 1.0000\n",
            "Epoch 50/50\n",
            "280/280 [==============================] - 51s 184ms/step - loss: 0.1343 - accuracy: 0.9607 - top-5-accuracy: 0.9929 - val_loss: 0.6684 - val_accuracy: 0.9429 - val_top-5-accuracy: 1.0000\n"
          ]
        }
      ]
    },
    {
      "cell_type": "code",
      "source": [
        "#Some visualizations\n",
        "import matplotlib.pyplot as plt\n",
        "#Loss\n",
        "plt.plot(history.history['loss'],label='loss')\n",
        "plt.plot(history.history['val_loss'],label='val_loss')\n",
        "plt.legend()\n",
        "plt.show()\n",
        "#Accuracy\n",
        "plt.plot(history.history['accuracy'],label='acc')\n",
        "plt.plot(history.history['val_accuracy'],label='val_acc')\n",
        "plt.legend()\n",
        "plt.show()"
      ],
      "metadata": {
        "colab": {
          "base_uri": "https://localhost:8080/",
          "height": 818
        },
        "id": "jnN7KmmniFiT",
        "outputId": "f564535b-024b-48e7-b65f-f1b96486d267"
      },
      "execution_count": 29,
      "outputs": [
        {
          "output_type": "display_data",
          "data": {
            "text/plain": [
              "<Figure size 640x480 with 1 Axes>"
            ],
            "image/svg+xml": "<?xml version=\"1.0\" encoding=\"utf-8\" standalone=\"no\"?>\n<!DOCTYPE svg PUBLIC \"-//W3C//DTD SVG 1.1//EN\"\n  \"http://www.w3.org/Graphics/SVG/1.1/DTD/svg11.dtd\">\n<svg xmlns:xlink=\"http://www.w3.org/1999/xlink\" width=\"394.423125pt\" height=\"297.190125pt\" viewBox=\"0 0 394.423125 297.190125\" xmlns=\"http://www.w3.org/2000/svg\" version=\"1.1\">\n <metadata>\n  <rdf:RDF xmlns:dc=\"http://purl.org/dc/elements/1.1/\" xmlns:cc=\"http://creativecommons.org/ns#\" xmlns:rdf=\"http://www.w3.org/1999/02/22-rdf-syntax-ns#\">\n   <cc:Work>\n    <dc:type rdf:resource=\"http://purl.org/dc/dcmitype/StillImage\"/>\n    <dc:date>2023-04-23T04:11:45.302925</dc:date>\n    <dc:format>image/svg+xml</dc:format>\n    <dc:creator>\n     <cc:Agent>\n      <dc:title>Matplotlib v3.7.1, https://matplotlib.org/</dc:title>\n     </cc:Agent>\n    </dc:creator>\n   </cc:Work>\n  </rdf:RDF>\n </metadata>\n <defs>\n  <style type=\"text/css\">*{stroke-linejoin: round; stroke-linecap: butt}</style>\n </defs>\n <g id=\"figure_1\">\n  <g id=\"patch_1\">\n   <path d=\"M 0 297.190125 \nL 394.423125 297.190125 \nL 394.423125 0 \nL 0 0 \nz\n\" style=\"fill: #ffffff\"/>\n  </g>\n  <g id=\"axes_1\">\n   <g id=\"patch_2\">\n    <path d=\"M 30.103125 273.312 \nL 387.223125 273.312 \nL 387.223125 7.2 \nL 30.103125 7.2 \nz\n\" style=\"fill: #ffffff\"/>\n   </g>\n   <g id=\"matplotlib.axis_1\">\n    <g id=\"xtick_1\">\n     <g id=\"line2d_1\">\n      <defs>\n       <path id=\"m4440ed245c\" d=\"M 0 0 \nL 0 3.5 \n\" style=\"stroke: #000000; stroke-width: 0.8\"/>\n      </defs>\n      <g>\n       <use xlink:href=\"#m4440ed245c\" x=\"46.335852\" y=\"273.312\" style=\"stroke: #000000; stroke-width: 0.8\"/>\n      </g>\n     </g>\n     <g id=\"text_1\">\n      <!-- 0 -->\n      <g transform=\"translate(43.154602 287.910437) scale(0.1 -0.1)\">\n       <defs>\n        <path id=\"DejaVuSans-30\" d=\"M 2034 4250 \nQ 1547 4250 1301 3770 \nQ 1056 3291 1056 2328 \nQ 1056 1369 1301 889 \nQ 1547 409 2034 409 \nQ 2525 409 2770 889 \nQ 3016 1369 3016 2328 \nQ 3016 3291 2770 3770 \nQ 2525 4250 2034 4250 \nz\nM 2034 4750 \nQ 2819 4750 3233 4129 \nQ 3647 3509 3647 2328 \nQ 3647 1150 3233 529 \nQ 2819 -91 2034 -91 \nQ 1250 -91 836 529 \nQ 422 1150 422 2328 \nQ 422 3509 836 4129 \nQ 1250 4750 2034 4750 \nz\n\" transform=\"scale(0.015625)\"/>\n       </defs>\n       <use xlink:href=\"#DejaVuSans-30\"/>\n      </g>\n     </g>\n    </g>\n    <g id=\"xtick_2\">\n     <g id=\"line2d_2\">\n      <g>\n       <use xlink:href=\"#m4440ed245c\" x=\"112.591882\" y=\"273.312\" style=\"stroke: #000000; stroke-width: 0.8\"/>\n      </g>\n     </g>\n     <g id=\"text_2\">\n      <!-- 10 -->\n      <g transform=\"translate(106.229382 287.910437) scale(0.1 -0.1)\">\n       <defs>\n        <path id=\"DejaVuSans-31\" d=\"M 794 531 \nL 1825 531 \nL 1825 4091 \nL 703 3866 \nL 703 4441 \nL 1819 4666 \nL 2450 4666 \nL 2450 531 \nL 3481 531 \nL 3481 0 \nL 794 0 \nL 794 531 \nz\n\" transform=\"scale(0.015625)\"/>\n       </defs>\n       <use xlink:href=\"#DejaVuSans-31\"/>\n       <use xlink:href=\"#DejaVuSans-30\" x=\"63.623047\"/>\n      </g>\n     </g>\n    </g>\n    <g id=\"xtick_3\">\n     <g id=\"line2d_3\">\n      <g>\n       <use xlink:href=\"#m4440ed245c\" x=\"178.847912\" y=\"273.312\" style=\"stroke: #000000; stroke-width: 0.8\"/>\n      </g>\n     </g>\n     <g id=\"text_3\">\n      <!-- 20 -->\n      <g transform=\"translate(172.485412 287.910437) scale(0.1 -0.1)\">\n       <defs>\n        <path id=\"DejaVuSans-32\" d=\"M 1228 531 \nL 3431 531 \nL 3431 0 \nL 469 0 \nL 469 531 \nQ 828 903 1448 1529 \nQ 2069 2156 2228 2338 \nQ 2531 2678 2651 2914 \nQ 2772 3150 2772 3378 \nQ 2772 3750 2511 3984 \nQ 2250 4219 1831 4219 \nQ 1534 4219 1204 4116 \nQ 875 4013 500 3803 \nL 500 4441 \nQ 881 4594 1212 4672 \nQ 1544 4750 1819 4750 \nQ 2544 4750 2975 4387 \nQ 3406 4025 3406 3419 \nQ 3406 3131 3298 2873 \nQ 3191 2616 2906 2266 \nQ 2828 2175 2409 1742 \nQ 1991 1309 1228 531 \nz\n\" transform=\"scale(0.015625)\"/>\n       </defs>\n       <use xlink:href=\"#DejaVuSans-32\"/>\n       <use xlink:href=\"#DejaVuSans-30\" x=\"63.623047\"/>\n      </g>\n     </g>\n    </g>\n    <g id=\"xtick_4\">\n     <g id=\"line2d_4\">\n      <g>\n       <use xlink:href=\"#m4440ed245c\" x=\"245.103941\" y=\"273.312\" style=\"stroke: #000000; stroke-width: 0.8\"/>\n      </g>\n     </g>\n     <g id=\"text_4\">\n      <!-- 30 -->\n      <g transform=\"translate(238.741441 287.910437) scale(0.1 -0.1)\">\n       <defs>\n        <path id=\"DejaVuSans-33\" d=\"M 2597 2516 \nQ 3050 2419 3304 2112 \nQ 3559 1806 3559 1356 \nQ 3559 666 3084 287 \nQ 2609 -91 1734 -91 \nQ 1441 -91 1130 -33 \nQ 819 25 488 141 \nL 488 750 \nQ 750 597 1062 519 \nQ 1375 441 1716 441 \nQ 2309 441 2620 675 \nQ 2931 909 2931 1356 \nQ 2931 1769 2642 2001 \nQ 2353 2234 1838 2234 \nL 1294 2234 \nL 1294 2753 \nL 1863 2753 \nQ 2328 2753 2575 2939 \nQ 2822 3125 2822 3475 \nQ 2822 3834 2567 4026 \nQ 2313 4219 1838 4219 \nQ 1578 4219 1281 4162 \nQ 984 4106 628 3988 \nL 628 4550 \nQ 988 4650 1302 4700 \nQ 1616 4750 1894 4750 \nQ 2613 4750 3031 4423 \nQ 3450 4097 3450 3541 \nQ 3450 3153 3228 2886 \nQ 3006 2619 2597 2516 \nz\n\" transform=\"scale(0.015625)\"/>\n       </defs>\n       <use xlink:href=\"#DejaVuSans-33\"/>\n       <use xlink:href=\"#DejaVuSans-30\" x=\"63.623047\"/>\n      </g>\n     </g>\n    </g>\n    <g id=\"xtick_5\">\n     <g id=\"line2d_5\">\n      <g>\n       <use xlink:href=\"#m4440ed245c\" x=\"311.359971\" y=\"273.312\" style=\"stroke: #000000; stroke-width: 0.8\"/>\n      </g>\n     </g>\n     <g id=\"text_5\">\n      <!-- 40 -->\n      <g transform=\"translate(304.997471 287.910437) scale(0.1 -0.1)\">\n       <defs>\n        <path id=\"DejaVuSans-34\" d=\"M 2419 4116 \nL 825 1625 \nL 2419 1625 \nL 2419 4116 \nz\nM 2253 4666 \nL 3047 4666 \nL 3047 1625 \nL 3713 1625 \nL 3713 1100 \nL 3047 1100 \nL 3047 0 \nL 2419 0 \nL 2419 1100 \nL 313 1100 \nL 313 1709 \nL 2253 4666 \nz\n\" transform=\"scale(0.015625)\"/>\n       </defs>\n       <use xlink:href=\"#DejaVuSans-34\"/>\n       <use xlink:href=\"#DejaVuSans-30\" x=\"63.623047\"/>\n      </g>\n     </g>\n    </g>\n    <g id=\"xtick_6\">\n     <g id=\"line2d_6\">\n      <g>\n       <use xlink:href=\"#m4440ed245c\" x=\"377.616001\" y=\"273.312\" style=\"stroke: #000000; stroke-width: 0.8\"/>\n      </g>\n     </g>\n     <g id=\"text_6\">\n      <!-- 50 -->\n      <g transform=\"translate(371.253501 287.910437) scale(0.1 -0.1)\">\n       <defs>\n        <path id=\"DejaVuSans-35\" d=\"M 691 4666 \nL 3169 4666 \nL 3169 4134 \nL 1269 4134 \nL 1269 2991 \nQ 1406 3038 1543 3061 \nQ 1681 3084 1819 3084 \nQ 2600 3084 3056 2656 \nQ 3513 2228 3513 1497 \nQ 3513 744 3044 326 \nQ 2575 -91 1722 -91 \nQ 1428 -91 1123 -41 \nQ 819 9 494 109 \nL 494 744 \nQ 775 591 1075 516 \nQ 1375 441 1709 441 \nQ 2250 441 2565 725 \nQ 2881 1009 2881 1497 \nQ 2881 1984 2565 2268 \nQ 2250 2553 1709 2553 \nQ 1456 2553 1204 2497 \nQ 953 2441 691 2322 \nL 691 4666 \nz\n\" transform=\"scale(0.015625)\"/>\n       </defs>\n       <use xlink:href=\"#DejaVuSans-35\"/>\n       <use xlink:href=\"#DejaVuSans-30\" x=\"63.623047\"/>\n      </g>\n     </g>\n    </g>\n   </g>\n   <g id=\"matplotlib.axis_2\">\n    <g id=\"ytick_1\">\n     <g id=\"line2d_7\">\n      <defs>\n       <path id=\"m25c941ead3\" d=\"M 0 0 \nL -3.5 0 \n\" style=\"stroke: #000000; stroke-width: 0.8\"/>\n      </defs>\n      <g>\n       <use xlink:href=\"#m25c941ead3\" x=\"30.103125\" y=\"261.217234\" style=\"stroke: #000000; stroke-width: 0.8\"/>\n      </g>\n     </g>\n     <g id=\"text_7\">\n      <!-- 0.0 -->\n      <g transform=\"translate(7.2 265.016452) scale(0.1 -0.1)\">\n       <defs>\n        <path id=\"DejaVuSans-2e\" d=\"M 684 794 \nL 1344 794 \nL 1344 0 \nL 684 0 \nL 684 794 \nz\n\" transform=\"scale(0.015625)\"/>\n       </defs>\n       <use xlink:href=\"#DejaVuSans-30\"/>\n       <use xlink:href=\"#DejaVuSans-2e\" x=\"63.623047\"/>\n       <use xlink:href=\"#DejaVuSans-30\" x=\"95.410156\"/>\n      </g>\n     </g>\n    </g>\n    <g id=\"ytick_2\">\n     <g id=\"line2d_8\">\n      <g>\n       <use xlink:href=\"#m25c941ead3\" x=\"30.103125\" y=\"224.317941\" style=\"stroke: #000000; stroke-width: 0.8\"/>\n      </g>\n     </g>\n     <g id=\"text_8\">\n      <!-- 0.5 -->\n      <g transform=\"translate(7.2 228.11716) scale(0.1 -0.1)\">\n       <use xlink:href=\"#DejaVuSans-30\"/>\n       <use xlink:href=\"#DejaVuSans-2e\" x=\"63.623047\"/>\n       <use xlink:href=\"#DejaVuSans-35\" x=\"95.410156\"/>\n      </g>\n     </g>\n    </g>\n    <g id=\"ytick_3\">\n     <g id=\"line2d_9\">\n      <g>\n       <use xlink:href=\"#m25c941ead3\" x=\"30.103125\" y=\"187.418649\" style=\"stroke: #000000; stroke-width: 0.8\"/>\n      </g>\n     </g>\n     <g id=\"text_9\">\n      <!-- 1.0 -->\n      <g transform=\"translate(7.2 191.217868) scale(0.1 -0.1)\">\n       <use xlink:href=\"#DejaVuSans-31\"/>\n       <use xlink:href=\"#DejaVuSans-2e\" x=\"63.623047\"/>\n       <use xlink:href=\"#DejaVuSans-30\" x=\"95.410156\"/>\n      </g>\n     </g>\n    </g>\n    <g id=\"ytick_4\">\n     <g id=\"line2d_10\">\n      <g>\n       <use xlink:href=\"#m25c941ead3\" x=\"30.103125\" y=\"150.519357\" style=\"stroke: #000000; stroke-width: 0.8\"/>\n      </g>\n     </g>\n     <g id=\"text_10\">\n      <!-- 1.5 -->\n      <g transform=\"translate(7.2 154.318576) scale(0.1 -0.1)\">\n       <use xlink:href=\"#DejaVuSans-31\"/>\n       <use xlink:href=\"#DejaVuSans-2e\" x=\"63.623047\"/>\n       <use xlink:href=\"#DejaVuSans-35\" x=\"95.410156\"/>\n      </g>\n     </g>\n    </g>\n    <g id=\"ytick_5\">\n     <g id=\"line2d_11\">\n      <g>\n       <use xlink:href=\"#m25c941ead3\" x=\"30.103125\" y=\"113.620065\" style=\"stroke: #000000; stroke-width: 0.8\"/>\n      </g>\n     </g>\n     <g id=\"text_11\">\n      <!-- 2.0 -->\n      <g transform=\"translate(7.2 117.419284) scale(0.1 -0.1)\">\n       <use xlink:href=\"#DejaVuSans-32\"/>\n       <use xlink:href=\"#DejaVuSans-2e\" x=\"63.623047\"/>\n       <use xlink:href=\"#DejaVuSans-30\" x=\"95.410156\"/>\n      </g>\n     </g>\n    </g>\n    <g id=\"ytick_6\">\n     <g id=\"line2d_12\">\n      <g>\n       <use xlink:href=\"#m25c941ead3\" x=\"30.103125\" y=\"76.720773\" style=\"stroke: #000000; stroke-width: 0.8\"/>\n      </g>\n     </g>\n     <g id=\"text_12\">\n      <!-- 2.5 -->\n      <g transform=\"translate(7.2 80.519992) scale(0.1 -0.1)\">\n       <use xlink:href=\"#DejaVuSans-32\"/>\n       <use xlink:href=\"#DejaVuSans-2e\" x=\"63.623047\"/>\n       <use xlink:href=\"#DejaVuSans-35\" x=\"95.410156\"/>\n      </g>\n     </g>\n    </g>\n    <g id=\"ytick_7\">\n     <g id=\"line2d_13\">\n      <g>\n       <use xlink:href=\"#m25c941ead3\" x=\"30.103125\" y=\"39.821481\" style=\"stroke: #000000; stroke-width: 0.8\"/>\n      </g>\n     </g>\n     <g id=\"text_13\">\n      <!-- 3.0 -->\n      <g transform=\"translate(7.2 43.6207) scale(0.1 -0.1)\">\n       <use xlink:href=\"#DejaVuSans-33\"/>\n       <use xlink:href=\"#DejaVuSans-2e\" x=\"63.623047\"/>\n       <use xlink:href=\"#DejaVuSans-30\" x=\"95.410156\"/>\n      </g>\n     </g>\n    </g>\n   </g>\n   <g id=\"line2d_14\">\n    <path d=\"M 46.335852 156.040724 \nL 52.961455 218.260096 \nL 59.587058 225.308379 \nL 66.212661 234.151026 \nL 72.838264 250.895719 \nL 79.463867 231.116418 \nL 86.08947 246.772754 \nL 92.715073 243.822263 \nL 99.340676 247.520561 \nL 105.966279 246.963738 \nL 112.591882 246.924224 \nL 119.217485 256.846604 \nL 125.843088 259.022575 \nL 132.468691 246.618423 \nL 139.094294 240.524466 \nL 145.719897 207.609039 \nL 152.3455 251.786157 \nL 158.971103 260.942489 \nL 165.596706 258.785445 \nL 172.222309 250.359402 \nL 178.847912 253.075216 \nL 185.473515 257.120987 \nL 192.099118 241.779002 \nL 198.724721 227.879778 \nL 205.350324 249.87787 \nL 211.975926 259.927421 \nL 218.601529 231.895325 \nL 225.227132 254.653199 \nL 231.852735 261.134136 \nL 238.478338 258.271561 \nL 245.103941 255.160536 \nL 251.729544 257.252202 \nL 258.355147 233.865623 \nL 264.98075 248.834971 \nL 271.606353 251.189899 \nL 278.231956 251.017832 \nL 284.857559 245.522594 \nL 291.483162 235.373693 \nL 298.108765 259.840305 \nL 304.734368 250.797152 \nL 311.359971 246.709065 \nL 317.985574 256.553443 \nL 324.611177 254.208522 \nL 331.23678 252.06567 \nL 337.862383 237.004297 \nL 344.487986 242.594183 \nL 351.113589 247.98411 \nL 357.739192 254.042225 \nL 364.364795 236.333766 \nL 370.990398 251.306471 \n\" clip-path=\"url(#pa1b8c4b76e)\" style=\"fill: none; stroke: #1f77b4; stroke-width: 2; stroke-linecap: square\"/>\n   </g>\n   <g id=\"line2d_15\">\n    <path d=\"M 46.335852 231.798218 \nL 52.961455 220.121906 \nL 59.587058 219.204729 \nL 66.212661 230.181926 \nL 72.838264 195.340003 \nL 79.463867 259.055953 \nL 86.08947 261.136384 \nL 92.715073 252.42658 \nL 99.340676 181.833167 \nL 105.966279 221.996635 \nL 112.591882 260.868769 \nL 119.217485 256.147924 \nL 125.843088 261.214074 \nL 132.468691 241.421336 \nL 139.094294 260.481958 \nL 145.719897 241.757971 \nL 152.3455 236.638904 \nL 158.971103 254.478707 \nL 165.596706 251.757749 \nL 172.222309 71.1519 \nL 178.847912 175.213523 \nL 185.473515 259.53836 \nL 192.099118 241.026393 \nL 198.724721 248.239624 \nL 205.350324 254.910588 \nL 211.975926 234.574418 \nL 218.601529 208.850442 \nL 225.227132 261.083123 \nL 231.852735 260.689976 \nL 238.478338 261.160186 \nL 245.103941 261.153677 \nL 251.729544 227.558182 \nL 258.355147 190.489114 \nL 264.98075 247.701828 \nL 271.606353 235.216229 \nL 278.231956 19.296 \nL 284.857559 256.730101 \nL 291.483162 257.839114 \nL 298.108765 252.750981 \nL 304.734368 261.212088 \nL 311.359971 256.410953 \nL 317.985574 255.582217 \nL 324.611177 260.401384 \nL 331.23678 261.216 \nL 337.862383 256.143463 \nL 344.487986 258.44717 \nL 351.113589 247.689607 \nL 357.739192 246.348327 \nL 364.364795 247.974899 \nL 370.990398 211.892341 \n\" clip-path=\"url(#pa1b8c4b76e)\" style=\"fill: none; stroke: #ff7f0e; stroke-width: 2; stroke-linecap: square\"/>\n   </g>\n   <g id=\"patch_3\">\n    <path d=\"M 30.103125 273.312 \nL 30.103125 7.2 \n\" style=\"fill: none; stroke: #000000; stroke-width: 0.8; stroke-linejoin: miter; stroke-linecap: square\"/>\n   </g>\n   <g id=\"patch_4\">\n    <path d=\"M 387.223125 273.312 \nL 387.223125 7.2 \n\" style=\"fill: none; stroke: #000000; stroke-width: 0.8; stroke-linejoin: miter; stroke-linecap: square\"/>\n   </g>\n   <g id=\"patch_5\">\n    <path d=\"M 30.103125 273.312 \nL 387.223125 273.312 \n\" style=\"fill: none; stroke: #000000; stroke-width: 0.8; stroke-linejoin: miter; stroke-linecap: square\"/>\n   </g>\n   <g id=\"patch_6\">\n    <path d=\"M 30.103125 7.2 \nL 387.223125 7.2 \n\" style=\"fill: none; stroke: #000000; stroke-width: 0.8; stroke-linejoin: miter; stroke-linecap: square\"/>\n   </g>\n   <g id=\"legend_1\">\n    <g id=\"patch_7\">\n     <path d=\"M 309.0825 44.834375 \nL 380.223125 44.834375 \nQ 382.223125 44.834375 382.223125 42.834375 \nL 382.223125 14.2 \nQ 382.223125 12.2 380.223125 12.2 \nL 309.0825 12.2 \nQ 307.0825 12.2 307.0825 14.2 \nL 307.0825 42.834375 \nQ 307.0825 44.834375 309.0825 44.834375 \nz\n\" style=\"fill: #ffffff; opacity: 0.8; stroke: #cccccc; stroke-linejoin: miter\"/>\n    </g>\n    <g id=\"line2d_16\">\n     <path d=\"M 311.0825 20.298437 \nL 321.0825 20.298437 \nL 331.0825 20.298437 \n\" style=\"fill: none; stroke: #1f77b4; stroke-width: 2; stroke-linecap: square\"/>\n    </g>\n    <g id=\"text_14\">\n     <!-- loss -->\n     <g transform=\"translate(339.0825 23.798437) scale(0.1 -0.1)\">\n      <defs>\n       <path id=\"DejaVuSans-6c\" d=\"M 603 4863 \nL 1178 4863 \nL 1178 0 \nL 603 0 \nL 603 4863 \nz\n\" transform=\"scale(0.015625)\"/>\n       <path id=\"DejaVuSans-6f\" d=\"M 1959 3097 \nQ 1497 3097 1228 2736 \nQ 959 2375 959 1747 \nQ 959 1119 1226 758 \nQ 1494 397 1959 397 \nQ 2419 397 2687 759 \nQ 2956 1122 2956 1747 \nQ 2956 2369 2687 2733 \nQ 2419 3097 1959 3097 \nz\nM 1959 3584 \nQ 2709 3584 3137 3096 \nQ 3566 2609 3566 1747 \nQ 3566 888 3137 398 \nQ 2709 -91 1959 -91 \nQ 1206 -91 779 398 \nQ 353 888 353 1747 \nQ 353 2609 779 3096 \nQ 1206 3584 1959 3584 \nz\n\" transform=\"scale(0.015625)\"/>\n       <path id=\"DejaVuSans-73\" d=\"M 2834 3397 \nL 2834 2853 \nQ 2591 2978 2328 3040 \nQ 2066 3103 1784 3103 \nQ 1356 3103 1142 2972 \nQ 928 2841 928 2578 \nQ 928 2378 1081 2264 \nQ 1234 2150 1697 2047 \nL 1894 2003 \nQ 2506 1872 2764 1633 \nQ 3022 1394 3022 966 \nQ 3022 478 2636 193 \nQ 2250 -91 1575 -91 \nQ 1294 -91 989 -36 \nQ 684 19 347 128 \nL 347 722 \nQ 666 556 975 473 \nQ 1284 391 1588 391 \nQ 1994 391 2212 530 \nQ 2431 669 2431 922 \nQ 2431 1156 2273 1281 \nQ 2116 1406 1581 1522 \nL 1381 1569 \nQ 847 1681 609 1914 \nQ 372 2147 372 2553 \nQ 372 3047 722 3315 \nQ 1072 3584 1716 3584 \nQ 2034 3584 2315 3537 \nQ 2597 3491 2834 3397 \nz\n\" transform=\"scale(0.015625)\"/>\n      </defs>\n      <use xlink:href=\"#DejaVuSans-6c\"/>\n      <use xlink:href=\"#DejaVuSans-6f\" x=\"27.783203\"/>\n      <use xlink:href=\"#DejaVuSans-73\" x=\"88.964844\"/>\n      <use xlink:href=\"#DejaVuSans-73\" x=\"141.064453\"/>\n     </g>\n    </g>\n    <g id=\"line2d_17\">\n     <path d=\"M 311.0825 34.976562 \nL 321.0825 34.976562 \nL 331.0825 34.976562 \n\" style=\"fill: none; stroke: #ff7f0e; stroke-width: 2; stroke-linecap: square\"/>\n    </g>\n    <g id=\"text_15\">\n     <!-- val_loss -->\n     <g transform=\"translate(339.0825 38.476562) scale(0.1 -0.1)\">\n      <defs>\n       <path id=\"DejaVuSans-76\" d=\"M 191 3500 \nL 800 3500 \nL 1894 563 \nL 2988 3500 \nL 3597 3500 \nL 2284 0 \nL 1503 0 \nL 191 3500 \nz\n\" transform=\"scale(0.015625)\"/>\n       <path id=\"DejaVuSans-61\" d=\"M 2194 1759 \nQ 1497 1759 1228 1600 \nQ 959 1441 959 1056 \nQ 959 750 1161 570 \nQ 1363 391 1709 391 \nQ 2188 391 2477 730 \nQ 2766 1069 2766 1631 \nL 2766 1759 \nL 2194 1759 \nz\nM 3341 1997 \nL 3341 0 \nL 2766 0 \nL 2766 531 \nQ 2569 213 2275 61 \nQ 1981 -91 1556 -91 \nQ 1019 -91 701 211 \nQ 384 513 384 1019 \nQ 384 1609 779 1909 \nQ 1175 2209 1959 2209 \nL 2766 2209 \nL 2766 2266 \nQ 2766 2663 2505 2880 \nQ 2244 3097 1772 3097 \nQ 1472 3097 1187 3025 \nQ 903 2953 641 2809 \nL 641 3341 \nQ 956 3463 1253 3523 \nQ 1550 3584 1831 3584 \nQ 2591 3584 2966 3190 \nQ 3341 2797 3341 1997 \nz\n\" transform=\"scale(0.015625)\"/>\n       <path id=\"DejaVuSans-5f\" d=\"M 3263 -1063 \nL 3263 -1509 \nL -63 -1509 \nL -63 -1063 \nL 3263 -1063 \nz\n\" transform=\"scale(0.015625)\"/>\n      </defs>\n      <use xlink:href=\"#DejaVuSans-76\"/>\n      <use xlink:href=\"#DejaVuSans-61\" x=\"59.179688\"/>\n      <use xlink:href=\"#DejaVuSans-6c\" x=\"120.458984\"/>\n      <use xlink:href=\"#DejaVuSans-5f\" x=\"148.242188\"/>\n      <use xlink:href=\"#DejaVuSans-6c\" x=\"198.242188\"/>\n      <use xlink:href=\"#DejaVuSans-6f\" x=\"226.025391\"/>\n      <use xlink:href=\"#DejaVuSans-73\" x=\"287.207031\"/>\n      <use xlink:href=\"#DejaVuSans-73\" x=\"339.306641\"/>\n     </g>\n    </g>\n   </g>\n  </g>\n </g>\n <defs>\n  <clipPath id=\"pa1b8c4b76e\">\n   <rect x=\"30.103125\" y=\"7.2\" width=\"357.12\" height=\"266.112\"/>\n  </clipPath>\n </defs>\n</svg>\n",
            "application/pdf": "[encoded data removed]"
          },
          "metadata": {}
        },
        {
          "output_type": "display_data",
          "data": {
            "text/plain": [
              "<Figure size 640x480 with 1 Axes>"
            ],
            "image/svg+xml": "<?xml version=\"1.0\" encoding=\"utf-8\" standalone=\"no\"?>\n<!DOCTYPE svg PUBLIC \"-//W3C//DTD SVG 1.1//EN\"\n  \"http://www.w3.org/Graphics/SVG/1.1/DTD/svg11.dtd\">\n<svg xmlns:xlink=\"http://www.w3.org/1999/xlink\" width=\"400.785625pt\" height=\"297.190125pt\" viewBox=\"0 0 400.785625 297.190125\" xmlns=\"http://www.w3.org/2000/svg\" version=\"1.1\">\n <metadata>\n  <rdf:RDF xmlns:dc=\"http://purl.org/dc/elements/1.1/\" xmlns:cc=\"http://creativecommons.org/ns#\" xmlns:rdf=\"http://www.w3.org/1999/02/22-rdf-syntax-ns#\">\n   <cc:Work>\n    <dc:type rdf:resource=\"http://purl.org/dc/dcmitype/StillImage\"/>\n    <dc:date>2023-04-23T04:11:45.725033</dc:date>\n    <dc:format>image/svg+xml</dc:format>\n    <dc:creator>\n     <cc:Agent>\n      <dc:title>Matplotlib v3.7.1, https://matplotlib.org/</dc:title>\n     </cc:Agent>\n    </dc:creator>\n   </cc:Work>\n  </rdf:RDF>\n </metadata>\n <defs>\n  <style type=\"text/css\">*{stroke-linejoin: round; stroke-linecap: butt}</style>\n </defs>\n <g id=\"figure_1\">\n  <g id=\"patch_1\">\n   <path d=\"M 0 297.190125 \nL 400.785625 297.190125 \nL 400.785625 0 \nL 0 0 \nz\n\" style=\"fill: #ffffff\"/>\n  </g>\n  <g id=\"axes_1\">\n   <g id=\"patch_2\">\n    <path d=\"M 36.465625 273.312 \nL 393.585625 273.312 \nL 393.585625 7.2 \nL 36.465625 7.2 \nz\n\" style=\"fill: #ffffff\"/>\n   </g>\n   <g id=\"matplotlib.axis_1\">\n    <g id=\"xtick_1\">\n     <g id=\"line2d_1\">\n      <defs>\n       <path id=\"m08ddddd70c\" d=\"M 0 0 \nL 0 3.5 \n\" style=\"stroke: #000000; stroke-width: 0.8\"/>\n      </defs>\n      <g>\n       <use xlink:href=\"#m08ddddd70c\" x=\"52.698352\" y=\"273.312\" style=\"stroke: #000000; stroke-width: 0.8\"/>\n      </g>\n     </g>\n     <g id=\"text_1\">\n      <!-- 0 -->\n      <g transform=\"translate(49.517102 287.910437) scale(0.1 -0.1)\">\n       <defs>\n        <path id=\"DejaVuSans-30\" d=\"M 2034 4250 \nQ 1547 4250 1301 3770 \nQ 1056 3291 1056 2328 \nQ 1056 1369 1301 889 \nQ 1547 409 2034 409 \nQ 2525 409 2770 889 \nQ 3016 1369 3016 2328 \nQ 3016 3291 2770 3770 \nQ 2525 4250 2034 4250 \nz\nM 2034 4750 \nQ 2819 4750 3233 4129 \nQ 3647 3509 3647 2328 \nQ 3647 1150 3233 529 \nQ 2819 -91 2034 -91 \nQ 1250 -91 836 529 \nQ 422 1150 422 2328 \nQ 422 3509 836 4129 \nQ 1250 4750 2034 4750 \nz\n\" transform=\"scale(0.015625)\"/>\n       </defs>\n       <use xlink:href=\"#DejaVuSans-30\"/>\n      </g>\n     </g>\n    </g>\n    <g id=\"xtick_2\">\n     <g id=\"line2d_2\">\n      <g>\n       <use xlink:href=\"#m08ddddd70c\" x=\"118.954382\" y=\"273.312\" style=\"stroke: #000000; stroke-width: 0.8\"/>\n      </g>\n     </g>\n     <g id=\"text_2\">\n      <!-- 10 -->\n      <g transform=\"translate(112.591882 287.910437) scale(0.1 -0.1)\">\n       <defs>\n        <path id=\"DejaVuSans-31\" d=\"M 794 531 \nL 1825 531 \nL 1825 4091 \nL 703 3866 \nL 703 4441 \nL 1819 4666 \nL 2450 4666 \nL 2450 531 \nL 3481 531 \nL 3481 0 \nL 794 0 \nL 794 531 \nz\n\" transform=\"scale(0.015625)\"/>\n       </defs>\n       <use xlink:href=\"#DejaVuSans-31\"/>\n       <use xlink:href=\"#DejaVuSans-30\" x=\"63.623047\"/>\n      </g>\n     </g>\n    </g>\n    <g id=\"xtick_3\">\n     <g id=\"line2d_3\">\n      <g>\n       <use xlink:href=\"#m08ddddd70c\" x=\"185.210412\" y=\"273.312\" style=\"stroke: #000000; stroke-width: 0.8\"/>\n      </g>\n     </g>\n     <g id=\"text_3\">\n      <!-- 20 -->\n      <g transform=\"translate(178.847912 287.910437) scale(0.1 -0.1)\">\n       <defs>\n        <path id=\"DejaVuSans-32\" d=\"M 1228 531 \nL 3431 531 \nL 3431 0 \nL 469 0 \nL 469 531 \nQ 828 903 1448 1529 \nQ 2069 2156 2228 2338 \nQ 2531 2678 2651 2914 \nQ 2772 3150 2772 3378 \nQ 2772 3750 2511 3984 \nQ 2250 4219 1831 4219 \nQ 1534 4219 1204 4116 \nQ 875 4013 500 3803 \nL 500 4441 \nQ 881 4594 1212 4672 \nQ 1544 4750 1819 4750 \nQ 2544 4750 2975 4387 \nQ 3406 4025 3406 3419 \nQ 3406 3131 3298 2873 \nQ 3191 2616 2906 2266 \nQ 2828 2175 2409 1742 \nQ 1991 1309 1228 531 \nz\n\" transform=\"scale(0.015625)\"/>\n       </defs>\n       <use xlink:href=\"#DejaVuSans-32\"/>\n       <use xlink:href=\"#DejaVuSans-30\" x=\"63.623047\"/>\n      </g>\n     </g>\n    </g>\n    <g id=\"xtick_4\">\n     <g id=\"line2d_4\">\n      <g>\n       <use xlink:href=\"#m08ddddd70c\" x=\"251.466441\" y=\"273.312\" style=\"stroke: #000000; stroke-width: 0.8\"/>\n      </g>\n     </g>\n     <g id=\"text_4\">\n      <!-- 30 -->\n      <g transform=\"translate(245.103941 287.910437) scale(0.1 -0.1)\">\n       <defs>\n        <path id=\"DejaVuSans-33\" d=\"M 2597 2516 \nQ 3050 2419 3304 2112 \nQ 3559 1806 3559 1356 \nQ 3559 666 3084 287 \nQ 2609 -91 1734 -91 \nQ 1441 -91 1130 -33 \nQ 819 25 488 141 \nL 488 750 \nQ 750 597 1062 519 \nQ 1375 441 1716 441 \nQ 2309 441 2620 675 \nQ 2931 909 2931 1356 \nQ 2931 1769 2642 2001 \nQ 2353 2234 1838 2234 \nL 1294 2234 \nL 1294 2753 \nL 1863 2753 \nQ 2328 2753 2575 2939 \nQ 2822 3125 2822 3475 \nQ 2822 3834 2567 4026 \nQ 2313 4219 1838 4219 \nQ 1578 4219 1281 4162 \nQ 984 4106 628 3988 \nL 628 4550 \nQ 988 4650 1302 4700 \nQ 1616 4750 1894 4750 \nQ 2613 4750 3031 4423 \nQ 3450 4097 3450 3541 \nQ 3450 3153 3228 2886 \nQ 3006 2619 2597 2516 \nz\n\" transform=\"scale(0.015625)\"/>\n       </defs>\n       <use xlink:href=\"#DejaVuSans-33\"/>\n       <use xlink:href=\"#DejaVuSans-30\" x=\"63.623047\"/>\n      </g>\n     </g>\n    </g>\n    <g id=\"xtick_5\">\n     <g id=\"line2d_5\">\n      <g>\n       <use xlink:href=\"#m08ddddd70c\" x=\"317.722471\" y=\"273.312\" style=\"stroke: #000000; stroke-width: 0.8\"/>\n      </g>\n     </g>\n     <g id=\"text_5\">\n      <!-- 40 -->\n      <g transform=\"translate(311.359971 287.910437) scale(0.1 -0.1)\">\n       <defs>\n        <path id=\"DejaVuSans-34\" d=\"M 2419 4116 \nL 825 1625 \nL 2419 1625 \nL 2419 4116 \nz\nM 2253 4666 \nL 3047 4666 \nL 3047 1625 \nL 3713 1625 \nL 3713 1100 \nL 3047 1100 \nL 3047 0 \nL 2419 0 \nL 2419 1100 \nL 313 1100 \nL 313 1709 \nL 2253 4666 \nz\n\" transform=\"scale(0.015625)\"/>\n       </defs>\n       <use xlink:href=\"#DejaVuSans-34\"/>\n       <use xlink:href=\"#DejaVuSans-30\" x=\"63.623047\"/>\n      </g>\n     </g>\n    </g>\n    <g id=\"xtick_6\">\n     <g id=\"line2d_6\">\n      <g>\n       <use xlink:href=\"#m08ddddd70c\" x=\"383.978501\" y=\"273.312\" style=\"stroke: #000000; stroke-width: 0.8\"/>\n      </g>\n     </g>\n     <g id=\"text_6\">\n      <!-- 50 -->\n      <g transform=\"translate(377.616001 287.910437) scale(0.1 -0.1)\">\n       <defs>\n        <path id=\"DejaVuSans-35\" d=\"M 691 4666 \nL 3169 4666 \nL 3169 4134 \nL 1269 4134 \nL 1269 2991 \nQ 1406 3038 1543 3061 \nQ 1681 3084 1819 3084 \nQ 2600 3084 3056 2656 \nQ 3513 2228 3513 1497 \nQ 3513 744 3044 326 \nQ 2575 -91 1722 -91 \nQ 1428 -91 1123 -41 \nQ 819 9 494 109 \nL 494 744 \nQ 775 591 1075 516 \nQ 1375 441 1709 441 \nQ 2250 441 2565 725 \nQ 2881 1009 2881 1497 \nQ 2881 1984 2565 2268 \nQ 2250 2553 1709 2553 \nQ 1456 2553 1204 2497 \nQ 953 2441 691 2322 \nL 691 4666 \nz\n\" transform=\"scale(0.015625)\"/>\n       </defs>\n       <use xlink:href=\"#DejaVuSans-35\"/>\n       <use xlink:href=\"#DejaVuSans-30\" x=\"63.623047\"/>\n      </g>\n     </g>\n    </g>\n   </g>\n   <g id=\"matplotlib.axis_2\">\n    <g id=\"ytick_1\">\n     <g id=\"line2d_7\">\n      <defs>\n       <path id=\"mb8061db399\" d=\"M 0 0 \nL -3.5 0 \n\" style=\"stroke: #000000; stroke-width: 0.8\"/>\n      </defs>\n      <g>\n       <use xlink:href=\"#mb8061db399\" x=\"36.465625\" y=\"254.030276\" style=\"stroke: #000000; stroke-width: 0.8\"/>\n      </g>\n     </g>\n     <g id=\"text_7\">\n      <!-- 0.65 -->\n      <g transform=\"translate(7.2 257.829495) scale(0.1 -0.1)\">\n       <defs>\n        <path id=\"DejaVuSans-2e\" d=\"M 684 794 \nL 1344 794 \nL 1344 0 \nL 684 0 \nL 684 794 \nz\n\" transform=\"scale(0.015625)\"/>\n        <path id=\"DejaVuSans-36\" d=\"M 2113 2584 \nQ 1688 2584 1439 2293 \nQ 1191 2003 1191 1497 \nQ 1191 994 1439 701 \nQ 1688 409 2113 409 \nQ 2538 409 2786 701 \nQ 3034 994 3034 1497 \nQ 3034 2003 2786 2293 \nQ 2538 2584 2113 2584 \nz\nM 3366 4563 \nL 3366 3988 \nQ 3128 4100 2886 4159 \nQ 2644 4219 2406 4219 \nQ 1781 4219 1451 3797 \nQ 1122 3375 1075 2522 \nQ 1259 2794 1537 2939 \nQ 1816 3084 2150 3084 \nQ 2853 3084 3261 2657 \nQ 3669 2231 3669 1497 \nQ 3669 778 3244 343 \nQ 2819 -91 2113 -91 \nQ 1303 -91 875 529 \nQ 447 1150 447 2328 \nQ 447 3434 972 4092 \nQ 1497 4750 2381 4750 \nQ 2619 4750 2861 4703 \nQ 3103 4656 3366 4563 \nz\n\" transform=\"scale(0.015625)\"/>\n       </defs>\n       <use xlink:href=\"#DejaVuSans-30\"/>\n       <use xlink:href=\"#DejaVuSans-2e\" x=\"63.623047\"/>\n       <use xlink:href=\"#DejaVuSans-36\" x=\"95.410156\"/>\n       <use xlink:href=\"#DejaVuSans-35\" x=\"159.033203\"/>\n      </g>\n     </g>\n    </g>\n    <g id=\"ytick_2\">\n     <g id=\"line2d_8\">\n      <g>\n       <use xlink:href=\"#mb8061db399\" x=\"36.465625\" y=\"220.496808\" style=\"stroke: #000000; stroke-width: 0.8\"/>\n      </g>\n     </g>\n     <g id=\"text_8\">\n      <!-- 0.70 -->\n      <g transform=\"translate(7.2 224.296027) scale(0.1 -0.1)\">\n       <defs>\n        <path id=\"DejaVuSans-37\" d=\"M 525 4666 \nL 3525 4666 \nL 3525 4397 \nL 1831 0 \nL 1172 0 \nL 2766 4134 \nL 525 4134 \nL 525 4666 \nz\n\" transform=\"scale(0.015625)\"/>\n       </defs>\n       <use xlink:href=\"#DejaVuSans-30\"/>\n       <use xlink:href=\"#DejaVuSans-2e\" x=\"63.623047\"/>\n       <use xlink:href=\"#DejaVuSans-37\" x=\"95.410156\"/>\n       <use xlink:href=\"#DejaVuSans-30\" x=\"159.033203\"/>\n      </g>\n     </g>\n    </g>\n    <g id=\"ytick_3\">\n     <g id=\"line2d_9\">\n      <g>\n       <use xlink:href=\"#mb8061db399\" x=\"36.465625\" y=\"186.96334\" style=\"stroke: #000000; stroke-width: 0.8\"/>\n      </g>\n     </g>\n     <g id=\"text_9\">\n      <!-- 0.75 -->\n      <g transform=\"translate(7.2 190.762559) scale(0.1 -0.1)\">\n       <use xlink:href=\"#DejaVuSans-30\"/>\n       <use xlink:href=\"#DejaVuSans-2e\" x=\"63.623047\"/>\n       <use xlink:href=\"#DejaVuSans-37\" x=\"95.410156\"/>\n       <use xlink:href=\"#DejaVuSans-35\" x=\"159.033203\"/>\n      </g>\n     </g>\n    </g>\n    <g id=\"ytick_4\">\n     <g id=\"line2d_10\">\n      <g>\n       <use xlink:href=\"#mb8061db399\" x=\"36.465625\" y=\"153.429872\" style=\"stroke: #000000; stroke-width: 0.8\"/>\n      </g>\n     </g>\n     <g id=\"text_10\">\n      <!-- 0.80 -->\n      <g transform=\"translate(7.2 157.229091) scale(0.1 -0.1)\">\n       <defs>\n        <path id=\"DejaVuSans-38\" d=\"M 2034 2216 \nQ 1584 2216 1326 1975 \nQ 1069 1734 1069 1313 \nQ 1069 891 1326 650 \nQ 1584 409 2034 409 \nQ 2484 409 2743 651 \nQ 3003 894 3003 1313 \nQ 3003 1734 2745 1975 \nQ 2488 2216 2034 2216 \nz\nM 1403 2484 \nQ 997 2584 770 2862 \nQ 544 3141 544 3541 \nQ 544 4100 942 4425 \nQ 1341 4750 2034 4750 \nQ 2731 4750 3128 4425 \nQ 3525 4100 3525 3541 \nQ 3525 3141 3298 2862 \nQ 3072 2584 2669 2484 \nQ 3125 2378 3379 2068 \nQ 3634 1759 3634 1313 \nQ 3634 634 3220 271 \nQ 2806 -91 2034 -91 \nQ 1263 -91 848 271 \nQ 434 634 434 1313 \nQ 434 1759 690 2068 \nQ 947 2378 1403 2484 \nz\nM 1172 3481 \nQ 1172 3119 1398 2916 \nQ 1625 2713 2034 2713 \nQ 2441 2713 2670 2916 \nQ 2900 3119 2900 3481 \nQ 2900 3844 2670 4047 \nQ 2441 4250 2034 4250 \nQ 1625 4250 1398 4047 \nQ 1172 3844 1172 3481 \nz\n\" transform=\"scale(0.015625)\"/>\n       </defs>\n       <use xlink:href=\"#DejaVuSans-30\"/>\n       <use xlink:href=\"#DejaVuSans-2e\" x=\"63.623047\"/>\n       <use xlink:href=\"#DejaVuSans-38\" x=\"95.410156\"/>\n       <use xlink:href=\"#DejaVuSans-30\" x=\"159.033203\"/>\n      </g>\n     </g>\n    </g>\n    <g id=\"ytick_5\">\n     <g id=\"line2d_11\">\n      <g>\n       <use xlink:href=\"#mb8061db399\" x=\"36.465625\" y=\"119.896404\" style=\"stroke: #000000; stroke-width: 0.8\"/>\n      </g>\n     </g>\n     <g id=\"text_11\">\n      <!-- 0.85 -->\n      <g transform=\"translate(7.2 123.695623) scale(0.1 -0.1)\">\n       <use xlink:href=\"#DejaVuSans-30\"/>\n       <use xlink:href=\"#DejaVuSans-2e\" x=\"63.623047\"/>\n       <use xlink:href=\"#DejaVuSans-38\" x=\"95.410156\"/>\n       <use xlink:href=\"#DejaVuSans-35\" x=\"159.033203\"/>\n      </g>\n     </g>\n    </g>\n    <g id=\"ytick_6\">\n     <g id=\"line2d_12\">\n      <g>\n       <use xlink:href=\"#mb8061db399\" x=\"36.465625\" y=\"86.362936\" style=\"stroke: #000000; stroke-width: 0.8\"/>\n      </g>\n     </g>\n     <g id=\"text_12\">\n      <!-- 0.90 -->\n      <g transform=\"translate(7.2 90.162155) scale(0.1 -0.1)\">\n       <defs>\n        <path id=\"DejaVuSans-39\" d=\"M 703 97 \nL 703 672 \nQ 941 559 1184 500 \nQ 1428 441 1663 441 \nQ 2288 441 2617 861 \nQ 2947 1281 2994 2138 \nQ 2813 1869 2534 1725 \nQ 2256 1581 1919 1581 \nQ 1219 1581 811 2004 \nQ 403 2428 403 3163 \nQ 403 3881 828 4315 \nQ 1253 4750 1959 4750 \nQ 2769 4750 3195 4129 \nQ 3622 3509 3622 2328 \nQ 3622 1225 3098 567 \nQ 2575 -91 1691 -91 \nQ 1453 -91 1209 -44 \nQ 966 3 703 97 \nz\nM 1959 2075 \nQ 2384 2075 2632 2365 \nQ 2881 2656 2881 3163 \nQ 2881 3666 2632 3958 \nQ 2384 4250 1959 4250 \nQ 1534 4250 1286 3958 \nQ 1038 3666 1038 3163 \nQ 1038 2656 1286 2365 \nQ 1534 2075 1959 2075 \nz\n\" transform=\"scale(0.015625)\"/>\n       </defs>\n       <use xlink:href=\"#DejaVuSans-30\"/>\n       <use xlink:href=\"#DejaVuSans-2e\" x=\"63.623047\"/>\n       <use xlink:href=\"#DejaVuSans-39\" x=\"95.410156\"/>\n       <use xlink:href=\"#DejaVuSans-30\" x=\"159.033203\"/>\n      </g>\n     </g>\n    </g>\n    <g id=\"ytick_7\">\n     <g id=\"line2d_13\">\n      <g>\n       <use xlink:href=\"#mb8061db399\" x=\"36.465625\" y=\"52.829468\" style=\"stroke: #000000; stroke-width: 0.8\"/>\n      </g>\n     </g>\n     <g id=\"text_13\">\n      <!-- 0.95 -->\n      <g transform=\"translate(7.2 56.628687) scale(0.1 -0.1)\">\n       <use xlink:href=\"#DejaVuSans-30\"/>\n       <use xlink:href=\"#DejaVuSans-2e\" x=\"63.623047\"/>\n       <use xlink:href=\"#DejaVuSans-39\" x=\"95.410156\"/>\n       <use xlink:href=\"#DejaVuSans-35\" x=\"159.033203\"/>\n      </g>\n     </g>\n    </g>\n    <g id=\"ytick_8\">\n     <g id=\"line2d_14\">\n      <g>\n       <use xlink:href=\"#mb8061db399\" x=\"36.465625\" y=\"19.296\" style=\"stroke: #000000; stroke-width: 0.8\"/>\n      </g>\n     </g>\n     <g id=\"text_14\">\n      <!-- 1.00 -->\n      <g transform=\"translate(7.2 23.095219) scale(0.1 -0.1)\">\n       <use xlink:href=\"#DejaVuSans-31\"/>\n       <use xlink:href=\"#DejaVuSans-2e\" x=\"63.623047\"/>\n       <use xlink:href=\"#DejaVuSans-30\" x=\"95.410156\"/>\n       <use xlink:href=\"#DejaVuSans-30\" x=\"159.033203\"/>\n      </g>\n     </g>\n    </g>\n   </g>\n   <g id=\"line2d_15\">\n    <path d=\"M 52.698352 261.216 \nL 59.323955 122.291651 \nL 65.949558 98.339185 \nL 72.575161 81.572427 \nL 79.200764 45.643728 \nL 85.826367 67.200971 \nL 92.45197 43.248466 \nL 99.077573 50.434213 \nL 105.703176 60.015224 \nL 112.328779 45.643728 \nL 118.954382 48.038991 \nL 125.579985 31.272233 \nL 132.205588 24.086485 \nL 138.831191 38.457981 \nL 145.456794 60.015224 \nL 152.082397 74.386679 \nL 158.708 38.457981 \nL 165.333603 19.296 \nL 171.959206 28.87701 \nL 178.584809 52.829476 \nL 185.210412 38.457981 \nL 191.836015 26.481748 \nL 198.461618 40.853243 \nL 205.087221 60.015224 \nL 211.712824 36.062718 \nL 218.338426 24.086485 \nL 224.964029 64.805709 \nL 231.589632 28.87701 \nL 238.215235 19.296 \nL 244.840838 24.086485 \nL 251.466441 31.272233 \nL 258.092044 28.87701 \nL 264.717647 60.015224 \nL 271.34325 43.248466 \nL 277.968853 38.457981 \nL 284.594456 36.062718 \nL 291.220059 36.062718 \nL 297.845662 40.853243 \nL 304.471265 21.691263 \nL 311.096868 43.248466 \nL 317.722471 48.038991 \nL 324.348074 36.062718 \nL 330.973677 31.272233 \nL 337.59928 38.457981 \nL 344.224883 43.248466 \nL 350.850486 45.643728 \nL 357.476089 43.248466 \nL 364.101692 28.87701 \nL 370.727295 50.434213 \nL 377.352898 45.643728 \n\" clip-path=\"url(#p4029f6fce0)\" style=\"fill: none; stroke: #1f77b4; stroke-width: 2; stroke-linecap: square\"/>\n   </g>\n   <g id=\"line2d_16\">\n    <path d=\"M 52.698352 134.267884 \nL 59.323955 76.781942 \nL 65.949558 76.781942 \nL 72.575161 115.105903 \nL 79.200764 95.943922 \nL 85.826367 19.296 \nL 92.45197 19.296 \nL 99.077573 57.619961 \nL 105.703176 57.619961 \nL 112.328779 57.619961 \nL 118.954382 19.296 \nL 125.579985 38.457981 \nL 132.205588 19.296 \nL 138.831191 38.457981 \nL 145.456794 19.296 \nL 152.082397 57.619961 \nL 158.708 57.619961 \nL 165.333603 38.457981 \nL 171.959206 38.457981 \nL 178.584809 115.105903 \nL 185.210412 95.943922 \nL 191.836015 38.457981 \nL 198.461618 57.619961 \nL 205.087221 95.943922 \nL 211.712824 38.457981 \nL 218.338426 57.619961 \nL 224.964029 95.943922 \nL 231.589632 19.296 \nL 238.215235 19.296 \nL 244.840838 19.296 \nL 251.466441 19.296 \nL 258.092044 38.457981 \nL 264.717647 76.781942 \nL 271.34325 76.781942 \nL 277.968853 76.781942 \nL 284.594456 153.429864 \nL 291.220059 38.457981 \nL 297.845662 38.457981 \nL 304.471265 38.457981 \nL 311.096868 19.296 \nL 317.722471 38.457981 \nL 324.348074 38.457981 \nL 330.973677 19.296 \nL 337.59928 19.296 \nL 344.224883 38.457981 \nL 350.850486 38.457981 \nL 357.476089 38.457981 \nL 364.101692 38.457981 \nL 370.727295 57.619961 \nL 377.352898 57.619961 \n\" clip-path=\"url(#p4029f6fce0)\" style=\"fill: none; stroke: #ff7f0e; stroke-width: 2; stroke-linecap: square\"/>\n   </g>\n   <g id=\"patch_3\">\n    <path d=\"M 36.465625 273.312 \nL 36.465625 7.2 \n\" style=\"fill: none; stroke: #000000; stroke-width: 0.8; stroke-linejoin: miter; stroke-linecap: square\"/>\n   </g>\n   <g id=\"patch_4\">\n    <path d=\"M 393.585625 273.312 \nL 393.585625 7.2 \n\" style=\"fill: none; stroke: #000000; stroke-width: 0.8; stroke-linejoin: miter; stroke-linecap: square\"/>\n   </g>\n   <g id=\"patch_5\">\n    <path d=\"M 36.465625 273.312 \nL 393.585625 273.312 \n\" style=\"fill: none; stroke: #000000; stroke-width: 0.8; stroke-linejoin: miter; stroke-linecap: square\"/>\n   </g>\n   <g id=\"patch_6\">\n    <path d=\"M 36.465625 7.2 \nL 393.585625 7.2 \n\" style=\"fill: none; stroke: #000000; stroke-width: 0.8; stroke-linejoin: miter; stroke-linecap: square\"/>\n   </g>\n   <g id=\"legend_1\">\n    <g id=\"patch_7\">\n     <path d=\"M 317.635625 268.312 \nL 386.585625 268.312 \nQ 388.585625 268.312 388.585625 266.312 \nL 388.585625 237.677625 \nQ 388.585625 235.677625 386.585625 235.677625 \nL 317.635625 235.677625 \nQ 315.635625 235.677625 315.635625 237.677625 \nL 315.635625 266.312 \nQ 315.635625 268.312 317.635625 268.312 \nz\n\" style=\"fill: #ffffff; opacity: 0.8; stroke: #cccccc; stroke-linejoin: miter\"/>\n    </g>\n    <g id=\"line2d_17\">\n     <path d=\"M 319.635625 243.776062 \nL 329.635625 243.776062 \nL 339.635625 243.776062 \n\" style=\"fill: none; stroke: #1f77b4; stroke-width: 2; stroke-linecap: square\"/>\n    </g>\n    <g id=\"text_15\">\n     <!-- acc -->\n     <g transform=\"translate(347.635625 247.276062) scale(0.1 -0.1)\">\n      <defs>\n       <path id=\"DejaVuSans-61\" d=\"M 2194 1759 \nQ 1497 1759 1228 1600 \nQ 959 1441 959 1056 \nQ 959 750 1161 570 \nQ 1363 391 1709 391 \nQ 2188 391 2477 730 \nQ 2766 1069 2766 1631 \nL 2766 1759 \nL 2194 1759 \nz\nM 3341 1997 \nL 3341 0 \nL 2766 0 \nL 2766 531 \nQ 2569 213 2275 61 \nQ 1981 -91 1556 -91 \nQ 1019 -91 701 211 \nQ 384 513 384 1019 \nQ 384 1609 779 1909 \nQ 1175 2209 1959 2209 \nL 2766 2209 \nL 2766 2266 \nQ 2766 2663 2505 2880 \nQ 2244 3097 1772 3097 \nQ 1472 3097 1187 3025 \nQ 903 2953 641 2809 \nL 641 3341 \nQ 956 3463 1253 3523 \nQ 1550 3584 1831 3584 \nQ 2591 3584 2966 3190 \nQ 3341 2797 3341 1997 \nz\n\" transform=\"scale(0.015625)\"/>\n       <path id=\"DejaVuSans-63\" d=\"M 3122 3366 \nL 3122 2828 \nQ 2878 2963 2633 3030 \nQ 2388 3097 2138 3097 \nQ 1578 3097 1268 2742 \nQ 959 2388 959 1747 \nQ 959 1106 1268 751 \nQ 1578 397 2138 397 \nQ 2388 397 2633 464 \nQ 2878 531 3122 666 \nL 3122 134 \nQ 2881 22 2623 -34 \nQ 2366 -91 2075 -91 \nQ 1284 -91 818 406 \nQ 353 903 353 1747 \nQ 353 2603 823 3093 \nQ 1294 3584 2113 3584 \nQ 2378 3584 2631 3529 \nQ 2884 3475 3122 3366 \nz\n\" transform=\"scale(0.015625)\"/>\n      </defs>\n      <use xlink:href=\"#DejaVuSans-61\"/>\n      <use xlink:href=\"#DejaVuSans-63\" x=\"61.279297\"/>\n      <use xlink:href=\"#DejaVuSans-63\" x=\"116.259766\"/>\n     </g>\n    </g>\n    <g id=\"line2d_18\">\n     <path d=\"M 319.635625 258.454187 \nL 329.635625 258.454187 \nL 339.635625 258.454187 \n\" style=\"fill: none; stroke: #ff7f0e; stroke-width: 2; stroke-linecap: square\"/>\n    </g>\n    <g id=\"text_16\">\n     <!-- val_acc -->\n     <g transform=\"translate(347.635625 261.954187) scale(0.1 -0.1)\">\n      <defs>\n       <path id=\"DejaVuSans-76\" d=\"M 191 3500 \nL 800 3500 \nL 1894 563 \nL 2988 3500 \nL 3597 3500 \nL 2284 0 \nL 1503 0 \nL 191 3500 \nz\n\" transform=\"scale(0.015625)\"/>\n       <path id=\"DejaVuSans-6c\" d=\"M 603 4863 \nL 1178 4863 \nL 1178 0 \nL 603 0 \nL 603 4863 \nz\n\" transform=\"scale(0.015625)\"/>\n       <path id=\"DejaVuSans-5f\" d=\"M 3263 -1063 \nL 3263 -1509 \nL -63 -1509 \nL -63 -1063 \nL 3263 -1063 \nz\n\" transform=\"scale(0.015625)\"/>\n      </defs>\n      <use xlink:href=\"#DejaVuSans-76\"/>\n      <use xlink:href=\"#DejaVuSans-61\" x=\"59.179688\"/>\n      <use xlink:href=\"#DejaVuSans-6c\" x=\"120.458984\"/>\n      <use xlink:href=\"#DejaVuSans-5f\" x=\"148.242188\"/>\n      <use xlink:href=\"#DejaVuSans-61\" x=\"198.242188\"/>\n      <use xlink:href=\"#DejaVuSans-63\" x=\"259.521484\"/>\n      <use xlink:href=\"#DejaVuSans-63\" x=\"314.501953\"/>\n     </g>\n    </g>\n   </g>\n  </g>\n </g>\n <defs>\n  <clipPath id=\"p4029f6fce0\">\n   <rect x=\"36.465625\" y=\"7.2\" width=\"357.12\" height=\"266.112\"/>\n  </clipPath>\n </defs>\n</svg>\n",
            "application/pdf": "[encoded data removed]"
          },
          "metadata": {}
        }
      ]
    },
    {
      "cell_type": "code",
      "source": [
        "vgg_classifier.summary()"
      ],
      "metadata": {
        "colab": {
          "base_uri": "https://localhost:8080/"
        },
        "id": "-i2i_Aeuk0GP",
        "outputId": "a4ddfbe6-9e44-4795-c219-dd58361e2f1b"
      },
      "execution_count": 31,
      "outputs": [
        {
          "output_type": "stream",
          "name": "stdout",
          "text": [
            "Model: \"sequential_5\"\n",
            "_________________________________________________________________\n",
            " Layer (type)                Output Shape              Param #   \n",
            "=================================================================\n",
            " data_augmentation (Sequenti  (None, 72, 72, 3)        7         \n",
            " al)                                                             \n",
            "                                                                 \n",
            " vgg16 (Functional)          (None, 2, 2, 512)         14714688  \n",
            "                                                                 \n",
            " flatten (Flatten)           (None, 2048)              0         \n",
            "                                                                 \n",
            " dense_16 (Dense)            (None, 4096)              8392704   \n",
            "                                                                 \n",
            " dropout_10 (Dropout)        (None, 4096)              0         \n",
            "                                                                 \n",
            " dense_17 (Dense)            (None, 1072)              4391984   \n",
            "                                                                 \n",
            " dropout_11 (Dropout)        (None, 1072)              0         \n",
            "                                                                 \n",
            " dense_15 (Dense)            (None, 7)                 7511      \n",
            "                                                                 \n",
            "=================================================================\n",
            "Total params: 27,506,894\n",
            "Trainable params: 12,792,199\n",
            "Non-trainable params: 14,714,695\n",
            "_________________________________________________________________\n"
          ]
        }
      ]
    },
    {
      "cell_type": "code",
      "source": [
        "probabilities = vgg_classifier.predict(x_test)\n",
        "\n",
        "y_predicted = np.argmax(probabilities, axis=1)\n",
        "\n",
        "correct = 0\n",
        "\n",
        "for i in range(len(y_predicted)):\n",
        "  if y_predicted[i] == y_test[i]:\n",
        "    correct+=1\n",
        "\n",
        "accuracy = correct/len(y_predicted)\n",
        "\n",
        "accuracy *= 100\n",
        "\n",
        "print(\"accuracy [%]: \", round(accuracy,2))\n",
        "     \n"
      ],
      "metadata": {
        "id": "ap_iswSY6hrN",
        "colab": {
          "base_uri": "https://localhost:8080/"
        },
        "outputId": "5e09d7a7-64ea-44dd-926b-215766fecaed"
      },
      "execution_count": 30,
      "outputs": [
        {
          "output_type": "stream",
          "name": "stdout",
          "text": [
            "2/2 [==============================] - 6s 282ms/step\n",
            "accuracy [%]:  94.29\n"
          ]
        }
      ]
    },
    {
      "cell_type": "code",
      "source": [],
      "metadata": {
        "id": "pTgxlf3QUZVt"
      },
      "execution_count": null,
      "outputs": []
    }
  ]
}